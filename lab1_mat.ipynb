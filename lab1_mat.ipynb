{
 "cells": [
  {
   "cell_type": "markdown",
   "id": "356d6920-adcf-45a2-98ca-f74d2d3975c0",
   "metadata": {},
   "source": [
    "Importy"
   ]
  },
  {
   "cell_type": "code",
   "execution_count": 1,
   "id": "7711bb8b-9155-4715-a74c-0c014ffa7dd0",
   "metadata": {},
   "outputs": [],
   "source": [
    "import numpy as np\n",
    "\n",
    "from math import log, log2, ceil, pow\n",
    "from typing import Tuple"
   ]
  },
  {
   "cell_type": "markdown",
   "id": "1215f908-b79d-4aa4-95b1-fa53e27578df",
   "metadata": {},
   "source": [
    "Funkcje pomocnicze"
   ]
  },
  {
   "cell_type": "code",
   "execution_count": 2,
   "id": "86261bc2-e94c-4c5d-a7b9-a49c33eb8317",
   "metadata": {},
   "outputs": [],
   "source": [
    "def generate_matrix(n_cols: int, n_rows: int):\n",
    "    # Uniform używa rozkładu jednostajnego ciągłego\n",
    "    return np.random.uniform(low=0.1, high=0.01, size=(n_rows, n_cols))"
   ]
  },
  {
   "cell_type": "code",
   "execution_count": 3,
   "id": "d266b19e-a5e1-47e4-9684-1bd577d57484",
   "metadata": {},
   "outputs": [
    {
     "data": {
      "text/plain": [
       "array([[0.08357514, 0.09362952, 0.05392814, 0.09489605, 0.01732959,\n",
       "        0.03703537, 0.01100651, 0.09432351, 0.03413961, 0.02982871],\n",
       "       [0.09223804, 0.08765576, 0.05328266, 0.0762707 , 0.06332808,\n",
       "        0.05560068, 0.09592145, 0.07098421, 0.04076128, 0.06566084],\n",
       "       [0.06784927, 0.08724678, 0.02556076, 0.09899914, 0.04610515,\n",
       "        0.09783093, 0.04874179, 0.08477984, 0.06296036, 0.08604733],\n",
       "       [0.01858845, 0.07110619, 0.0606627 , 0.05525989, 0.03632398,\n",
       "        0.0169016 , 0.03843113, 0.02118372, 0.0535755 , 0.08695217],\n",
       "       [0.09386751, 0.0225363 , 0.02718635, 0.04579262, 0.02195207,\n",
       "        0.09683424, 0.05372422, 0.07269471, 0.06572454, 0.0166799 ],\n",
       "       [0.07308039, 0.03297845, 0.04718998, 0.09044744, 0.08266402,\n",
       "        0.04370258, 0.01498597, 0.08527124, 0.0439225 , 0.01612292],\n",
       "       [0.01888692, 0.04381777, 0.0425666 , 0.04641739, 0.05386339,\n",
       "        0.06098455, 0.084737  , 0.09879141, 0.09458652, 0.01997764],\n",
       "       [0.09098572, 0.03608185, 0.03761955, 0.05026714, 0.06171603,\n",
       "        0.01128197, 0.0948987 , 0.09994743, 0.02567946, 0.09514997],\n",
       "       [0.04243758, 0.07475145, 0.05502298, 0.05463979, 0.01723959,\n",
       "        0.05156046, 0.01119444, 0.01950534, 0.02235305, 0.09226733],\n",
       "       [0.04537196, 0.0497401 , 0.07029238, 0.06456864, 0.01125468,\n",
       "        0.0163365 , 0.02059529, 0.03660934, 0.02099975, 0.05434927]])"
      ]
     },
     "execution_count": 3,
     "metadata": {},
     "output_type": "execute_result"
    }
   ],
   "source": [
    "generate_matrix(10, 10)"
   ]
  },
  {
   "cell_type": "code",
   "execution_count": 4,
   "id": "6e56cb36-4fc7-47d3-8c51-70d2dd214d85",
   "metadata": {},
   "outputs": [],
   "source": [
    "class Counter:\n",
    "    \"\"\"\n",
    "    Zliczanie wykonywanych operacji zmiennoprzecinkowych\n",
    "    \"\"\"\n",
    "    def __init__(self) -> None:\n",
    "        self.operation_counter = 0\n",
    "\n",
    "    @staticmethod\n",
    "    def count_operations(func):\n",
    "        def wrapper(self, *args, **kwargs):\n",
    "            A, B = args\n",
    "            self.operation_counter += A.size\n",
    "            return func(self, *args, **kwargs)\n",
    "        return wrapper\n",
    "    \n",
    "    @count_operations\n",
    "    def add(self, A: np.ndarray, B: np.ndarray) -> np.ndarray:\n",
    "        return A + B\n",
    "\n",
    "    @count_operations\n",
    "    def sub(self, A: np.ndarray, B: np.ndarray) -> np.ndarray:\n",
    "        return A - B\n",
    "\n",
    "    @count_operations\n",
    "    def mul(self, A: np.ndarray, B: np.ndarray) -> np.ndarray:\n",
    "        return A * B\n",
    "\n",
    "    @count_operations\n",
    "    def div(self, A: np.ndarray, B: np.ndarray) -> np.ndarray:\n",
    "        return A / B\n",
    "\n",
    "    def print_counts(self) -> None:\n",
    "        print(f\"Number of flops: {self.operation_counter}\")"
   ]
  },
  {
   "cell_type": "markdown",
   "id": "0f7d6e6b-7c60-407a-af22-98395e03ede2",
   "metadata": {},
   "source": [
    "Test"
   ]
  },
  {
   "cell_type": "code",
   "execution_count": 5,
   "id": "3423b882-b46c-499c-9b80-fb431fad9600",
   "metadata": {},
   "outputs": [
    {
     "name": "stdout",
     "output_type": "stream",
     "text": [
      "[1 2 3]\n",
      "[1 2 3]\n"
     ]
    }
   ],
   "source": [
    "counter = Counter()\n",
    "\n",
    "result = np.zeros([1, 3])\n",
    "\n",
    "mat1 = np.array([1, 2, 3])\n",
    "mat2 = np.array([1, 2, 3])\n",
    "print(mat1)\n",
    "print(mat2)\n",
    "\n",
    "result += counter.add(mat1, mat2)"
   ]
  },
  {
   "cell_type": "code",
   "execution_count": 6,
   "id": "2b509dc8-ab50-4d9b-94ab-7d7351d540a1",
   "metadata": {},
   "outputs": [
    {
     "name": "stdout",
     "output_type": "stream",
     "text": [
      "Number of flops: 3\n",
      "[[2. 4. 6.]]\n"
     ]
    }
   ],
   "source": [
    "counter.print_counts()\n",
    "print(result)"
   ]
  },
  {
   "cell_type": "markdown",
   "id": "e6f0961c-5409-4dfc-b200-2b9bce8c8f48",
   "metadata": {},
   "source": [
    "Funkcje pomocnicze"
   ]
  },
  {
   "cell_type": "code",
   "execution_count": 7,
   "id": "0af1a04a-ede5-4aba-a9c5-067cb128eab7",
   "metadata": {},
   "outputs": [],
   "source": [
    "def resize_matrix_to_2n(A: np.ndarray, B: np.ndarray) -> Tuple[np.ndarray, np.ndarray]:\n",
    "    \"\"\"\n",
    "    Zmiana wielkości macierzy\n",
    "    \"\"\"\n",
    "    size_A: Tuple[int, int] = A.shape\n",
    "    size_B: Tuple[int, int] = B.shape\n",
    "    new_height: int = 0\n",
    "    new_width: int = 0\n",
    "\n",
    "    # Height\n",
    "    if size_A[0] > size_B[0]:\n",
    "        new_height = find_next_power_of_2(size_A[0])\n",
    "    else:\n",
    "        new_height = find_next_power_of_2(size_B[0])\n",
    "\n",
    "    # Width\n",
    "    if size_A[1] > size_B[1]:\n",
    "        new_width = find_next_power_of_2(size_A[1])\n",
    "    else:\n",
    "        new_width = find_next_power_of_2(size_B[1])\n",
    "\n",
    "    # Wypełnienie zerami\n",
    "    new_A = np.pad(\n",
    "        A, [(0, new_height - size_A[0]), (0, new_width - size_A[1])], mode=\"constant\"\n",
    "    )\n",
    "    new_B = np.pad(\n",
    "        B, [(0, new_height - size_B[0]), (0, new_width - size_B[1])], mode=\"constant\"\n",
    "    )\n",
    "    return new_A, new_B\n",
    "\n",
    "def split(array: np.ndarray, n_rows: int, n_cols: int) -> Tuple:\n",
    "    \"\"\"Split a matrix into sub-matrices\"\"\"\n",
    "    r, h = array.shape\n",
    "    return (\n",
    "        array.reshape(h // n_rows, n_rows, -1, n_cols)\n",
    "        .swapaxes(1, 2)\n",
    "        .reshape(-1, n_rows, n_cols)\n",
    "    )\n",
    "\n",
    "def find_next_power_of_2(number: int) -> int:\n",
    "    \"\"\"\n",
    "    Szukiwanie kolejnej potęgi 2\n",
    "    \"\"\"\n",
    "    return 1 if number == 0 else 2 ** ceil(log2(number))"
   ]
  },
  {
   "cell_type": "markdown",
   "id": "67eb7e7f-9961-48bd-b6db-e4a604e0481f",
   "metadata": {},
   "source": [
    "Algorytm Bineta"
   ]
  },
  {
   "cell_type": "code",
   "execution_count": 8,
   "id": "46b74bae-5961-4f94-a70a-321284082a0d",
   "metadata": {},
   "outputs": [],
   "source": [
    "def binet_core_algorithm(A: np.ndarray, B: np.ndarray, counter: Counter) -> np.ndarray:\n",
    "    add = counter.add\n",
    "    mul = counter.mul\n",
    "    \n",
    "    if A.size > 1:\n",
    "        split_at = A.shape[0] // 2\n",
    "        A11, A12, A21, A22 = split(A, split_at, split_at)\n",
    "        B11, B12, B21, B22 = split(B, split_at, split_at)\n",
    "\n",
    "        C11 = add(\n",
    "            binet_core_algorithm(A11, B11, counter),\n",
    "            binet_core_algorithm(A12, B21, counter),\n",
    "        )\n",
    "        C12 = add(\n",
    "            binet_core_algorithm(A11, B12, counter),\n",
    "            binet_core_algorithm(A12, B22, counter),\n",
    "        )     \n",
    "        C21 = add(\n",
    "            binet_core_algorithm(A21, B11, counter),\n",
    "            binet_core_algorithm(A22, B21, counter),\n",
    "        )\n",
    "        \n",
    "        C22 = add(\n",
    "            binet_core_algorithm(A21, B12, counter),\n",
    "            binet_core_algorithm(A22, B22, counter),\n",
    "        )\n",
    "\n",
    "        return np.concatenate(\n",
    "            [np.concatenate([C11, C12], axis=1), np.concatenate([C21, C22], axis=1)],\n",
    "            axis=0,\n",
    "        )\n",
    "    \n",
    "    else:\n",
    "        return mul(A, B)\n",
    "\n",
    "def binet_algorithm(A: np.ndarray, B: np.ndarray, counter: Counter) -> np.ndarray:\n",
    "    new_A, new_B = resize_matrix_to_2n(A, B)\n",
    "    C = binet_core_algorithm(new_A, new_B, counter)\n",
    "    C = C[~np.all(C == 0, axis=1)]\n",
    "    C = C[:, ~np.all(C == 0, axis=0)]\n",
    "    return C\n",
    "    "
   ]
  },
  {
   "cell_type": "markdown",
   "id": "6938f252-1543-4002-b961-733a75f93d39",
   "metadata": {},
   "source": [
    "Test algorytmu Bineta"
   ]
  },
  {
   "cell_type": "code",
   "execution_count": 9,
   "id": "931504e1-996f-40d4-aa32-c0bde8c51849",
   "metadata": {},
   "outputs": [
    {
     "name": "stdout",
     "output_type": "stream",
     "text": [
      "[[0.09746297 0.0790926  0.09162308 0.06233758 0.01066092]\n",
      " [0.016854   0.07257697 0.01558693 0.04520406 0.07475859]\n",
      " [0.01278787 0.08552176 0.04854807 0.04209235 0.02049817]\n",
      " [0.02777833 0.0951213  0.08938397 0.09846343 0.09658214]\n",
      " [0.02377512 0.09390678 0.04692519 0.07810181 0.06964299]]\n",
      "[[0.08255257 0.02848268 0.08382442 0.02615063 0.02307038]\n",
      " [0.01044223 0.03422314 0.04275927 0.04627766 0.03450345]\n",
      " [0.0704721  0.03941453 0.02059787 0.0237164  0.06717057]\n",
      " [0.09955837 0.01605709 0.08784925 0.06717866 0.07568788]\n",
      " [0.09701178 0.03300376 0.03851103 0.02131589 0.0629799 ]]\n",
      "[[0.02256905 0.01044689 0.01932583 0.01279691 0.01652147]\n",
      " [0.01500056 0.00677137 0.01168734 0.00879939 0.01206965]\n",
      " [0.0115492  0.00655695 0.01021596 0.00870819 0.01098367]\n",
      " [0.02875799 0.01233819 0.02060636 0.01592165 0.02346206]\n",
      " [0.02078209 0.00929307 0.01651809 0.01281169 0.01723807]]\n",
      "[[0.02256905 0.01044689 0.01932583 0.01279691 0.01652147]\n",
      " [0.01500056 0.00677137 0.01168734 0.00879939 0.01206965]\n",
      " [0.0115492  0.00655695 0.01021596 0.00870819 0.01098367]\n",
      " [0.02875799 0.01233819 0.02060636 0.01592165 0.02346206]\n",
      " [0.02078209 0.00929307 0.01651809 0.01281169 0.01723807]]\n",
      "Are the results close: True\n"
     ]
    }
   ],
   "source": [
    "A = generate_matrix(5, 5)\n",
    "B = generate_matrix(5, 5)\n",
    "\n",
    "print(A)\n",
    "print(B)\n",
    "\n",
    "counter = Counter()\n",
    "\n",
    "result_binet = binet_algorithm(A, B, counter)\n",
    "result_numpy = A @ B\n",
    "\n",
    "print(result_binet)\n",
    "print(result_numpy)\n",
    "\n",
    "print(f\"Are the results close: {np.allclose(result_binet, result_numpy)}\")"
   ]
  },
  {
   "cell_type": "markdown",
   "id": "9a88000a-c590-4fc3-b9f5-db6e08d602a3",
   "metadata": {},
   "source": [
    "Algorytm Strassena"
   ]
  },
  {
   "cell_type": "code",
   "execution_count": 10,
   "id": "35041912-c08f-474d-84e3-fad21bed9a39",
   "metadata": {},
   "outputs": [],
   "source": [
    "def strassen_core_algorithm(A: np.ndarray, B: np.ndarray, counter: Counter) -> np.ndarray:\n",
    "    add = counter.add\n",
    "    sub = counter.sub\n",
    "    mul = counter.mul\n",
    "\n",
    "    if A.size > 1:\n",
    "        split_at = A.shape[0] // 2\n",
    "        A11, A12, A21, A22 = split(A, split_at, split_at)\n",
    "        B11, B12, B21, B22 = split(B, split_at, split_at)\n",
    "\n",
    "        P1 = strassen_core_algorithm(add(A11, A22), add(B11, B22), counter)\n",
    "        P2 = strassen_core_algorithm(add(A21, A22), B11, counter)\n",
    "        P3 = strassen_core_algorithm(A11, sub(B12, B22), counter)\n",
    "        P4 = strassen_core_algorithm(A22, sub(B21, B11), counter)\n",
    "        P5 = strassen_core_algorithm(add(A11, A12), B22, counter)\n",
    "        P6 = strassen_core_algorithm(sub(A21, A11), add(B11, B12), counter)\n",
    "        P7 = strassen_core_algorithm(sub(A12, A22), add(B21, B22), counter)\n",
    "\n",
    "        C11 = add(sub(add(P1, P4), P5), P7)\n",
    "        C12 = add(P3, P5)\n",
    "        C21 = add(P2, P4)\n",
    "        C22 = add(add(sub(P1, P2), P3), P6)\n",
    "\n",
    "        return np.concatenate(\n",
    "                    [np.concatenate([C11, C12], axis=1), np.concatenate([C21, C22], axis=1)],\n",
    "                    axis=0,\n",
    "                )\n",
    "    else:\n",
    "        return mul(A, B)\n",
    "\n",
    "def strassen_algorithm(A: np.ndarray, B: np.ndarray, counter: Counter) -> np.ndarray:\n",
    "    new_A, new_B = resize_matrix_to_2n(A, B)\n",
    "    C = strassen_core_algorithm(new_A, new_B, counter)\n",
    "    C = C[~np.all(C == 0, axis=1)]\n",
    "    C = C[:, ~np.all(C == 0, axis=0)]\n",
    "    return C\n",
    "    "
   ]
  },
  {
   "cell_type": "markdown",
   "id": "b36cd20d-556b-4f99-914e-9fa5b9271880",
   "metadata": {},
   "source": [
    "Test algorytmu Strassena"
   ]
  },
  {
   "cell_type": "code",
   "execution_count": 11,
   "id": "5ced2299-927a-4323-99e9-32e49c2dd8fc",
   "metadata": {},
   "outputs": [
    {
     "name": "stdout",
     "output_type": "stream",
     "text": [
      "[[0.0393015  0.07847878]\n",
      " [0.06836054 0.03689974]]\n",
      "[[0.01448812 0.09957443]\n",
      " [0.09785405 0.09621113]]\n",
      "[[0.00824887 0.01146396]\n",
      " [0.0046012  0.01035713]]\n",
      "[[0.00824887 0.01146396]\n",
      " [0.0046012  0.01035713]]\n",
      "Are the results close: True\n",
      "Number of flops: 25\n"
     ]
    }
   ],
   "source": [
    "A = generate_matrix(2, 2)\n",
    "B = generate_matrix(2, 2)\n",
    "\n",
    "print(A)\n",
    "print(B)\n",
    "\n",
    "counter = Counter()\n",
    "\n",
    "result_strassen = strassen_algorithm(A, B, counter)\n",
    "result_numpy = A @ B\n",
    "\n",
    "print(result_strassen)\n",
    "print(result_numpy)\n",
    "\n",
    "print(f\"Are the results close: {np.allclose(result_strassen, result_numpy)}\")\n",
    "\n",
    "counter.print_counts()"
   ]
  },
  {
   "cell_type": "code",
   "execution_count": null,
   "id": "171eceb2-aadc-4a8a-a69b-2f1782c90723",
   "metadata": {},
   "outputs": [],
   "source": [
    "import matplotlib.pyplot as plt\n",
    "from typing import List\n",
    "from time import time\n",
    "from matplotlib.ticker import FormatStrFormatter\n",
    "\n",
    "\n",
    "times_binet: List[float] = []\n",
    "flops_binet: List[int] = []\n",
    "\n",
    "power_basis = list(range(2, 11))\n",
    "powers = [2**k for k in power_basis]\n",
    "\n",
    "for k in power_basis:\n",
    "    A = np.random.rand(2**k, 2**k)\n",
    "    B = np.random.rand(2**k, 2**k)\n",
    "\n",
    "    counter = Counter()\n",
    "    start_time: float = time()\n",
    "\n",
    "    binet_algorithm(A, B, counter)\n",
    "\n",
    "    total_time: float = time() - start_time\n",
    "\n",
    "    times_binet.append(total_time)\n",
    "    flops_binet.append(counter.operation_counter)\n",
    "\n",
    "print(times_binet)"
   ]
  },
  {
   "cell_type": "code",
   "execution_count": 78,
   "id": "c6b94125-807d-4a50-9c8c-46abdb8f8c49",
   "metadata": {},
   "outputs": [
    {
     "data": {
      "text/plain": [
       "[<matplotlib.lines.Line2D at 0x7f4c108dfb80>]"
      ]
     },
     "execution_count": 78,
     "metadata": {},
     "output_type": "execute_result"
    },
    {
     "data": {
      "image/png": "[encoded data removed]",
      "text/plain": [
       "<Figure size 640x480 with 1 Axes>"
      ]
     },
     "metadata": {},
     "output_type": "display_data"
    }
   ],
   "source": [
    "plt.gca().yaxis.set_major_formatter(FormatStrFormatter(\"%d s\"))\n",
    "plt.xlabel(\"Rozmiar macierzy\")\n",
    "plt.ylabel(\"Czas\")\n",
    "plt.plot(powers, times_binet)"
   ]
  },
  {
   "cell_type": "code",
   "execution_count": null,
   "id": "60497eb4-6475-4b8d-a937-cdc8ea86bc2e",
   "metadata": {},
   "outputs": [],
   "source": [
    "plt.xlabel(\"Rozmiar macierzy\")\n",
    "plt.ylabel(\"Ilość flopsów\")\n",
    "plt.plot(powers, flops_binet)"
   ]
  },
  {
   "cell_type": "code",
   "execution_count": null,
   "id": "1d45026d-1d25-44e8-8c63-4ed355fb8ceb",
   "metadata": {},
   "outputs": [],
   "source": [
    "times_strassen: List[float] = []\n",
    "flops_strassen: List[int] = []\n",
    "\n",
    "for k in power_basis:\n",
    "    A = np.random.rand(2**k, 2**k)\n",
    "    B = np.random.rand(2**k, 2**k)\n",
    "\n",
    "    counter = Counter()\n",
    "    start_time: float = time()\n",
    "\n",
    "    strassen_algorithm(A, B, counter)\n",
    "\n",
    "    total_time: float = time() - start_time\n",
    "\n",
    "    times_strassen.append(total_time)\n",
    "    flops_strassen.append(counter.operation_counter)"
   ]
  },
  {
   "cell_type": "code",
   "execution_count": null,
   "id": "72a8ca60-4635-496f-8ceb-d7d44ae922c0",
   "metadata": {},
   "outputs": [],
   "source": [
    "plt.gca().yaxis.set_major_formatter(FormatStrFormatter(\"%d s\"))\n",
    "plt.xlabel(\"Rozmiar macierzy\")\n",
    "plt.ylabel(\"Czas\")\n",
    "plt.plot(powers, times_strassen)"
   ]
  },
  {
   "cell_type": "code",
   "execution_count": null,
   "id": "b98a1aea-e3f8-4cd3-97c9-7f8ac2f5ce29",
   "metadata": {},
   "outputs": [],
   "source": [
    "plt.xlabel(\"Rozmiar macierzy\")\n",
    "plt.ylabel(\"Ilość flopsów\")\n",
    "plt.plot(powers, flops_strassen)"
   ]
  }
 ],
 "metadata": {
  "kernelspec": {
   "display_name": "Python 3 (ipykernel)",
   "language": "python",
   "name": "python3"
  },
  "language_info": {
   "codemirror_mode": {
    "name": "ipython",
    "version": 3
   },
   "file_extension": ".py",
   "mimetype": "text/x-python",
   "name": "python",
   "nbconvert_exporter": "python",
   "pygments_lexer": "ipython3",
   "version": "3.10.4"
  }
 },
 "nbformat": 4,
 "nbformat_minor": 5
}
