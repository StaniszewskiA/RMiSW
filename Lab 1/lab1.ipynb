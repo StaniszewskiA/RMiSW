{
 "cells": [
  {
   "cell_type": "markdown",
   "id": "356d6920-adcf-45a2-98ca-f74d2d3975c0",
   "metadata": {},
   "source": [
    "Importy"
   ]
  },
  {
   "cell_type": "code",
   "execution_count": 1,
   "id": "7711bb8b-9155-4715-a74c-0c014ffa7dd0",
   "metadata": {},
   "outputs": [],
   "source": [
    "import numpy as np\n",
    "\n",
    "from math import log, log2, ceil, pow\n",
    "from typing import Tuple"
   ]
  },
  {
   "cell_type": "markdown",
   "id": "1215f908-b79d-4aa4-95b1-fa53e27578df",
   "metadata": {},
   "source": [
    "Funkcje pomocnicze"
   ]
  },
  {
   "cell_type": "code",
   "execution_count": 2,
   "id": "86261bc2-e94c-4c5d-a7b9-a49c33eb8317",
   "metadata": {},
   "outputs": [],
   "source": [
    "def generate_matrix(n_cols: int, n_rows: int):\n",
    "    # Uniform używa rozkładu jednostajnego ciągłego\n",
    "    return np.random.uniform(low=0.1, high=0.01, size=(n_rows, n_cols))"
   ]
  },
  {
   "cell_type": "code",
   "execution_count": 3,
   "id": "d266b19e-a5e1-47e4-9684-1bd577d57484",
   "metadata": {},
   "outputs": [
    {
     "data": {
      "text/plain": [
       "array([[0.08695774, 0.08585244, 0.09494223, 0.04349887, 0.03041832,\n",
       "        0.05848629, 0.08979435, 0.09591651, 0.03883596, 0.04060396],\n",
       "       [0.04502956, 0.02393053, 0.05128367, 0.06006192, 0.05913806,\n",
       "        0.03066251, 0.03700953, 0.03897903, 0.07785051, 0.03003642],\n",
       "       [0.04413846, 0.0736433 , 0.08070945, 0.04642186, 0.09639202,\n",
       "        0.04228384, 0.03523928, 0.01201423, 0.09748822, 0.02596892],\n",
       "       [0.01077626, 0.02653986, 0.08415457, 0.05891151, 0.0752427 ,\n",
       "        0.02648012, 0.03401242, 0.07216298, 0.05961596, 0.09336895],\n",
       "       [0.05031897, 0.07129736, 0.01630879, 0.0735406 , 0.08844822,\n",
       "        0.06270913, 0.04862591, 0.05518252, 0.07767609, 0.07355073],\n",
       "       [0.07343423, 0.02704952, 0.03167125, 0.03288031, 0.03700345,\n",
       "        0.05349742, 0.03195585, 0.01598608, 0.09786326, 0.06784279],\n",
       "       [0.02908788, 0.02433441, 0.08042557, 0.05600084, 0.03143953,\n",
       "        0.01334667, 0.08659033, 0.07274233, 0.07942405, 0.01299634],\n",
       "       [0.04361113, 0.01845376, 0.0108009 , 0.02240122, 0.07925833,\n",
       "        0.01920822, 0.07271721, 0.02494032, 0.09312044, 0.02548792],\n",
       "       [0.07328991, 0.05498723, 0.08663182, 0.07390364, 0.05792878,\n",
       "        0.06187934, 0.08047816, 0.0836456 , 0.06217498, 0.04547429],\n",
       "       [0.04221974, 0.09479753, 0.01290539, 0.03690782, 0.03788065,\n",
       "        0.08676086, 0.06504402, 0.01942576, 0.0379141 , 0.03360243]])"
      ]
     },
     "execution_count": 3,
     "metadata": {},
     "output_type": "execute_result"
    }
   ],
   "source": [
    "generate_matrix(10, 10)"
   ]
  },
  {
   "cell_type": "code",
   "execution_count": 4,
   "id": "6e56cb36-4fc7-47d3-8c51-70d2dd214d85",
   "metadata": {},
   "outputs": [],
   "source": [
    "class Counter:\n",
    "    \"\"\"\n",
    "    Zliczanie wykonywanych operacji zmiennoprzecinkowych\n",
    "    \"\"\"\n",
    "    def __init__(self) -> None:\n",
    "        self.operation_counter = 0\n",
    "\n",
    "    @staticmethod\n",
    "    def count_operations(func):\n",
    "        def wrapper(self, *args, **kwargs):\n",
    "            A, B = args\n",
    "            result = func(self, A, B)\n",
    "            self.operation_counter += A.size\n",
    "            return result\n",
    "        return wrapper\n",
    "    \n",
    "    @count_operations\n",
    "    def add(self, A: np.ndarray, B: np.ndarray) -> np.ndarray:\n",
    "        return A + B\n",
    "\n",
    "    @count_operations\n",
    "    def sub(self, A: np.ndarray, B: np.ndarray) -> np.ndarray:\n",
    "        return A - B\n",
    "\n",
    "    @count_operations\n",
    "    def mul(self, A: np.ndarray, B: np.ndarray) -> np.ndarray:\n",
    "        return A * B\n",
    "\n",
    "    @count_operations\n",
    "    def div(self, A: np.ndarray, B: np.ndarray) -> np.ndarray:\n",
    "        return A / B\n",
    "\n",
    "    def print_counts(self) -> None:\n",
    "        print(f\"Number of flops: {self.operation_counter}\")"
   ]
  },
  {
   "cell_type": "markdown",
   "id": "0f7d6e6b-7c60-407a-af22-98395e03ede2",
   "metadata": {},
   "source": [
    "Test"
   ]
  },
  {
   "cell_type": "code",
   "execution_count": 5,
   "id": "3423b882-b46c-499c-9b80-fb431fad9600",
   "metadata": {},
   "outputs": [
    {
     "name": "stdout",
     "output_type": "stream",
     "text": [
      "[1 2 3]\n",
      "[1 2 3]\n"
     ]
    }
   ],
   "source": [
    "counter = Counter()\n",
    "\n",
    "result = np.zeros([1, 3])\n",
    "\n",
    "mat1 = np.array([1, 2, 3])\n",
    "mat2 = np.array([1, 2, 3])\n",
    "print(mat1)\n",
    "print(mat2)\n",
    "\n",
    "result += counter.add(mat1, mat2)"
   ]
  },
  {
   "cell_type": "code",
   "execution_count": 6,
   "id": "2b509dc8-ab50-4d9b-94ab-7d7351d540a1",
   "metadata": {},
   "outputs": [
    {
     "name": "stdout",
     "output_type": "stream",
     "text": [
      "Number of flops: 3\n",
      "[[2. 4. 6.]]\n"
     ]
    }
   ],
   "source": [
    "counter.print_counts()\n",
    "print(result)"
   ]
  },
  {
   "cell_type": "markdown",
   "id": "e6f0961c-5409-4dfc-b200-2b9bce8c8f48",
   "metadata": {},
   "source": [
    "Funkcje pomocnicze"
   ]
  },
  {
   "cell_type": "code",
   "execution_count": 7,
   "id": "0af1a04a-ede5-4aba-a9c5-067cb128eab7",
   "metadata": {},
   "outputs": [],
   "source": [
    "def resize_matrix_to_2n(A: np.ndarray, B: np.ndarray) -> Tuple[np.ndarray, np.ndarray]:\n",
    "    \"\"\"\n",
    "    Zmiana wielkości macierzy\n",
    "    \"\"\"\n",
    "    size_A: Tuple[int, int] = A.shape\n",
    "    size_B: Tuple[int, int] = B.shape\n",
    "    new_height: int = 0\n",
    "    new_width: int = 0\n",
    "\n",
    "    # Height\n",
    "    if size_A[0] > size_B[0]:\n",
    "        new_height = find_next_power_of_2(size_A[0])\n",
    "    else:\n",
    "        new_height = find_next_power_of_2(size_B[0])\n",
    "\n",
    "    # Width\n",
    "    if size_A[1] > size_B[1]:\n",
    "        new_width = find_next_power_of_2(size_A[1])\n",
    "    else:\n",
    "        new_width = find_next_power_of_2(size_B[1])\n",
    "\n",
    "    # Wypełnienie zerami\n",
    "    new_A = np.pad(\n",
    "        A, [(0, new_height - size_A[0]), (0, new_width - size_A[1])], mode=\"constant\"\n",
    "    )\n",
    "    new_B = np.pad(\n",
    "        B, [(0, new_height - size_B[0]), (0, new_width - size_B[1])], mode=\"constant\"\n",
    "    )\n",
    "    return new_A, new_B\n",
    "\n",
    "def split(array: np.ndarray, n_rows: int, n_cols: int) -> Tuple:\n",
    "    \"\"\"Split a matrix into sub-matrices\"\"\"\n",
    "    r, h = array.shape\n",
    "    return (\n",
    "        array.reshape(h // n_rows, n_rows, -1, n_cols)\n",
    "        .swapaxes(1, 2)\n",
    "        .reshape(-1, n_rows, n_cols)\n",
    "    )\n",
    "\n",
    "def find_next_power_of_2(number: int) -> int:\n",
    "    \"\"\"\n",
    "    Szukanie kolejnej potęgi 2\n",
    "    \"\"\"\n",
    "    return 1 if number == 0 else 2 ** ceil(log2(number))"
   ]
  },
  {
   "cell_type": "markdown",
   "id": "c8f25a23-9a89-4402-9d6b-597b9f823263",
   "metadata": {},
   "source": [
    "Metoda tradycyjna"
   ]
  },
  {
   "cell_type": "code",
   "execution_count": 8,
   "id": "7666b16d-0d66-4d39-9ca7-379c32338f50",
   "metadata": {},
   "outputs": [],
   "source": [
    "def traditional_method(A: np.ndarray, B: np.ndarray, counter: Counter):\n",
    "    add = counter.add\n",
    "    mul = counter.mul\n",
    "    \n",
    "    rows_A, cols_A = A.shape\n",
    "    rows_B, cols_B = B.shape\n",
    "    \n",
    "    result = np.zeros((rows_A, cols_B))\n",
    "\n",
    "    for i in range(rows_A):\n",
    "        for j in range(cols_B):\n",
    "            for k in range(cols_A):\n",
    "                result[i][j] = add(result[i][j], counter.mul(A[i][k], B[k][j]))\n",
    "    \n",
    "    return result\n"
   ]
  },
  {
   "cell_type": "code",
   "execution_count": 9,
   "id": "0d8d421d-b9bb-4aa0-bb39-05962a79e211",
   "metadata": {},
   "outputs": [
    {
     "name": "stdout",
     "output_type": "stream",
     "text": [
      "[[0.04855961 0.03105826 0.09699787 0.0389771  0.09967896]\n",
      " [0.07613016 0.05093171 0.0536556  0.04605713 0.04722536]\n",
      " [0.03506217 0.05880191 0.06810251 0.02850539 0.06087481]\n",
      " [0.05552594 0.03108757 0.08312046 0.0620705  0.01155764]\n",
      " [0.06678588 0.08714924 0.02281616 0.07493892 0.08212529]]\n",
      "[[0.06654889 0.09547421 0.02665656 0.06103647 0.0515887 ]\n",
      " [0.01847471 0.04477185 0.06402244 0.08141209 0.01462639]\n",
      " [0.0240637  0.01940221 0.05257262 0.01469354 0.03097232]\n",
      " [0.0583318  0.0993184  0.07521664 0.03906312 0.05853528]\n",
      " [0.0306506  0.03191347 0.05469306 0.01408798 0.04149185]]\n",
      "[[0.01146833 0.01496094 0.01676576 0.00984451 0.01238105]\n",
      " [0.01143256 0.01667126 0.01415812 0.01204601 0.01098968]\n",
      " [0.00858712 0.01207538 0.01375311 0.00989904 0.00897254]\n",
      " [0.01024464 0.01483945 0.01314115 0.00972884 0.01000651]\n",
      " [0.01349214 0.02078456 0.01868763 0.01559095 0.01322085]]\n",
      "[[0.01146833 0.01496094 0.01676576 0.00984451 0.01238105]\n",
      " [0.01143256 0.01667126 0.01415812 0.01204601 0.01098968]\n",
      " [0.00858712 0.01207538 0.01375311 0.00989904 0.00897254]\n",
      " [0.01024464 0.01483945 0.01314115 0.00972884 0.01000651]\n",
      " [0.01349214 0.02078456 0.01868763 0.01559095 0.01322085]]\n",
      "Are the results close: True\n"
     ]
    }
   ],
   "source": [
    "A = generate_matrix(5, 5)\n",
    "B = generate_matrix(5, 5)\n",
    "\n",
    "print(A)\n",
    "print(B)\n",
    "\n",
    "counter = Counter()\n",
    "\n",
    "result_trad = traditional_method(A, B, counter)\n",
    "result_numpy = A @ B\n",
    "\n",
    "print(result_trad)\n",
    "print(result_numpy)\n",
    "\n",
    "print(f\"Are the results close: {np.allclose(result_trad, result_numpy)}\")"
   ]
  },
  {
   "cell_type": "markdown",
   "id": "67eb7e7f-9961-48bd-b6db-e4a604e0481f",
   "metadata": {},
   "source": [
    "Algorytm Bineta"
   ]
  },
  {
   "cell_type": "code",
   "execution_count": 10,
   "id": "46b74bae-5961-4f94-a70a-321284082a0d",
   "metadata": {},
   "outputs": [],
   "source": [
    "def binet_core_algorithm(A: np.ndarray, B: np.ndarray, counter: Counter) -> np.ndarray:\n",
    "    add = counter.add\n",
    "    mul = counter.mul\n",
    "    \n",
    "    if A.size > 1:\n",
    "        split_at = A.shape[0] // 2\n",
    "        A11, A12, A21, A22 = split(A, split_at, split_at)\n",
    "        B11, B12, B21, B22 = split(B, split_at, split_at)\n",
    "\n",
    "        C11 = add(\n",
    "            binet_core_algorithm(A11, B11, counter),\n",
    "            binet_core_algorithm(A12, B21, counter),\n",
    "        )\n",
    "        C12 = add(\n",
    "            binet_core_algorithm(A11, B12, counter),\n",
    "            binet_core_algorithm(A12, B22, counter),\n",
    "        )     \n",
    "        C21 = add(\n",
    "            binet_core_algorithm(A21, B11, counter),\n",
    "            binet_core_algorithm(A22, B21, counter),\n",
    "        )\n",
    "        \n",
    "        C22 = add(\n",
    "            binet_core_algorithm(A21, B12, counter),\n",
    "            binet_core_algorithm(A22, B22, counter),\n",
    "        )\n",
    "\n",
    "        return np.concatenate(\n",
    "            [np.concatenate([C11, C12], axis=1), np.concatenate([C21, C22], axis=1)],\n",
    "            axis=0,\n",
    "        )\n",
    "    \n",
    "    else:\n",
    "        return mul(A, B)\n",
    "\n",
    "def binet_algorithm(A: np.ndarray, B: np.ndarray, counter: Counter) -> np.ndarray:\n",
    "    new_A, new_B = resize_matrix_to_2n(A, B)\n",
    "    C = binet_core_algorithm(new_A, new_B, counter)\n",
    "    C = C[~np.all(C == 0, axis=1)]\n",
    "    C = C[:, ~np.all(C == 0, axis=0)]\n",
    "    return C\n",
    "    "
   ]
  },
  {
   "cell_type": "markdown",
   "id": "6938f252-1543-4002-b961-733a75f93d39",
   "metadata": {},
   "source": [
    "Test algorytmu Bineta"
   ]
  },
  {
   "cell_type": "code",
   "execution_count": 11,
   "id": "931504e1-996f-40d4-aa32-c0bde8c51849",
   "metadata": {},
   "outputs": [
    {
     "name": "stdout",
     "output_type": "stream",
     "text": [
      "[[0.05798548 0.06763982 0.04872375 0.08230107 0.09715438]\n",
      " [0.07552842 0.05311461 0.08813078 0.0825525  0.04521032]\n",
      " [0.04791363 0.06551409 0.07701004 0.06839636 0.09625339]\n",
      " [0.02269865 0.08412079 0.04217993 0.04745019 0.01825522]\n",
      " [0.08563643 0.05744257 0.08413237 0.01029348 0.04214971]]\n",
      "[[0.06529096 0.02029017 0.09695201 0.02953861 0.02327453]\n",
      " [0.04848599 0.08642717 0.08709751 0.03794848 0.09044483]\n",
      " [0.01258759 0.05704384 0.02104302 0.06173176 0.09172406]\n",
      " [0.09000363 0.02275266 0.03672427 0.07361357 0.05355822]\n",
      " [0.04945562 0.08093049 0.06166203 0.09832183 0.03771577]]\n",
      "[[0.01989105 0.01953716 0.02155155 0.02289831 0.02000855]\n",
      " [0.01828192 0.01668753 0.01962276 0.02020924 0.02077205]\n",
      " [0.0181904  0.02037335 0.02041895 0.02315414 0.02139771]\n",
      " [0.01126515 0.01269401 0.01328321 0.01175445 0.01523536]\n",
      " [0.01244646 0.01514681 0.01805319 0.01480506 0.0170465 ]]\n",
      "[[0.01989105 0.01953716 0.02155155 0.02289831 0.02000855]\n",
      " [0.01828192 0.01668753 0.01962276 0.02020924 0.02077205]\n",
      " [0.0181904  0.02037335 0.02041895 0.02315414 0.02139771]\n",
      " [0.01126515 0.01269401 0.01328321 0.01175445 0.01523536]\n",
      " [0.01244646 0.01514681 0.01805319 0.01480506 0.0170465 ]]\n",
      "Are the results close: True\n"
     ]
    }
   ],
   "source": [
    "A = generate_matrix(5, 5)\n",
    "B = generate_matrix(5, 5)\n",
    "\n",
    "print(A)\n",
    "print(B)\n",
    "\n",
    "counter = Counter()\n",
    "\n",
    "result_binet = binet_algorithm(A, B, counter)\n",
    "result_numpy = A @ B\n",
    "\n",
    "print(result_binet)\n",
    "print(result_numpy)\n",
    "\n",
    "print(f\"Are the results close: {np.allclose(result_binet, result_numpy)}\")"
   ]
  },
  {
   "cell_type": "markdown",
   "id": "9a88000a-c590-4fc3-b9f5-db6e08d602a3",
   "metadata": {},
   "source": [
    "Algorytm Strassena"
   ]
  },
  {
   "cell_type": "code",
   "execution_count": 12,
   "id": "35041912-c08f-474d-84e3-fad21bed9a39",
   "metadata": {},
   "outputs": [],
   "source": [
    "def strassen_core_algorithm(A: np.ndarray, B: np.ndarray, counter: Counter) -> np.ndarray:\n",
    "    add = counter.add\n",
    "    sub = counter.sub\n",
    "    mul = counter.mul\n",
    "\n",
    "    if A.size > 1:\n",
    "        split_at = A.shape[0] // 2\n",
    "        A11, A12, A21, A22 = split(A, split_at, split_at)\n",
    "        B11, B12, B21, B22 = split(B, split_at, split_at)\n",
    "\n",
    "        P1 = strassen_core_algorithm(add(A11, A22), add(B11, B22), counter)\n",
    "        P2 = strassen_core_algorithm(add(A21, A22), B11, counter)\n",
    "        P3 = strassen_core_algorithm(A11, sub(B12, B22), counter)\n",
    "        P4 = strassen_core_algorithm(A22, sub(B21, B11), counter)\n",
    "        P5 = strassen_core_algorithm(add(A11, A12), B22, counter)\n",
    "        P6 = strassen_core_algorithm(sub(A21, A11), add(B11, B12), counter)\n",
    "        P7 = strassen_core_algorithm(sub(A12, A22), add(B21, B22), counter)\n",
    "\n",
    "        C11 = add(sub(add(P1, P4), P5), P7)\n",
    "        C12 = add(P3, P5)\n",
    "        C21 = add(P2, P4)\n",
    "        C22 = add(add(sub(P1, P2), P3), P6)\n",
    "\n",
    "        return np.concatenate(\n",
    "                    [np.concatenate([C11, C12], axis=1), np.concatenate([C21, C22], axis=1)],\n",
    "                    axis=0,\n",
    "                )\n",
    "    else:\n",
    "        return mul(A, B)\n",
    "\n",
    "def strassen_algorithm(A: np.ndarray, B: np.ndarray, counter: Counter) -> np.ndarray:\n",
    "    new_A, new_B = resize_matrix_to_2n(A, B)\n",
    "    C = strassen_core_algorithm(new_A, new_B, counter)\n",
    "    C = C[~np.all(C == 0, axis=1)]\n",
    "    C = C[:, ~np.all(C == 0, axis=0)]\n",
    "    return C\n",
    "    "
   ]
  },
  {
   "cell_type": "markdown",
   "id": "b36cd20d-556b-4f99-914e-9fa5b9271880",
   "metadata": {},
   "source": [
    "Test algorytmu Strassena"
   ]
  },
  {
   "cell_type": "code",
   "execution_count": 13,
   "id": "5ced2299-927a-4323-99e9-32e49c2dd8fc",
   "metadata": {},
   "outputs": [
    {
     "name": "stdout",
     "output_type": "stream",
     "text": [
      "[[0.02117363 0.02762718]\n",
      " [0.02764778 0.04849165]]\n",
      "[[0.07078834 0.03721121]\n",
      " [0.05599179 0.08491284]]\n",
      "[[0.00304574 0.0031338 ]\n",
      " [0.00467227 0.00514637]]\n",
      "[[0.00304574 0.0031338 ]\n",
      " [0.00467227 0.00514637]]\n",
      "Are the results close: True\n",
      "Number of flops: 25\n"
     ]
    }
   ],
   "source": [
    "A = generate_matrix(2, 2)\n",
    "B = generate_matrix(2, 2)\n",
    "\n",
    "print(A)\n",
    "print(B)\n",
    "\n",
    "counter = Counter()\n",
    "\n",
    "result_strassen = strassen_algorithm(A, B, counter)\n",
    "result_numpy = A @ B\n",
    "\n",
    "print(result_strassen)\n",
    "print(result_numpy)\n",
    "\n",
    "print(f\"Are the results close: {np.allclose(result_strassen, result_numpy)}\")\n",
    "\n",
    "counter.print_counts()"
   ]
  },
  {
   "cell_type": "code",
   "execution_count": 14,
   "id": "df6f6ff2-f624-44d2-a998-d52ca9406ecd",
   "metadata": {},
   "outputs": [],
   "source": [
    "import matplotlib.pyplot as plt\n",
    "from time import time\n",
    "from matplotlib.ticker import FormatStrFormatter\n",
    "from typing import List\n",
    "from tqdm import tqdm\n",
    "\n",
    "times_trad: List[float] = []\n",
    "times_binet: List[float] = []\n",
    "times_strassen: List[float] = []\n",
    "\n",
    "flops_trad: List[int] = []\n",
    "flops_binet: List[int] = []\n",
    "flops_strassen: List[int] = []\n",
    "\n",
    "power_basis = list(range(2, 10))\n",
    "powers = [2**k for k in power_basis]\n",
    "\n",
    "np.random.seed(42)"
   ]
  },
  {
   "cell_type": "code",
   "execution_count": 15,
   "id": "6c7a85c2-81e7-4cfa-9eef-1d04ae046aaa",
   "metadata": {},
   "outputs": [
    {
     "name": "stderr",
     "output_type": "stream",
     "text": [
      "100%|██████████| 8/8 [03:25<00:00, 25.68s/it]\n"
     ]
    }
   ],
   "source": [
    "for k in tqdm(power_basis):\n",
    "    A = np.random.rand(2**k, 2**k)\n",
    "    B = np.random.rand(2**k, 2**k)\n",
    "\n",
    "    counter = Counter()\n",
    "    start_time: float = time()\n",
    "\n",
    "    traditional_method(A, B, counter)\n",
    "\n",
    "    total_time: float = time() - start_time\n",
    "\n",
    "    times_trad.append(total_time)\n",
    "    flops_trad.append(counter.operation_counter)"
   ]
  },
  {
   "cell_type": "code",
   "execution_count": 16,
   "id": "bb54396a-39f9-44f0-a502-2af111d7e6eb",
   "metadata": {},
   "outputs": [
    {
     "name": "stdout",
     "output_type": "stream",
     "text": [
      "268435456\n"
     ]
    },
    {
     "data": {
      "image/png": "[encoded data removed]",
      "text/plain": [
       "<Figure size 640x480 with 1 Axes>"
      ]
     },
     "metadata": {},
     "output_type": "display_data"
    }
   ],
   "source": [
    "plt.gca().yaxis.set_major_formatter(FormatStrFormatter(\"%d s\"))\n",
    "plt.xlabel(\"Rozmiar macierzy\")\n",
    "plt.ylabel(\"Czas\")\n",
    "plt.plot(powers, times_trad)\n",
    "\n",
    "print(counter.operation_counter)"
   ]
  },
  {
   "cell_type": "code",
   "execution_count": 17,
   "id": "171eceb2-aadc-4a8a-a69b-2f1782c90723",
   "metadata": {},
   "outputs": [
    {
     "name": "stderr",
     "output_type": "stream",
     "text": [
      "100%|██████████| 8/8 [07:22<00:00, 55.35s/it]\n"
     ]
    }
   ],
   "source": [
    "for k in tqdm(power_basis):\n",
    "    A = np.random.rand(2**k, 2**k)\n",
    "    B = np.random.rand(2**k, 2**k)\n",
    "\n",
    "    counter = Counter()\n",
    "    start_time: float = time()\n",
    "\n",
    "    binet_algorithm(A, B, counter)\n",
    "\n",
    "    total_time: float = time() - start_time\n",
    "\n",
    "    times_binet.append(total_time)\n",
    "    flops_binet.append(counter.operation_counter)"
   ]
  },
  {
   "cell_type": "code",
   "execution_count": 18,
   "id": "c6b94125-807d-4a50-9c8c-46abdb8f8c49",
   "metadata": {},
   "outputs": [
    {
     "name": "stdout",
     "output_type": "stream",
     "text": [
      "268173312\n"
     ]
    },
    {
     "data": {
      "image/png": "[encoded data removed]",
      "text/plain": [
       "<Figure size 640x480 with 1 Axes>"
      ]
     },
     "metadata": {},
     "output_type": "display_data"
    }
   ],
   "source": [
    "plt.gca().yaxis.set_major_formatter(FormatStrFormatter(\"%d s\"))\n",
    "plt.xlabel(\"Rozmiar macierzy\")\n",
    "plt.ylabel(\"Czas\")\n",
    "plt.plot(powers, times_binet)\n",
    "\n",
    "print(counter.operation_counter)"
   ]
  },
  {
   "cell_type": "code",
   "execution_count": null,
   "id": "1d45026d-1d25-44e8-8c63-4ed355fb8ceb",
   "metadata": {},
   "outputs": [
    {
     "name": "stderr",
     "output_type": "stream",
     "text": [
      " 88%|████████▊ | 7/8 [00:35<00:06,  6.07s/it]"
     ]
    }
   ],
   "source": [
    "for k in tqdm(power_basis):\n",
    "    A = np.random.rand(2**k, 2**k)\n",
    "    B = np.random.rand(2**k, 2**k)\n",
    "\n",
    "    counter = Counter()\n",
    "    start_time: float = time()\n",
    "\n",
    "    strassen_algorithm(A, B, counter)\n",
    "\n",
    "    total_time: float = time() - start_time\n",
    "\n",
    "    times_strassen.append(total_time)\n",
    "    flops_strassen.append(counter.operation_counter)"
   ]
  },
  {
   "cell_type": "code",
   "execution_count": 23,
   "id": "0ebbc398-537f-46b9-94c5-c9f4356d1efc",
   "metadata": {},
   "outputs": [
    {
     "name": "stdout",
     "output_type": "stream",
     "text": [
      "[247, 2017, 15271, 111505, 798967, 5666497, 247, 2017, 15271, 111505, 798967, 5666497, 39960391, 280902385, 247, 2017, 15271, 111505, 798967, 5666497, 39960391, 280902385]\n"
     ]
    }
   ],
   "source": [
    "print(times_strassen)"
   ]
  },
  {
   "cell_type": "code",
   "execution_count": 25,
   "id": "72a8ca60-4635-496f-8ceb-d7d44ae922c0",
   "metadata": {},
   "outputs": [
    {
     "ename": "ValueError",
     "evalue": "x and y must have same first dimension, but have shapes (8,) and (22,)",
     "output_type": "error",
     "traceback": [
      "\u001b[0;31m---------------------------------------------------------------------------\u001b[0m",
      "\u001b[0;31mValueError\u001b[0m                                Traceback (most recent call last)",
      "Cell \u001b[0;32mIn [25], line 4\u001b[0m\n\u001b[1;32m      2\u001b[0m plt\u001b[38;5;241m.\u001b[39mxlabel(\u001b[38;5;124m\"\u001b[39m\u001b[38;5;124mRozmiar macierzy\u001b[39m\u001b[38;5;124m\"\u001b[39m)\n\u001b[1;32m      3\u001b[0m plt\u001b[38;5;241m.\u001b[39mylabel(\u001b[38;5;124m\"\u001b[39m\u001b[38;5;124mCzas\u001b[39m\u001b[38;5;124m\"\u001b[39m)\n\u001b[0;32m----> 4\u001b[0m plt\u001b[38;5;241m.\u001b[39mplot(powers, times_strassen)\n",
      "File \u001b[0;32m/opt/jupyterhub/kernels/python3/lib/python3.10/site-packages/matplotlib/pyplot.py:2728\u001b[0m, in \u001b[0;36mplot\u001b[0;34m(scalex, scaley, data, *args, **kwargs)\u001b[0m\n\u001b[1;32m   2726\u001b[0m \u001b[38;5;129m@_copy_docstring_and_deprecators\u001b[39m(Axes\u001b[38;5;241m.\u001b[39mplot)\n\u001b[1;32m   2727\u001b[0m \u001b[38;5;28;01mdef\u001b[39;00m \u001b[38;5;21mplot\u001b[39m(\u001b[38;5;241m*\u001b[39margs, scalex\u001b[38;5;241m=\u001b[39m\u001b[38;5;28;01mTrue\u001b[39;00m, scaley\u001b[38;5;241m=\u001b[39m\u001b[38;5;28;01mTrue\u001b[39;00m, data\u001b[38;5;241m=\u001b[39m\u001b[38;5;28;01mNone\u001b[39;00m, \u001b[38;5;241m*\u001b[39m\u001b[38;5;241m*\u001b[39mkwargs):\n\u001b[0;32m-> 2728\u001b[0m     \u001b[38;5;28;01mreturn\u001b[39;00m \u001b[43mgca\u001b[49m\u001b[43m(\u001b[49m\u001b[43m)\u001b[49m\u001b[38;5;241;43m.\u001b[39;49m\u001b[43mplot\u001b[49m\u001b[43m(\u001b[49m\n\u001b[1;32m   2729\u001b[0m \u001b[43m        \u001b[49m\u001b[38;5;241;43m*\u001b[39;49m\u001b[43margs\u001b[49m\u001b[43m,\u001b[49m\u001b[43m \u001b[49m\u001b[43mscalex\u001b[49m\u001b[38;5;241;43m=\u001b[39;49m\u001b[43mscalex\u001b[49m\u001b[43m,\u001b[49m\u001b[43m \u001b[49m\u001b[43mscaley\u001b[49m\u001b[38;5;241;43m=\u001b[39;49m\u001b[43mscaley\u001b[49m\u001b[43m,\u001b[49m\n\u001b[1;32m   2730\u001b[0m \u001b[43m        \u001b[49m\u001b[38;5;241;43m*\u001b[39;49m\u001b[38;5;241;43m*\u001b[39;49m\u001b[43m(\u001b[49m\u001b[43m{\u001b[49m\u001b[38;5;124;43m\"\u001b[39;49m\u001b[38;5;124;43mdata\u001b[39;49m\u001b[38;5;124;43m\"\u001b[39;49m\u001b[43m:\u001b[49m\u001b[43m \u001b[49m\u001b[43mdata\u001b[49m\u001b[43m}\u001b[49m\u001b[43m \u001b[49m\u001b[38;5;28;43;01mif\u001b[39;49;00m\u001b[43m \u001b[49m\u001b[43mdata\u001b[49m\u001b[43m \u001b[49m\u001b[38;5;129;43;01mis\u001b[39;49;00m\u001b[43m \u001b[49m\u001b[38;5;129;43;01mnot\u001b[39;49;00m\u001b[43m \u001b[49m\u001b[38;5;28;43;01mNone\u001b[39;49;00m\u001b[43m \u001b[49m\u001b[38;5;28;43;01melse\u001b[39;49;00m\u001b[43m \u001b[49m\u001b[43m{\u001b[49m\u001b[43m}\u001b[49m\u001b[43m)\u001b[49m\u001b[43m,\u001b[49m\u001b[43m \u001b[49m\u001b[38;5;241;43m*\u001b[39;49m\u001b[38;5;241;43m*\u001b[39;49m\u001b[43mkwargs\u001b[49m\u001b[43m)\u001b[49m\n",
      "File \u001b[0;32m/opt/jupyterhub/kernels/python3/lib/python3.10/site-packages/matplotlib/axes/_axes.py:1662\u001b[0m, in \u001b[0;36mAxes.plot\u001b[0;34m(self, scalex, scaley, data, *args, **kwargs)\u001b[0m\n\u001b[1;32m   1419\u001b[0m \u001b[38;5;124;03m\"\"\"\u001b[39;00m\n\u001b[1;32m   1420\u001b[0m \u001b[38;5;124;03mPlot y versus x as lines and/or markers.\u001b[39;00m\n\u001b[1;32m   1421\u001b[0m \n\u001b[0;32m   (...)\u001b[0m\n\u001b[1;32m   1659\u001b[0m \u001b[38;5;124;03m(``'green'``) or hex strings (``'#008000'``).\u001b[39;00m\n\u001b[1;32m   1660\u001b[0m \u001b[38;5;124;03m\"\"\"\u001b[39;00m\n\u001b[1;32m   1661\u001b[0m kwargs \u001b[38;5;241m=\u001b[39m cbook\u001b[38;5;241m.\u001b[39mnormalize_kwargs(kwargs, mlines\u001b[38;5;241m.\u001b[39mLine2D)\n\u001b[0;32m-> 1662\u001b[0m lines \u001b[38;5;241m=\u001b[39m [\u001b[38;5;241m*\u001b[39m\u001b[38;5;28mself\u001b[39m\u001b[38;5;241m.\u001b[39m_get_lines(\u001b[38;5;241m*\u001b[39margs, data\u001b[38;5;241m=\u001b[39mdata, \u001b[38;5;241m*\u001b[39m\u001b[38;5;241m*\u001b[39mkwargs)]\n\u001b[1;32m   1663\u001b[0m \u001b[38;5;28;01mfor\u001b[39;00m line \u001b[38;5;129;01min\u001b[39;00m lines:\n\u001b[1;32m   1664\u001b[0m     \u001b[38;5;28mself\u001b[39m\u001b[38;5;241m.\u001b[39madd_line(line)\n",
      "File \u001b[0;32m/opt/jupyterhub/kernels/python3/lib/python3.10/site-packages/matplotlib/axes/_base.py:311\u001b[0m, in \u001b[0;36m_process_plot_var_args.__call__\u001b[0;34m(self, data, *args, **kwargs)\u001b[0m\n\u001b[1;32m    309\u001b[0m     this \u001b[38;5;241m+\u001b[39m\u001b[38;5;241m=\u001b[39m args[\u001b[38;5;241m0\u001b[39m],\n\u001b[1;32m    310\u001b[0m     args \u001b[38;5;241m=\u001b[39m args[\u001b[38;5;241m1\u001b[39m:]\n\u001b[0;32m--> 311\u001b[0m \u001b[38;5;28;01myield from\u001b[39;00m \u001b[38;5;28;43mself\u001b[39;49m\u001b[38;5;241;43m.\u001b[39;49m\u001b[43m_plot_args\u001b[49m\u001b[43m(\u001b[49m\n\u001b[1;32m    312\u001b[0m \u001b[43m    \u001b[49m\u001b[43mthis\u001b[49m\u001b[43m,\u001b[49m\u001b[43m \u001b[49m\u001b[43mkwargs\u001b[49m\u001b[43m,\u001b[49m\u001b[43m \u001b[49m\u001b[43mambiguous_fmt_datakey\u001b[49m\u001b[38;5;241;43m=\u001b[39;49m\u001b[43mambiguous_fmt_datakey\u001b[49m\u001b[43m)\u001b[49m\n",
      "File \u001b[0;32m/opt/jupyterhub/kernels/python3/lib/python3.10/site-packages/matplotlib/axes/_base.py:504\u001b[0m, in \u001b[0;36m_process_plot_var_args._plot_args\u001b[0;34m(self, tup, kwargs, return_kwargs, ambiguous_fmt_datakey)\u001b[0m\n\u001b[1;32m    501\u001b[0m     \u001b[38;5;28mself\u001b[39m\u001b[38;5;241m.\u001b[39maxes\u001b[38;5;241m.\u001b[39myaxis\u001b[38;5;241m.\u001b[39mupdate_units(y)\n\u001b[1;32m    503\u001b[0m \u001b[38;5;28;01mif\u001b[39;00m x\u001b[38;5;241m.\u001b[39mshape[\u001b[38;5;241m0\u001b[39m] \u001b[38;5;241m!=\u001b[39m y\u001b[38;5;241m.\u001b[39mshape[\u001b[38;5;241m0\u001b[39m]:\n\u001b[0;32m--> 504\u001b[0m     \u001b[38;5;28;01mraise\u001b[39;00m \u001b[38;5;167;01mValueError\u001b[39;00m(\u001b[38;5;124mf\u001b[39m\u001b[38;5;124m\"\u001b[39m\u001b[38;5;124mx and y must have same first dimension, but \u001b[39m\u001b[38;5;124m\"\u001b[39m\n\u001b[1;32m    505\u001b[0m                      \u001b[38;5;124mf\u001b[39m\u001b[38;5;124m\"\u001b[39m\u001b[38;5;124mhave shapes \u001b[39m\u001b[38;5;132;01m{\u001b[39;00mx\u001b[38;5;241m.\u001b[39mshape\u001b[38;5;132;01m}\u001b[39;00m\u001b[38;5;124m and \u001b[39m\u001b[38;5;132;01m{\u001b[39;00my\u001b[38;5;241m.\u001b[39mshape\u001b[38;5;132;01m}\u001b[39;00m\u001b[38;5;124m\"\u001b[39m)\n\u001b[1;32m    506\u001b[0m \u001b[38;5;28;01mif\u001b[39;00m x\u001b[38;5;241m.\u001b[39mndim \u001b[38;5;241m>\u001b[39m \u001b[38;5;241m2\u001b[39m \u001b[38;5;129;01mor\u001b[39;00m y\u001b[38;5;241m.\u001b[39mndim \u001b[38;5;241m>\u001b[39m \u001b[38;5;241m2\u001b[39m:\n\u001b[1;32m    507\u001b[0m     \u001b[38;5;28;01mraise\u001b[39;00m \u001b[38;5;167;01mValueError\u001b[39;00m(\u001b[38;5;124mf\u001b[39m\u001b[38;5;124m\"\u001b[39m\u001b[38;5;124mx and y can be no greater than 2D, but have \u001b[39m\u001b[38;5;124m\"\u001b[39m\n\u001b[1;32m    508\u001b[0m                      \u001b[38;5;124mf\u001b[39m\u001b[38;5;124m\"\u001b[39m\u001b[38;5;124mshapes \u001b[39m\u001b[38;5;132;01m{\u001b[39;00mx\u001b[38;5;241m.\u001b[39mshape\u001b[38;5;132;01m}\u001b[39;00m\u001b[38;5;124m and \u001b[39m\u001b[38;5;132;01m{\u001b[39;00my\u001b[38;5;241m.\u001b[39mshape\u001b[38;5;132;01m}\u001b[39;00m\u001b[38;5;124m\"\u001b[39m)\n",
      "\u001b[0;31mValueError\u001b[0m: x and y must have same first dimension, but have shapes (8,) and (22,)"
     ]
    },
    {
     "data": {
      "image/png": "[encoded data removed]",
      "text/plain": [
       "<Figure size 640x480 with 1 Axes>"
      ]
     },
     "metadata": {},
     "output_type": "display_data"
    }
   ],
   "source": [
    "plt.gca().yaxis.set_major_formatter(FormatStrFormatter(\"%d s\"))\n",
    "plt.xlabel(\"Rozmiar macierzy\")\n",
    "plt.ylabel(\"Czas\")\n",
    "plt.plot(powers, times_strassen)\n"
   ]
  },
  {
   "cell_type": "code",
   "execution_count": 26,
   "id": "1a0f126d-9d1b-46ad-81bd-0531adc3d3ed",
   "metadata": {},
   "outputs": [
    {
     "name": "stdout",
     "output_type": "stream",
     "text": [
      "Czas przemnażania dwóch macierzy o wymiarach 512x512 metodą tradycyjną: 177.09 sekund\n",
      "Czas przemnażania dwóch macierzy o wymiarach 512x512 metodą Bineta: 378.46 sekund\n",
      "Czas przemnażania dwóch macierzy o wymiarach 512x512 metodą Strassena: 208.07 sekund\n"
     ]
    }
   ],
   "source": [
    "print(f\"Czas przemnażania dwóch macierzy o wymiarach {powers[-1]}x{powers[-1]} metodą tradycyjną: {times_trad[-1]:.2f} sekund\")\n",
    "print(f\"Czas przemnażania dwóch macierzy o wymiarach {powers[-1]}x{powers[-1]} metodą Bineta: {times_binet[-1]:.2f} sekund\")\n",
    "print(f\"Czas przemnażania dwóch macierzy o wymiarach {powers[-1]}x{powers[-1]} metodą Strassena: {times_strassen[-1]:.2f} sekund\")"
   ]
  },
  {
   "cell_type": "code",
   "execution_count": 28,
   "id": "0c03caf4-6b6d-47d3-8762-baf1a00d12ff",
   "metadata": {},
   "outputs": [
    {
     "name": "stdout",
     "output_type": "stream",
     "text": [
      "Ilość operacji zmniennoprzecinkowych wykonanych podczas przemnażania dwóch macierzy o wymiarach 512x512 metodą tradycyjną: 268435456\n",
      "Ilość operacji zmniennoprzecinkowych wykonanych podczas przemnażania dwóch macierzy o wymiarach 512x512 metodą Bineta 268173312\n",
      "Ilość operacji zmniennoprzecinkowych wykonanych podczas przemnażania dwóch macierzy o wymiarach 512x512 metodą Strassena <bound method Counter.print_counts of <__main__.Counter object at 0x7f9cc50019c0>>\n"
     ]
    }
   ],
   "source": [
    "print(f\"Ilość operacji zmniennoprzecinkowych wykonanych podczas przemnażania dwóch macierzy o wymiarach {powers[-1]}x{powers[-1]} metodą tradycyjną: {flops_trad[-1]}\")\n",
    "print(f\"Ilość operacji zmniennoprzecinkowych wykonanych podczas przemnażania dwóch macierzy o wymiarach {powers[-1]}x{powers[-1]} metodą Bineta {flops_binet[-1]}\")\n",
    "print(f\"Ilość operacji zmniennoprzecinkowych wykonanych podczas przemnażania dwóch macierzy o wymiarach {powers[-1]}x{powers[-1]} metodą Strassena {flops_strassen[-1]}\")"
   ]
  },
  {
   "cell_type": "code",
   "execution_count": null,
   "id": "aaca87b9-81e8-442e-941a-b2c28d9f9b54",
   "metadata": {},
   "outputs": [],
   "source": []
  }
 ],
 "metadata": {
  "kernelspec": {
   "display_name": "Python 3 (ipykernel)",
   "language": "python",
   "name": "python3"
  },
  "language_info": {
   "codemirror_mode": {
    "name": "ipython",
    "version": 3
   },
   "file_extension": ".py",
   "mimetype": "text/x-python",
   "name": "python",
   "nbconvert_exporter": "python",
   "pygments_lexer": "ipython3",
   "version": "3.10.4"
  }
 },
 "nbformat": 4,
 "nbformat_minor": 5
}
