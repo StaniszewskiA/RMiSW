{
 "cells": [
  {
   "cell_type": "markdown",
   "id": "356d6920-adcf-45a2-98ca-f74d2d3975c0",
   "metadata": {},
   "source": [
    "Importy"
   ]
  },
  {
   "cell_type": "code",
   "execution_count": 1,
   "id": "7711bb8b-9155-4715-a74c-0c014ffa7dd0",
   "metadata": {},
   "outputs": [],
   "source": [
    "import numpy as np\n",
    "\n",
    "from math import log, log2, ceil, pow\n",
    "from typing import Tuple"
   ]
  },
  {
   "cell_type": "markdown",
   "id": "1215f908-b79d-4aa4-95b1-fa53e27578df",
   "metadata": {},
   "source": [
    "Funkcje pomocnicze"
   ]
  },
  {
   "cell_type": "code",
   "execution_count": 2,
   "id": "86261bc2-e94c-4c5d-a7b9-a49c33eb8317",
   "metadata": {},
   "outputs": [],
   "source": [
    "def generate_matrix(n_cols: int, n_rows: int):\n",
    "    # Uniform używa rozkładu jednostajnego ciągłego\n",
    "    return np.random.uniform(low=0.1, high=0.01, size=(n_rows, n_cols))"
   ]
  },
  {
   "cell_type": "code",
   "execution_count": 3,
   "id": "d266b19e-a5e1-47e4-9684-1bd577d57484",
   "metadata": {},
   "outputs": [
    {
     "data": {
      "text/plain": [
       "array([[0.04132335, 0.06588616, 0.01876531, 0.01580718, 0.06389306,\n",
       "        0.09046545, 0.06290329, 0.07862943, 0.01449777, 0.03731174],\n",
       "       [0.05625217, 0.05074259, 0.02657358, 0.06567922, 0.02504317,\n",
       "        0.08689055, 0.01472792, 0.06887727, 0.01671878, 0.03736096],\n",
       "       [0.04484688, 0.07419394, 0.06939691, 0.0452277 , 0.09593462,\n",
       "        0.05475394, 0.07079886, 0.09212014, 0.03969111, 0.0868644 ],\n",
       "       [0.07241628, 0.07168676, 0.06438854, 0.02106768, 0.05675493,\n",
       "        0.07917878, 0.0999414 , 0.04819537, 0.08506623, 0.0787227 ],\n",
       "       [0.08608096, 0.05435204, 0.07899142, 0.04282656, 0.01550397,\n",
       "        0.09234168, 0.09057839, 0.01680014, 0.08376537, 0.08408624],\n",
       "       [0.07362591, 0.02780925, 0.02954509, 0.01334005, 0.03167874,\n",
       "        0.08311088, 0.05329586, 0.01985239, 0.05101746, 0.02874886],\n",
       "       [0.01590709, 0.04079248, 0.06821397, 0.07511608, 0.04747576,\n",
       "        0.09173226, 0.0941165 , 0.09212091, 0.01867446, 0.09203087],\n",
       "       [0.06992608, 0.0711107 , 0.08574884, 0.02015652, 0.0635277 ,\n",
       "        0.03722468, 0.01575791, 0.04760991, 0.02246319, 0.03387057],\n",
       "       [0.09816994, 0.06270757, 0.05711548, 0.0870074 , 0.02459364,\n",
       "        0.06898934, 0.01348067, 0.02387579, 0.08181635, 0.08147754],\n",
       "       [0.06344708, 0.06366376, 0.08379596, 0.08590803, 0.05897062,\n",
       "        0.07052593, 0.09165127, 0.09317275, 0.07920698, 0.05212946]])"
      ]
     },
     "execution_count": 3,
     "metadata": {},
     "output_type": "execute_result"
    }
   ],
   "source": [
    "generate_matrix(10, 10)"
   ]
  },
  {
   "cell_type": "code",
   "execution_count": 4,
   "id": "6e56cb36-4fc7-47d3-8c51-70d2dd214d85",
   "metadata": {},
   "outputs": [],
   "source": [
    "class Counter:\n",
    "    \"\"\"\n",
    "    Zliczanie wykonywanych operacji zmiennoprzecinkowych\n",
    "    \"\"\"\n",
    "    def __init__(self) -> None:\n",
    "        self.operation_counter = 0\n",
    "\n",
    "    @staticmethod\n",
    "    def count_operations(func):\n",
    "        def wrapper(self, *args, **kwargs):\n",
    "            A, B = args\n",
    "            self.operation_counter += A.size\n",
    "            return func(self, *args, **kwargs)\n",
    "        return wrapper\n",
    "    \n",
    "    @count_operations\n",
    "    def add(self, A: np.ndarray, B: np.ndarray) -> np.ndarray:\n",
    "        return A + B\n",
    "\n",
    "    @count_operations\n",
    "    def sub(self, A: np.ndarray, B: np.ndarray) -> np.ndarray:\n",
    "        return A - B\n",
    "\n",
    "    @count_operations\n",
    "    def mul(self, A: np.ndarray, B: np.ndarray) -> np.ndarray:\n",
    "        return A * B\n",
    "\n",
    "    @count_operations\n",
    "    def div(self, A: np.ndarray, B: np.ndarray) -> np.ndarray:\n",
    "        return A / B\n",
    "\n",
    "    def print_counts(self) -> None:\n",
    "        print(f\"Number of flops: {self.operation_counter}\")"
   ]
  },
  {
   "cell_type": "markdown",
   "id": "0f7d6e6b-7c60-407a-af22-98395e03ede2",
   "metadata": {},
   "source": [
    "Test"
   ]
  },
  {
   "cell_type": "code",
   "execution_count": 5,
   "id": "3423b882-b46c-499c-9b80-fb431fad9600",
   "metadata": {},
   "outputs": [
    {
     "name": "stdout",
     "output_type": "stream",
     "text": [
      "[1 2 3]\n",
      "[1 2 3]\n"
     ]
    }
   ],
   "source": [
    "counter = Counter()\n",
    "\n",
    "result = np.zeros([1, 3])\n",
    "\n",
    "mat1 = np.array([1, 2, 3])\n",
    "mat2 = np.array([1, 2, 3])\n",
    "print(mat1)\n",
    "print(mat2)\n",
    "\n",
    "result += counter.add(mat1, mat2)"
   ]
  },
  {
   "cell_type": "code",
   "execution_count": 6,
   "id": "2b509dc8-ab50-4d9b-94ab-7d7351d540a1",
   "metadata": {},
   "outputs": [
    {
     "name": "stdout",
     "output_type": "stream",
     "text": [
      "Number of flops: 3\n",
      "[[2. 4. 6.]]\n"
     ]
    }
   ],
   "source": [
    "counter.print_counts()\n",
    "print(result)"
   ]
  },
  {
   "cell_type": "markdown",
   "id": "e6f0961c-5409-4dfc-b200-2b9bce8c8f48",
   "metadata": {},
   "source": [
    "Funkcje pomocnicze"
   ]
  },
  {
   "cell_type": "code",
   "execution_count": 7,
   "id": "0af1a04a-ede5-4aba-a9c5-067cb128eab7",
   "metadata": {},
   "outputs": [],
   "source": [
    "def resize_matrix_to_2n(A: np.ndarray, B: np.ndarray) -> Tuple[np.ndarray, np.ndarray]:\n",
    "    \"\"\"\n",
    "    Zmiana wielkości macierzy\n",
    "    \"\"\"\n",
    "    size_A: Tuple[int, int] = A.shape\n",
    "    size_B: Tuple[int, int] = B.shape\n",
    "    new_height: int = 0\n",
    "    new_width: int = 0\n",
    "\n",
    "    # Height\n",
    "    if size_A[0] > size_B[0]:\n",
    "        new_height = find_next_power_of_2(size_A[0])\n",
    "    else:\n",
    "        new_height = find_next_power_of_2(size_B[0])\n",
    "\n",
    "    # Width\n",
    "    if size_A[1] > size_B[1]:\n",
    "        new_width = find_next_power_of_2(size_A[1])\n",
    "    else:\n",
    "        new_width = find_next_power_of_2(size_B[1])\n",
    "\n",
    "    # Wypełnienie zerami\n",
    "    new_A = np.pad(\n",
    "        A, [(0, new_height - size_A[0]), (0, new_width - size_A[1])], mode=\"constant\"\n",
    "    )\n",
    "    new_B = np.pad(\n",
    "        B, [(0, new_height - size_B[0]), (0, new_width - size_B[1])], mode=\"constant\"\n",
    "    )\n",
    "    return new_A, new_B\n",
    "\n",
    "def split(array: np.ndarray, n_rows: int, n_cols: int) -> Tuple:\n",
    "    \"\"\"Split a matrix into sub-matrices\"\"\"\n",
    "    r, h = array.shape\n",
    "    return (\n",
    "        array.reshape(h // n_rows, n_rows, -1, n_cols)\n",
    "        .swapaxes(1, 2)\n",
    "        .reshape(-1, n_rows, n_cols)\n",
    "    )\n",
    "\n",
    "def find_next_power_of_2(number: int) -> int:\n",
    "    \"\"\"\n",
    "    Szukiwanie kolejnej potęgi 2\n",
    "    \"\"\"\n",
    "    return 1 if number == 0 else 2 ** ceil(log2(number))"
   ]
  },
  {
   "cell_type": "markdown",
   "id": "67eb7e7f-9961-48bd-b6db-e4a604e0481f",
   "metadata": {},
   "source": [
    "Algorytm Bineta"
   ]
  },
  {
   "cell_type": "code",
   "execution_count": 8,
   "id": "46b74bae-5961-4f94-a70a-321284082a0d",
   "metadata": {},
   "outputs": [],
   "source": [
    "def binet_core_algorithm(A: np.ndarray, B: np.ndarray, counter: Counter) -> np.ndarray:\n",
    "    add = counter.add\n",
    "    mul = counter.mul\n",
    "    \n",
    "    if A.size > 1:\n",
    "        split_at = A.shape[0] // 2\n",
    "        A11, A12, A21, A22 = split(A, split_at, split_at)\n",
    "        B11, B12, B21, B22 = split(B, split_at, split_at)\n",
    "\n",
    "        C11 = add(\n",
    "            binet_core_algorithm(A11, B11, counter),\n",
    "            binet_core_algorithm(A12, B21, counter),\n",
    "        )\n",
    "        C12 = add(\n",
    "            binet_core_algorithm(A11, B12, counter),\n",
    "            binet_core_algorithm(A12, B22, counter),\n",
    "        )     \n",
    "        C21 = add(\n",
    "            binet_core_algorithm(A21, B11, counter),\n",
    "            binet_core_algorithm(A22, B21, counter),\n",
    "        )\n",
    "        \n",
    "        C22 = add(\n",
    "            binet_core_algorithm(A21, B12, counter),\n",
    "            binet_core_algorithm(A22, B22, counter),\n",
    "        )\n",
    "\n",
    "        return np.concatenate(\n",
    "            [np.concatenate([C11, C12], axis=1), np.concatenate([C21, C22], axis=1)],\n",
    "            axis=0,\n",
    "        )\n",
    "    \n",
    "    else:\n",
    "        return mul(A, B)\n",
    "\n",
    "def binet_algorithm(A: np.ndarray, B: np.ndarray, counter: Counter) -> np.ndarray:\n",
    "    new_A, new_B = resize_matrix_to_2n(A, B)\n",
    "    C = binet_core_algorithm(new_A, new_B, counter)\n",
    "    C = C[~np.all(C == 0, axis=1)]\n",
    "    C = C[:, ~np.all(C == 0, axis=0)]\n",
    "    return C\n",
    "    "
   ]
  },
  {
   "cell_type": "markdown",
   "id": "6938f252-1543-4002-b961-733a75f93d39",
   "metadata": {},
   "source": [
    "Test algorytmu Bineta"
   ]
  },
  {
   "cell_type": "code",
   "execution_count": 9,
   "id": "931504e1-996f-40d4-aa32-c0bde8c51849",
   "metadata": {},
   "outputs": [
    {
     "name": "stdout",
     "output_type": "stream",
     "text": [
      "[[0.06640514 0.05249428 0.0314382  0.04198953 0.08594552]\n",
      " [0.03481166 0.0423851  0.05213835 0.08932538 0.04952694]\n",
      " [0.03795679 0.01475571 0.04705604 0.02329706 0.05687859]\n",
      " [0.07596362 0.06139945 0.01276509 0.06261145 0.07987313]\n",
      " [0.07068266 0.08331874 0.05235578 0.06951084 0.05194275]]\n",
      "[[0.01214035 0.02676038 0.02033435 0.03656443 0.01924569]\n",
      " [0.0293678  0.04845406 0.07266996 0.0917358  0.04092064]\n",
      " [0.01710143 0.06196731 0.04764699 0.07110897 0.08393004]\n",
      " [0.08671476 0.03420047 0.08781452 0.08625703 0.02376019]\n",
      " [0.09570352 0.08260765 0.03129657 0.04520934 0.07966271]]\n",
      "[[0.01475186 0.01480455 0.01304009 0.01698664 0.01390905]\n",
      " [0.01504475 0.01336245 0.01566632 0.01881263 0.01284821]\n",
      " [0.00916256 0.01014203 0.00791213 0.01066858 0.01036838]\n",
      " [0.01601717 0.01453836 0.01461273 0.0183295  0.01289642]\n",
      " [0.01519908 0.01584114 0.01771634 0.02229484 0.01495351]]\n",
      "[[0.01475186 0.01480455 0.01304009 0.01698664 0.01390905]\n",
      " [0.01504475 0.01336245 0.01566632 0.01881263 0.01284821]\n",
      " [0.00916256 0.01014203 0.00791213 0.01066858 0.01036838]\n",
      " [0.01601717 0.01453836 0.01461273 0.0183295  0.01289642]\n",
      " [0.01519908 0.01584114 0.01771634 0.02229484 0.01495351]]\n",
      "Are the results close: True\n"
     ]
    }
   ],
   "source": [
    "A = generate_matrix(5, 5)\n",
    "B = generate_matrix(5, 5)\n",
    "\n",
    "print(A)\n",
    "print(B)\n",
    "\n",
    "counter = Counter()\n",
    "\n",
    "result_binet = binet_algorithm(A, B, counter)\n",
    "result_numpy = A @ B\n",
    "\n",
    "print(result_binet)\n",
    "print(result_numpy)\n",
    "\n",
    "print(f\"Are the results close: {np.allclose(result_binet, result_numpy)}\")"
   ]
  },
  {
   "cell_type": "markdown",
   "id": "9a88000a-c590-4fc3-b9f5-db6e08d602a3",
   "metadata": {},
   "source": [
    "Algorytm Strassena"
   ]
  },
  {
   "cell_type": "code",
   "execution_count": 10,
   "id": "35041912-c08f-474d-84e3-fad21bed9a39",
   "metadata": {},
   "outputs": [],
   "source": [
    "def strassen_core_algorithm(A: np.ndarray, B: np.ndarray, counter: Counter) -> np.ndarray:\n",
    "    add = counter.add\n",
    "    sub = counter.sub\n",
    "    mul = counter.mul\n",
    "\n",
    "    if A.size > 1:\n",
    "        split_at = A.shape[0] // 2\n",
    "        A11, A12, A21, A22 = split(A, split_at, split_at)\n",
    "        B11, B12, B21, B22 = split(B, split_at, split_at)\n",
    "\n",
    "        P1 = strassen_core_algorithm(add(A11, A22), add(B11, B22), counter)\n",
    "        P2 = strassen_core_algorithm(add(A21, A22), B11, counter)\n",
    "        P3 = strassen_core_algorithm(A11, sub(B12, B22), counter)\n",
    "        P4 = strassen_core_algorithm(A22, sub(B21, B11), counter)\n",
    "        P5 = strassen_core_algorithm(add(A11, A12), B22, counter)\n",
    "        P6 = strassen_core_algorithm(sub(A21, A11), add(B11, B12), counter)\n",
    "        P7 = strassen_core_algorithm(sub(A12, A22), add(B21, B22), counter)\n",
    "\n",
    "        C11 = add(sub(add(P1, P4), P5), P7)\n",
    "        C12 = add(P3, P5)\n",
    "        C21 = add(P2, P4)\n",
    "        C22 = add(add(sub(P1, P2), P3), P6)\n",
    "\n",
    "        return np.concatenate(\n",
    "                    [np.concatenate([C11, C12], axis=1), np.concatenate([C21, C22], axis=1)],\n",
    "                    axis=0,\n",
    "                )\n",
    "    else:\n",
    "        return mul(A, B)\n",
    "\n",
    "def strassen_algorithm(A: np.ndarray, B: np.ndarray, counter: Counter) -> np.ndarray:\n",
    "    new_A, new_B = resize_matrix_to_2n(A, B)\n",
    "    C = strassen_core_algorithm(new_A, new_B, counter)\n",
    "    C = C[~np.all(C == 0, axis=1)]\n",
    "    C = C[:, ~np.all(C == 0, axis=0)]\n",
    "    return C\n",
    "    "
   ]
  },
  {
   "cell_type": "markdown",
   "id": "b36cd20d-556b-4f99-914e-9fa5b9271880",
   "metadata": {},
   "source": [
    "Test algorytmu Strassena"
   ]
  },
  {
   "cell_type": "code",
   "execution_count": 11,
   "id": "5ced2299-927a-4323-99e9-32e49c2dd8fc",
   "metadata": {},
   "outputs": [
    {
     "name": "stdout",
     "output_type": "stream",
     "text": [
      "[[0.04458269 0.06709379]\n",
      " [0.03101933 0.0249647 ]]\n",
      "[[0.04116296 0.02300467]\n",
      " [0.040042   0.04166482]]\n",
      "[[0.00452173 0.00382106]\n",
      " [0.00227648 0.00175374]]\n",
      "[[0.00452173 0.00382106]\n",
      " [0.00227648 0.00175374]]\n",
      "Are the results close: True\n",
      "Number of flops: 25\n"
     ]
    }
   ],
   "source": [
    "A = generate_matrix(2, 2)\n",
    "B = generate_matrix(2, 2)\n",
    "\n",
    "print(A)\n",
    "print(B)\n",
    "\n",
    "counter = Counter()\n",
    "\n",
    "result_strassen = strassen_algorithm(A, B, counter)\n",
    "result_numpy = A @ B\n",
    "\n",
    "print(result_strassen)\n",
    "print(result_numpy)\n",
    "\n",
    "print(f\"Are the results close: {np.allclose(result_strassen, result_numpy)}\")\n",
    "\n",
    "counter.print_counts()"
   ]
  },
  {
   "cell_type": "code",
   "execution_count": 12,
   "id": "171eceb2-aadc-4a8a-a69b-2f1782c90723",
   "metadata": {},
   "outputs": [],
   "source": [
    "import matplotlib.pyplot as plt\n",
    "from time import time\n",
    "from matplotlib.ticker import FormatStrFormatter\n",
    "from typing import List\n",
    "\n",
    "times_binet: List[float] = []\n",
    "flops_binet: List[int] = []\n",
    "\n",
    "power_basis = list(range(2, 9))\n",
    "powers = [2**k for k in power_basis]\n",
    "\n",
    "for k in power_basis:\n",
    "    A = np.random.rand(2**k, 2**k)\n",
    "    B = np.random.rand(2**k, 2**k)\n",
    "\n",
    "    counter = Counter()\n",
    "    start_time: float = time()\n",
    "\n",
    "    binet_algorithm(A, B, counter)\n",
    "\n",
    "    total_time: float = time() - start_time\n",
    "\n",
    "    times_binet.append(total_time)\n",
    "    flops_binet.append(counter.print_counts)"
   ]
  },
  {
   "cell_type": "code",
   "execution_count": 13,
   "id": "c6b94125-807d-4a50-9c8c-46abdb8f8c49",
   "metadata": {},
   "outputs": [
    {
     "data": {
      "text/plain": [
       "[<matplotlib.lines.Line2D at 0x7f12a47f23b0>]"
      ]
     },
     "execution_count": 13,
     "metadata": {},
     "output_type": "execute_result"
    },
    {
     "data": {
      "image/png": "[encoded data removed]",
      "text/plain": [
       "<Figure size 640x480 with 1 Axes>"
      ]
     },
     "metadata": {},
     "output_type": "display_data"
    }
   ],
   "source": [
    "plt.gca().yaxis.set_major_formatter(FormatStrFormatter(\"%d s\"))\n",
    "plt.xlabel(\"Rozmiar macierzy\")\n",
    "plt.ylabel(\"Czas\")\n",
    "plt.plot(powers, times_binet)"
   ]
  },
  {
   "cell_type": "code",
   "execution_count": 43,
   "id": "1d45026d-1d25-44e8-8c63-4ed355fb8ceb",
   "metadata": {},
   "outputs": [
    {
     "ename": "KeyboardInterrupt",
     "evalue": "",
     "output_type": "error",
     "traceback": [
      "\u001b[0;31m---------------------------------------------------------------------------\u001b[0m",
      "\u001b[0;31mKeyboardInterrupt\u001b[0m                         Traceback (most recent call last)",
      "Cell \u001b[0;32mIn [43], line 11\u001b[0m\n\u001b[1;32m      8\u001b[0m counter \u001b[38;5;241m=\u001b[39m Counter()\n\u001b[1;32m      9\u001b[0m start_time: \u001b[38;5;28mfloat\u001b[39m \u001b[38;5;241m=\u001b[39m time()\n\u001b[0;32m---> 11\u001b[0m strassen_algorithm(A, B, counter)\n\u001b[1;32m     13\u001b[0m total_time: \u001b[38;5;28mfloat\u001b[39m \u001b[38;5;241m=\u001b[39m time() \u001b[38;5;241m-\u001b[39m start_time\n\u001b[1;32m     15\u001b[0m times_strassen\u001b[38;5;241m.\u001b[39mappend(total_time)\n",
      "Cell \u001b[0;32mIn [34], line 33\u001b[0m, in \u001b[0;36mstrassen_algorithm\u001b[0;34m(A, B, counter)\u001b[0m\n\u001b[1;32m     31\u001b[0m \u001b[38;5;28;01mdef\u001b[39;00m \u001b[38;5;21mstrassen_algorithm\u001b[39m(A: np\u001b[38;5;241m.\u001b[39mndarray, B: np\u001b[38;5;241m.\u001b[39mndarray, counter: Counter) \u001b[38;5;241m-\u001b[39m\u001b[38;5;241m>\u001b[39m np\u001b[38;5;241m.\u001b[39mndarray:\n\u001b[1;32m     32\u001b[0m     new_A, new_B \u001b[38;5;241m=\u001b[39m resize_matrix_to_2n(A, B)\n\u001b[0;32m---> 33\u001b[0m     C \u001b[38;5;241m=\u001b[39m \u001b[43mstrassen_core_algorithm\u001b[49m\u001b[43m(\u001b[49m\u001b[43mnew_A\u001b[49m\u001b[43m,\u001b[49m\u001b[43m \u001b[49m\u001b[43mnew_B\u001b[49m\u001b[43m,\u001b[49m\u001b[43m \u001b[49m\u001b[43mcounter\u001b[49m\u001b[43m)\u001b[49m\n\u001b[1;32m     34\u001b[0m     C \u001b[38;5;241m=\u001b[39m C[\u001b[38;5;241m~\u001b[39mnp\u001b[38;5;241m.\u001b[39mall(C \u001b[38;5;241m==\u001b[39m \u001b[38;5;241m0\u001b[39m, axis\u001b[38;5;241m=\u001b[39m\u001b[38;5;241m1\u001b[39m)]\n\u001b[1;32m     35\u001b[0m     C \u001b[38;5;241m=\u001b[39m C[:, \u001b[38;5;241m~\u001b[39mnp\u001b[38;5;241m.\u001b[39mall(C \u001b[38;5;241m==\u001b[39m \u001b[38;5;241m0\u001b[39m, axis\u001b[38;5;241m=\u001b[39m\u001b[38;5;241m0\u001b[39m)]\n",
      "Cell \u001b[0;32mIn [34], line 13\u001b[0m, in \u001b[0;36mstrassen_core_algorithm\u001b[0;34m(A, B, counter)\u001b[0m\n\u001b[1;32m     11\u001b[0m P1 \u001b[38;5;241m=\u001b[39m strassen_core_algorithm(add(A11, A22), add(B11, B22), counter)\n\u001b[1;32m     12\u001b[0m P2 \u001b[38;5;241m=\u001b[39m strassen_core_algorithm(add(A21, A22), B11, counter)\n\u001b[0;32m---> 13\u001b[0m P3 \u001b[38;5;241m=\u001b[39m \u001b[43mstrassen_core_algorithm\u001b[49m\u001b[43m(\u001b[49m\u001b[43mA11\u001b[49m\u001b[43m,\u001b[49m\u001b[43m \u001b[49m\u001b[43msub\u001b[49m\u001b[43m(\u001b[49m\u001b[43mB12\u001b[49m\u001b[43m,\u001b[49m\u001b[43m \u001b[49m\u001b[43mB22\u001b[49m\u001b[43m)\u001b[49m\u001b[43m,\u001b[49m\u001b[43m \u001b[49m\u001b[43mcounter\u001b[49m\u001b[43m)\u001b[49m\n\u001b[1;32m     14\u001b[0m P4 \u001b[38;5;241m=\u001b[39m strassen_core_algorithm(A22, sub(B21, B11), counter)\n\u001b[1;32m     15\u001b[0m P5 \u001b[38;5;241m=\u001b[39m strassen_core_algorithm(add(A11, A12), B22, counter)\n",
      "Cell \u001b[0;32mIn [34], line 11\u001b[0m, in \u001b[0;36mstrassen_core_algorithm\u001b[0;34m(A, B, counter)\u001b[0m\n\u001b[1;32m      8\u001b[0m A11, A12, A21, A22 \u001b[38;5;241m=\u001b[39m split(A, split_at, split_at)\n\u001b[1;32m      9\u001b[0m B11, B12, B21, B22 \u001b[38;5;241m=\u001b[39m split(B, split_at, split_at)\n\u001b[0;32m---> 11\u001b[0m P1 \u001b[38;5;241m=\u001b[39m \u001b[43mstrassen_core_algorithm\u001b[49m\u001b[43m(\u001b[49m\u001b[43madd\u001b[49m\u001b[43m(\u001b[49m\u001b[43mA11\u001b[49m\u001b[43m,\u001b[49m\u001b[43m \u001b[49m\u001b[43mA22\u001b[49m\u001b[43m)\u001b[49m\u001b[43m,\u001b[49m\u001b[43m \u001b[49m\u001b[43madd\u001b[49m\u001b[43m(\u001b[49m\u001b[43mB11\u001b[49m\u001b[43m,\u001b[49m\u001b[43m \u001b[49m\u001b[43mB22\u001b[49m\u001b[43m)\u001b[49m\u001b[43m,\u001b[49m\u001b[43m \u001b[49m\u001b[43mcounter\u001b[49m\u001b[43m)\u001b[49m\n\u001b[1;32m     12\u001b[0m P2 \u001b[38;5;241m=\u001b[39m strassen_core_algorithm(add(A21, A22), B11, counter)\n\u001b[1;32m     13\u001b[0m P3 \u001b[38;5;241m=\u001b[39m strassen_core_algorithm(A11, sub(B12, B22), counter)\n",
      "Cell \u001b[0;32mIn [34], line 11\u001b[0m, in \u001b[0;36mstrassen_core_algorithm\u001b[0;34m(A, B, counter)\u001b[0m\n\u001b[1;32m      8\u001b[0m A11, A12, A21, A22 \u001b[38;5;241m=\u001b[39m split(A, split_at, split_at)\n\u001b[1;32m      9\u001b[0m B11, B12, B21, B22 \u001b[38;5;241m=\u001b[39m split(B, split_at, split_at)\n\u001b[0;32m---> 11\u001b[0m P1 \u001b[38;5;241m=\u001b[39m \u001b[43mstrassen_core_algorithm\u001b[49m\u001b[43m(\u001b[49m\u001b[43madd\u001b[49m\u001b[43m(\u001b[49m\u001b[43mA11\u001b[49m\u001b[43m,\u001b[49m\u001b[43m \u001b[49m\u001b[43mA22\u001b[49m\u001b[43m)\u001b[49m\u001b[43m,\u001b[49m\u001b[43m \u001b[49m\u001b[43madd\u001b[49m\u001b[43m(\u001b[49m\u001b[43mB11\u001b[49m\u001b[43m,\u001b[49m\u001b[43m \u001b[49m\u001b[43mB22\u001b[49m\u001b[43m)\u001b[49m\u001b[43m,\u001b[49m\u001b[43m \u001b[49m\u001b[43mcounter\u001b[49m\u001b[43m)\u001b[49m\n\u001b[1;32m     12\u001b[0m P2 \u001b[38;5;241m=\u001b[39m strassen_core_algorithm(add(A21, A22), B11, counter)\n\u001b[1;32m     13\u001b[0m P3 \u001b[38;5;241m=\u001b[39m strassen_core_algorithm(A11, sub(B12, B22), counter)\n",
      "Cell \u001b[0;32mIn [34], line 15\u001b[0m, in \u001b[0;36mstrassen_core_algorithm\u001b[0;34m(A, B, counter)\u001b[0m\n\u001b[1;32m     13\u001b[0m P3 \u001b[38;5;241m=\u001b[39m strassen_core_algorithm(A11, sub(B12, B22), counter)\n\u001b[1;32m     14\u001b[0m P4 \u001b[38;5;241m=\u001b[39m strassen_core_algorithm(A22, sub(B21, B11), counter)\n\u001b[0;32m---> 15\u001b[0m P5 \u001b[38;5;241m=\u001b[39m \u001b[43mstrassen_core_algorithm\u001b[49m\u001b[43m(\u001b[49m\u001b[43madd\u001b[49m\u001b[43m(\u001b[49m\u001b[43mA11\u001b[49m\u001b[43m,\u001b[49m\u001b[43m \u001b[49m\u001b[43mA12\u001b[49m\u001b[43m)\u001b[49m\u001b[43m,\u001b[49m\u001b[43m \u001b[49m\u001b[43mB22\u001b[49m\u001b[43m,\u001b[49m\u001b[43m \u001b[49m\u001b[43mcounter\u001b[49m\u001b[43m)\u001b[49m\n\u001b[1;32m     16\u001b[0m P6 \u001b[38;5;241m=\u001b[39m strassen_core_algorithm(sub(A21, A11), add(B11, B12), counter)\n\u001b[1;32m     17\u001b[0m P7 \u001b[38;5;241m=\u001b[39m strassen_core_algorithm(sub(A12, A22), add(B21, B22), counter)\n",
      "Cell \u001b[0;32mIn [34], line 13\u001b[0m, in \u001b[0;36mstrassen_core_algorithm\u001b[0;34m(A, B, counter)\u001b[0m\n\u001b[1;32m     11\u001b[0m P1 \u001b[38;5;241m=\u001b[39m strassen_core_algorithm(add(A11, A22), add(B11, B22), counter)\n\u001b[1;32m     12\u001b[0m P2 \u001b[38;5;241m=\u001b[39m strassen_core_algorithm(add(A21, A22), B11, counter)\n\u001b[0;32m---> 13\u001b[0m P3 \u001b[38;5;241m=\u001b[39m \u001b[43mstrassen_core_algorithm\u001b[49m\u001b[43m(\u001b[49m\u001b[43mA11\u001b[49m\u001b[43m,\u001b[49m\u001b[43m \u001b[49m\u001b[43msub\u001b[49m\u001b[43m(\u001b[49m\u001b[43mB12\u001b[49m\u001b[43m,\u001b[49m\u001b[43m \u001b[49m\u001b[43mB22\u001b[49m\u001b[43m)\u001b[49m\u001b[43m,\u001b[49m\u001b[43m \u001b[49m\u001b[43mcounter\u001b[49m\u001b[43m)\u001b[49m\n\u001b[1;32m     14\u001b[0m P4 \u001b[38;5;241m=\u001b[39m strassen_core_algorithm(A22, sub(B21, B11), counter)\n\u001b[1;32m     15\u001b[0m P5 \u001b[38;5;241m=\u001b[39m strassen_core_algorithm(add(A11, A12), B22, counter)\n",
      "Cell \u001b[0;32mIn [34], line 12\u001b[0m, in \u001b[0;36mstrassen_core_algorithm\u001b[0;34m(A, B, counter)\u001b[0m\n\u001b[1;32m      9\u001b[0m B11, B12, B21, B22 \u001b[38;5;241m=\u001b[39m split(B, split_at, split_at)\n\u001b[1;32m     11\u001b[0m P1 \u001b[38;5;241m=\u001b[39m strassen_core_algorithm(add(A11, A22), add(B11, B22), counter)\n\u001b[0;32m---> 12\u001b[0m P2 \u001b[38;5;241m=\u001b[39m \u001b[43mstrassen_core_algorithm\u001b[49m\u001b[43m(\u001b[49m\u001b[43madd\u001b[49m\u001b[43m(\u001b[49m\u001b[43mA21\u001b[49m\u001b[43m,\u001b[49m\u001b[43m \u001b[49m\u001b[43mA22\u001b[49m\u001b[43m)\u001b[49m\u001b[43m,\u001b[49m\u001b[43m \u001b[49m\u001b[43mB11\u001b[49m\u001b[43m,\u001b[49m\u001b[43m \u001b[49m\u001b[43mcounter\u001b[49m\u001b[43m)\u001b[49m\n\u001b[1;32m     13\u001b[0m P3 \u001b[38;5;241m=\u001b[39m strassen_core_algorithm(A11, sub(B12, B22), counter)\n\u001b[1;32m     14\u001b[0m P4 \u001b[38;5;241m=\u001b[39m strassen_core_algorithm(A22, sub(B21, B11), counter)\n",
      "Cell \u001b[0;32mIn [34], line 11\u001b[0m, in \u001b[0;36mstrassen_core_algorithm\u001b[0;34m(A, B, counter)\u001b[0m\n\u001b[1;32m      8\u001b[0m A11, A12, A21, A22 \u001b[38;5;241m=\u001b[39m split(A, split_at, split_at)\n\u001b[1;32m      9\u001b[0m B11, B12, B21, B22 \u001b[38;5;241m=\u001b[39m split(B, split_at, split_at)\n\u001b[0;32m---> 11\u001b[0m P1 \u001b[38;5;241m=\u001b[39m \u001b[43mstrassen_core_algorithm\u001b[49m\u001b[43m(\u001b[49m\u001b[43madd\u001b[49m\u001b[43m(\u001b[49m\u001b[43mA11\u001b[49m\u001b[43m,\u001b[49m\u001b[43m \u001b[49m\u001b[43mA22\u001b[49m\u001b[43m)\u001b[49m\u001b[43m,\u001b[49m\u001b[43m \u001b[49m\u001b[43madd\u001b[49m\u001b[43m(\u001b[49m\u001b[43mB11\u001b[49m\u001b[43m,\u001b[49m\u001b[43m \u001b[49m\u001b[43mB22\u001b[49m\u001b[43m)\u001b[49m\u001b[43m,\u001b[49m\u001b[43m \u001b[49m\u001b[43mcounter\u001b[49m\u001b[43m)\u001b[49m\n\u001b[1;32m     12\u001b[0m P2 \u001b[38;5;241m=\u001b[39m strassen_core_algorithm(add(A21, A22), B11, counter)\n\u001b[1;32m     13\u001b[0m P3 \u001b[38;5;241m=\u001b[39m strassen_core_algorithm(A11, sub(B12, B22), counter)\n",
      "Cell \u001b[0;32mIn [34], line 25\u001b[0m, in \u001b[0;36mstrassen_core_algorithm\u001b[0;34m(A, B, counter)\u001b[0m\n\u001b[1;32m     21\u001b[0m     C21 \u001b[38;5;241m=\u001b[39m add(P2, P4)\n\u001b[1;32m     22\u001b[0m     C22 \u001b[38;5;241m=\u001b[39m add(add(sub(P1, P2), P3), P6)\n\u001b[1;32m     24\u001b[0m     \u001b[38;5;28;01mreturn\u001b[39;00m np\u001b[38;5;241m.\u001b[39mconcatenate(\n\u001b[0;32m---> 25\u001b[0m                 [np\u001b[38;5;241m.\u001b[39mconcatenate([C11, C12], axis\u001b[38;5;241m=\u001b[39m\u001b[38;5;241m1\u001b[39m), \u001b[43mnp\u001b[49m\u001b[38;5;241;43m.\u001b[39;49m\u001b[43mconcatenate\u001b[49m\u001b[43m(\u001b[49m\u001b[43m[\u001b[49m\u001b[43mC21\u001b[49m\u001b[43m,\u001b[49m\u001b[43m \u001b[49m\u001b[43mC22\u001b[49m\u001b[43m]\u001b[49m\u001b[43m,\u001b[49m\u001b[43m \u001b[49m\u001b[43maxis\u001b[49m\u001b[38;5;241;43m=\u001b[39;49m\u001b[38;5;241;43m1\u001b[39;49m\u001b[43m)\u001b[49m],\n\u001b[1;32m     26\u001b[0m                 axis\u001b[38;5;241m=\u001b[39m\u001b[38;5;241m0\u001b[39m,\n\u001b[1;32m     27\u001b[0m             )\n\u001b[1;32m     28\u001b[0m \u001b[38;5;28;01melse\u001b[39;00m:\n\u001b[1;32m     29\u001b[0m     \u001b[38;5;28;01mreturn\u001b[39;00m mul(A, B)\n",
      "File \u001b[0;32m<__array_function__ internals>:180\u001b[0m, in \u001b[0;36mconcatenate\u001b[0;34m(*args, **kwargs)\u001b[0m\n",
      "\u001b[0;31mKeyboardInterrupt\u001b[0m: "
     ]
    }
   ],
   "source": [
    "times_strassen: List[float] = []\n",
    "flops_strassen: List[int] = []\n",
    "\n",
    "for k in power_basis:\n",
    "    A = np.random.rand(2**k, 2**k)\n",
    "    B = np.random.rand(2**k, 2**k)\n",
    "\n",
    "    counter = Counter()\n",
    "    start_time: float = time()\n",
    "\n",
    "    strassen_algorithm(A, B, counter)\n",
    "\n",
    "    total_time: float = time() - start_time\n",
    "\n",
    "    times_strassen.append(total_time)\n",
    "    flops_strassen.append(counter.print_counts)"
   ]
  },
  {
   "cell_type": "code",
   "execution_count": null,
   "id": "72a8ca60-4635-496f-8ceb-d7d44ae922c0",
   "metadata": {},
   "outputs": [],
   "source": [
    "plt.gca().yaxis.set_major_formatter(FormatStrFormatter(\"%d s\"))\n",
    "plt.xlabel(\"Rozmiar macierzy\")\n",
    "plt.ylabel(\"Czas\")\n",
    "plt.plot(powers, times_strassen)"
   ]
  },
  {
   "cell_type": "code",
   "execution_count": null,
   "id": "b98a1aea-e3f8-4cd3-97c9-7f8ac2f5ce29",
   "metadata": {},
   "outputs": [],
   "source": [
    "plt.xlabel(\"Rozmiar macierzy\")\n",
    "plt.ylabel(\"Ilość flopsów\")\n",
    "plt.plot(powers, flops_strassen)"
   ]
  }
 ],
 "metadata": {
  "kernelspec": {
   "display_name": "Python 3 (ipykernel)",
   "language": "python",
   "name": "python3"
  },
  "language_info": {
   "codemirror_mode": {
    "name": "ipython",
    "version": 3
   },
   "file_extension": ".py",
   "mimetype": "text/x-python",
   "name": "python",
   "nbconvert_exporter": "python",
   "pygments_lexer": "ipython3",
   "version": "3.10.4"
  }
 },
 "nbformat": 4,
 "nbformat_minor": 5
}
