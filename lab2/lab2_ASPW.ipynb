{
 "cells": [
  {
   "cell_type": "markdown",
   "id": "b83b378b",
   "metadata": {},
   "source": [
    "# Gauss elimination and LU decomposition"
   ]
  },
  {
   "cell_type": "code",
   "execution_count": 1,
   "id": "7711bb8b-9155-4715-a74c-0c014ffa7dd0",
   "metadata": {},
   "outputs": [],
   "source": [
    "import numpy as np"
   ]
  },
  {
   "cell_type": "markdown",
   "id": "1215f908-b79d-4aa4-95b1-fa53e27578df",
   "metadata": {},
   "source": [
    "### Utility"
   ]
  },
  {
   "cell_type": "code",
   "execution_count": 2,
   "id": "86261bc2-e94c-4c5d-a7b9-a49c33eb8317",
   "metadata": {},
   "outputs": [],
   "source": [
    "def generate_matrix(n_cols: int, n_rows: int):\n",
    "    # Uniform używa rozkładu jednostajnego ciągłego\n",
    "    return np.random.uniform(low=0.1, high=0.01, size=(n_rows, n_cols))\n",
    "\n",
    "def generate_vector(n: int):\n",
    "    return np.random.uniform(low=0.1, high=0.01, size=(n,))"
   ]
  },
  {
   "cell_type": "code",
   "execution_count": 3,
   "id": "d266b19e-a5e1-47e4-9684-1bd577d57484",
   "metadata": {},
   "outputs": [
    {
     "data": {
      "text/plain": [
       "(array([[0.02461908, 0.02376166, 0.03750922, 0.08450792, 0.06400768],\n",
       "        [0.06116688, 0.05988596, 0.03253187, 0.07311733, 0.01685579],\n",
       "        [0.03155311, 0.01442802, 0.02966505, 0.03741621, 0.08571038],\n",
       "        [0.03197542, 0.02755534, 0.09268297, 0.08691851, 0.01945102],\n",
       "        [0.01582654, 0.01613453, 0.02744073, 0.03698507, 0.09684359]]),\n",
       " array([0.04915923, 0.01475601, 0.03896281, 0.0343995 , 0.0305812 ]))"
      ]
     },
     "execution_count": 3,
     "metadata": {},
     "output_type": "execute_result"
    }
   ],
   "source": [
    "generate_matrix(5, 5), generate_vector(5)"
   ]
  },
  {
   "cell_type": "markdown",
   "id": "0f7d6e6b-7c60-407a-af22-98395e03ede2",
   "metadata": {},
   "source": [
    "Test"
   ]
  },
  {
   "cell_type": "markdown",
   "id": "c8f25a23-9a89-4402-9d6b-597b9f823263",
   "metadata": {},
   "source": [
    "### Gauss elimination"
   ]
  },
  {
   "cell_type": "code",
   "execution_count": 4,
   "id": "7666b16d-0d66-4d39-9ca7-379c32338f50",
   "metadata": {},
   "outputs": [],
   "source": [
    "def gauss_elimination(A, b):\n",
    "    n = len(A)\n",
    "    \n",
    "    for i in range(n):\n",
    "        divisor = A[i, i]\n",
    "        A[i] /= divisor\n",
    "        b[i] /= divisor\n",
    "        \n",
    "        for j in range(i + 1, n):\n",
    "            multiplier = A[j, i]\n",
    "            A[j] -= multiplier * A[i]\n",
    "            b[j] -= multiplier * b[i]\n",
    "\n",
    "\n",
    "    # iterate columns for last to first\n",
    "    for i in range(n - 1, -1, -1):\n",
    "        for j in range(i):\n",
    "            multiplier = A[j, i]\n",
    "            A[j] -= multiplier * A[i]\n",
    "            b[j] -= multiplier * b[i]\n",
    "    \n",
    "    return b\n",
    "\n",
    "\n",
    "def gauss_elimination_pivoting(A, b):\n",
    "    n = len(A)\n",
    "    pivots = []\n",
    "    \n",
    "    for i in range(n):\n",
    "        pivot_row = np.argmax(np.abs(A[i:, i])) + i\n",
    "        if pivot_row != i:\n",
    "            pivots.append((i, pivot_row))\n",
    "            A[[i, pivot_row]] = A[[pivot_row, i]]\n",
    "            b[[i, pivot_row]] = b[[pivot_row, i]]\n",
    "        \n",
    "        divisor = A[i, i]\n",
    "        A[i] /= divisor\n",
    "        b[i] /= divisor\n",
    "        \n",
    "        for j in range(i + 1, n):\n",
    "            multiplier = A[j, i]\n",
    "            A[j] -= multiplier * A[i]\n",
    "            b[j] -= multiplier * b[i]\n",
    "\n",
    "    # iterate columns for last to first\n",
    "    for i in range(n - 1, -1, -1):\n",
    "        for j in range(i):\n",
    "            multiplier = A[j, i]\n",
    "            A[j] -= multiplier * A[i]\n",
    "            b[j] -= multiplier * b[i]\n",
    "\n",
    "    for i, pivot_row in pivots[::-1]: \n",
    "        A[[i, pivot_row]] = A[[pivot_row, i]]\n",
    "        b[[i, pivot_row]] = b[[pivot_row, i]]\n",
    "\n",
    "    return b"
   ]
  },
  {
   "cell_type": "code",
   "execution_count": 48,
   "id": "0d8d421d-b9bb-4aa0-bb39-05962a79e211",
   "metadata": {},
   "outputs": [
    {
     "name": "stdout",
     "output_type": "stream",
     "text": [
      "[ -3.05636223   5.56799409   3.81215663 -11.67390448  -4.2061286\n",
      "  13.706072    -1.65327205  -2.15740216  -1.10972595  -5.97715015\n",
      "  -3.72650011   3.68828494  -2.55259579  -4.01183463  14.18935692\n",
      "   6.01205993 -10.30144924  -2.61206745 -11.3229585    0.86903294\n",
      "  -0.60242481   6.67656235   5.31516895  -0.93838313   7.23231232\n",
      "  -3.55519469]\n",
      "[ -3.05636223   5.56799409   3.81215663 -11.67390448  -4.2061286\n",
      "  13.706072    -1.65327205  -2.15740216  -1.10972595  -5.97715015\n",
      "  -3.72650011   3.68828494  -2.55259579  -4.01183463  14.18935692\n",
      "   6.01205993 -10.30144924  -2.61206745 -11.3229585    0.86903294\n",
      "  -0.60242481   6.67656235   5.31516895  -0.93838313   7.23231232\n",
      "  -3.55519469]\n",
      "[ -3.05636223   5.56799409   3.81215663 -11.67390448  -4.2061286\n",
      "  13.706072    -1.65327205  -2.15740216  -1.10972595  -5.97715015\n",
      "  -3.72650011   3.68828494  -2.55259579  -4.01183463  14.18935692\n",
      "   6.01205993 -10.30144924  -2.61206745 -11.3229585    0.86903294\n",
      "  -0.60242481   6.67656235   5.31516895  -0.93838313   7.23231232\n",
      "  -3.55519469]\n",
      "Are the results close: True\n",
      "Are the results close: True\n"
     ]
    }
   ],
   "source": [
    "from numpy.linalg import solve\n",
    "\n",
    "n = 17 + 9\n",
    "\n",
    "A = generate_matrix(n, n)\n",
    "b = generate_vector(n)\n",
    "\n",
    "result_gauss = gauss_elimination(A, b)\n",
    "result_gauss_pivot = gauss_elimination_pivoting(A, b)\n",
    "result_numpy = solve(A, b)\n",
    "\n",
    "print(result_gauss)\n",
    "print(result_gauss_pivot)\n",
    "print(result_numpy)\n",
    "\n",
    "print(f\"Are the results close: {np.allclose(result_gauss, result_numpy)}\")\n",
    "print(f\"Are the results close: {np.allclose(result_gauss_pivot, result_numpy)}\")"
   ]
  },
  {
   "cell_type": "markdown",
   "id": "67eb7e7f-9961-48bd-b6db-e4a604e0481f",
   "metadata": {},
   "source": [
    "### LU decomposition"
   ]
  },
  {
   "cell_type": "code",
   "execution_count": 122,
   "id": "41f96152",
   "metadata": {},
   "outputs": [
    {
     "name": "stdout",
     "output_type": "stream",
     "text": [
      "True\n",
      "True\n"
     ]
    }
   ],
   "source": [
    "def lu_decomposition(A):\n",
    "    n = len(A)\n",
    "    L = np.eye(n)\n",
    "    U = A.copy()\n",
    "\n",
    "    for i in range(n):\n",
    "        # Update U matrix\n",
    "        # for j in range(i, n):\n",
    "        #     U[i, j] = A[i, j] - np.dot(L[i, :i], U[:i, j])\n",
    "\n",
    "        # # Update L matrix\n",
    "        # for j in range(i + 1, n):\n",
    "        #     L[j, i] = (A[j, i] - np.dot(L[j, :i], U[:i, i])) / U[i, i]\n",
    "\n",
    "        for j in range(i + 1, n):\n",
    "            L[j, i] = U[j, i] / U[i, i]\n",
    "            U[j, i:] -= L[j, i] * U[i, i:]\n",
    "\n",
    "    return L, U\n",
    "\n",
    "\n",
    "def lu_decomposition_pivoting(A):\n",
    "    n = len(A)\n",
    "    L = np.zeros((n, n))\n",
    "    U = A.copy()\n",
    "    P = np.eye(n)\n",
    "\n",
    "    for i in range(n):\n",
    "        pivot_row = np.argmax(np.abs(U[i:, i])) + i\n",
    "        if pivot_row != i:\n",
    "            U[[i, pivot_row]] = U[[pivot_row, i]]\n",
    "            L[[i, pivot_row]] = L[[pivot_row, i]]\n",
    "            P[[i, pivot_row]] = P[[pivot_row, i]]\n",
    "\n",
    "        for j in range(i + 1, n):\n",
    "            L[j, i] = U[j, i] / U[i, i]\n",
    "            U[j, i:] -= L[j, i] * U[i, i:]\n",
    "\n",
    "    L = np.eye(n) + L\n",
    "    # THIS CALCULATES P @ A = L @ U, but we ned A = P @ L @ U to ocmpare with scipy\n",
    "    # INVERSE OF PERMUTATION MATRIX IS ITS TRANSPOSE\n",
    "    return P.T, L, U\n",
    "\n",
    "\n",
    "# Example usage:\n",
    "A = generate_matrix(3, 3)\n",
    "\n",
    "L, U = lu_decomposition(A)\n",
    "print(np.allclose(L @ U, A))\n",
    "\n",
    "P, L, U = lu_decomposition_pivoting(A)\n",
    "print(np.allclose(P @ L @ U, A))"
   ]
  },
  {
   "cell_type": "code",
   "execution_count": 124,
   "id": "cdddb21c",
   "metadata": {},
   "outputs": [
    {
     "name": "stdout",
     "output_type": "stream",
     "text": [
      "[[1.         0.         0.        ]\n",
      " [0.37595131 1.         0.        ]\n",
      " [0.38441969 0.66637271 1.        ]]\n",
      "[[1.         0.         0.        ]\n",
      " [0.37595131 1.         0.        ]\n",
      " [0.38441969 0.66637271 1.        ]]\n",
      "Are the results close: True, True\n"
     ]
    }
   ],
   "source": [
    "from scipy.linalg import lu\n",
    "\n",
    "n = 17 + 9\n",
    "n = 3\n",
    "\n",
    "A = generate_matrix(n, n)\n",
    "\n",
    "P, L, U = lu_decomposition_pivoting(A)\n",
    "sp_P, sp_L, sp_U = lu(A)\n",
    "\n",
    "\n",
    "print(L)\n",
    "print(sp_L)\n",
    "print(f\"Are the results close: {np.allclose(L, sp_L)}, {np.allclose(U, sp_U)}\")"
   ]
  },
  {
   "cell_type": "code",
   "execution_count": null,
   "id": "c2b8c154",
   "metadata": {},
   "outputs": [],
   "source": []
  },
  {
   "cell_type": "code",
   "execution_count": null,
   "id": "70d79990-b4e7-4f8a-a8d9-46b07782bce2",
   "metadata": {},
   "outputs": [],
   "source": []
  }
 ],
 "metadata": {
  "kernelspec": {
   "display_name": "Python 3 (ipykernel)",
   "language": "python",
   "name": "python3"
  },
  "language_info": {
   "codemirror_mode": {
    "name": "ipython",
    "version": 3
   },
   "file_extension": ".py",
   "mimetype": "text/x-python",
   "name": "python",
   "nbconvert_exporter": "python",
   "pygments_lexer": "ipython3",
   "version": "3.10.9"
  }
 },
 "nbformat": 4,
 "nbformat_minor": 5
}
