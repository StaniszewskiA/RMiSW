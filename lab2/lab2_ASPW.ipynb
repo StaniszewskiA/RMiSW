{
 "cells": [
  {
   "cell_type": "markdown",
   "id": "b83b378b",
   "metadata": {},
   "source": [
    "# Gauss elimination and LU decomposition"
   ]
  },
  {
   "cell_type": "code",
   "execution_count": 1,
   "id": "7711bb8b-9155-4715-a74c-0c014ffa7dd0",
   "metadata": {},
   "outputs": [],
   "source": [
    "import numpy as np"
   ]
  },
  {
   "cell_type": "markdown",
   "id": "1215f908-b79d-4aa4-95b1-fa53e27578df",
   "metadata": {},
   "source": [
    "### Utility"
   ]
  },
  {
   "cell_type": "code",
   "execution_count": 2,
   "id": "86261bc2-e94c-4c5d-a7b9-a49c33eb8317",
   "metadata": {},
   "outputs": [],
   "source": [
    "def generate_matrix(n_cols: int, n_rows: int):\n",
    "    return np.random.uniform(low=0.1, high=0.01, size=(n_rows, n_cols))\n",
    "\n",
    "def generate_vector(n: int):\n",
    "    return np.random.uniform(low=0.1, high=0.01, size=(n,))"
   ]
  },
  {
   "cell_type": "markdown",
   "id": "c8f25a23-9a89-4402-9d6b-597b9f823263",
   "metadata": {},
   "source": [
    "### Gauss elimination"
   ]
  },
  {
   "cell_type": "markdown",
   "id": "4dec5983",
   "metadata": {},
   "source": [
    "Without pivoting"
   ]
  },
  {
   "cell_type": "code",
   "execution_count": 3,
   "id": "7666b16d-0d66-4d39-9ca7-379c32338f50",
   "metadata": {},
   "outputs": [],
   "source": [
    "def gauss_elimination(A, b):\n",
    "    n = len(A)\n",
    "    \n",
    "    for i in range(n):\n",
    "        divisor = A[i, i]\n",
    "        A[i] /= divisor\n",
    "        b[i] /= divisor\n",
    "        \n",
    "        for j in range(i + 1, n):\n",
    "            multiplier = A[j, i]\n",
    "            A[j] -= multiplier * A[i]\n",
    "            b[j] -= multiplier * b[i]\n",
    "\n",
    "    for i in range(n - 1, -1, -1):\n",
    "        for j in range(i):\n",
    "            multiplier = A[j, i]\n",
    "            A[j] -= multiplier * A[i]\n",
    "            b[j] -= multiplier * b[i]\n",
    "    \n",
    "    return b\n"
   ]
  },
  {
   "cell_type": "markdown",
   "id": "e4e2da8e",
   "metadata": {},
   "source": [
    "With pivoting"
   ]
  },
  {
   "cell_type": "code",
   "execution_count": 4,
   "id": "75ee805b",
   "metadata": {},
   "outputs": [],
   "source": [
    "def gauss_elimination_pivoting(A, b):\n",
    "    n = len(A)\n",
    "    pivots = []\n",
    "    \n",
    "    for i in range(n):\n",
    "        pivot_row = np.argmax(np.abs(A[i:, i])) + i\n",
    "        if pivot_row != i:\n",
    "            pivots.append((i, pivot_row))\n",
    "            A[[i, pivot_row]] = A[[pivot_row, i]]\n",
    "            b[[i, pivot_row]] = b[[pivot_row, i]]\n",
    "        \n",
    "        divisor = A[i, i]\n",
    "        A[i] /= divisor\n",
    "        b[i] /= divisor\n",
    "        \n",
    "        for j in range(i + 1, n):\n",
    "            multiplier = A[j, i]\n",
    "            A[j] -= multiplier * A[i]\n",
    "            b[j] -= multiplier * b[i]\n",
    "\n",
    "    for i in range(n - 1, -1, -1):\n",
    "        for j in range(i):\n",
    "            multiplier = A[j, i]\n",
    "            A[j] -= multiplier * A[i]\n",
    "            b[j] -= multiplier * b[i]\n",
    "\n",
    "    for i, pivot_row in pivots[::-1]: \n",
    "        A[[i, pivot_row]] = A[[pivot_row, i]]\n",
    "        b[[i, pivot_row]] = b[[pivot_row, i]]\n",
    "\n",
    "    return b"
   ]
  },
  {
   "cell_type": "code",
   "execution_count": 5,
   "id": "0d8d421d-b9bb-4aa0-bb39-05962a79e211",
   "metadata": {},
   "outputs": [
    {
     "name": "stdout",
     "output_type": "stream",
     "text": [
      "[ 2.83798919  1.80229914  5.36850784 -1.30144054  0.64033313  0.42675393\n",
      " -1.41472134 -0.6503081  -4.08639575  1.07940725  1.76257729 -0.62767064\n",
      " -0.77051725  0.37871435  0.87425327 -2.02923471 -5.4361172  -0.6154549\n",
      "  2.529499   -3.97580059 -1.30313638  1.14454921  3.20074878  2.80350471\n",
      "  0.01046537 -0.62280486]\n",
      "[ 2.83798919  1.80229914  5.36850784 -1.30144054  0.64033313  0.42675393\n",
      " -1.41472134 -0.6503081  -4.08639575  1.07940725  1.76257729 -0.62767064\n",
      " -0.77051725  0.37871435  0.87425327 -2.02923471 -5.4361172  -0.6154549\n",
      "  2.529499   -3.97580059 -1.30313638  1.14454921  3.20074878  2.80350471\n",
      "  0.01046537 -0.62280486]\n",
      "[ 2.83798919  1.80229914  5.36850784 -1.30144054  0.64033313  0.42675393\n",
      " -1.41472134 -0.6503081  -4.08639575  1.07940725  1.76257729 -0.62767064\n",
      " -0.77051725  0.37871435  0.87425327 -2.02923471 -5.4361172  -0.6154549\n",
      "  2.529499   -3.97580059 -1.30313638  1.14454921  3.20074878  2.80350471\n",
      "  0.01046537 -0.62280486]\n",
      "Are the results close: True\n",
      "Are the results close: True\n"
     ]
    }
   ],
   "source": [
    "from numpy.linalg import solve\n",
    "\n",
    "n = 17 + 9\n",
    "\n",
    "A = generate_matrix(n, n)\n",
    "b = generate_vector(n)\n",
    "\n",
    "result_gauss = gauss_elimination(A, b)\n",
    "result_gauss_pivot = gauss_elimination_pivoting(A, b)\n",
    "result_numpy = solve(A, b)\n",
    "\n",
    "print(result_gauss)\n",
    "print(result_gauss_pivot)\n",
    "print(result_numpy)\n",
    "\n",
    "print(f\"Are the results close: {np.allclose(result_gauss, result_numpy)}\")\n",
    "print(f\"Are the results close: {np.allclose(result_gauss_pivot, result_numpy)}\")"
   ]
  },
  {
   "cell_type": "markdown",
   "id": "67eb7e7f-9961-48bd-b6db-e4a604e0481f",
   "metadata": {},
   "source": [
    "### LU decomposition"
   ]
  },
  {
   "cell_type": "markdown",
   "id": "736be1ba",
   "metadata": {},
   "source": [
    "With pivoting"
   ]
  },
  {
   "cell_type": "code",
   "execution_count": 6,
   "id": "41f96152",
   "metadata": {},
   "outputs": [],
   "source": [
    "def lu_decomposition(A):\n",
    "    n = len(A)\n",
    "    L = np.eye(n)\n",
    "    U = A.copy()\n",
    "\n",
    "    for i in range(n):\n",
    "        for j in range(i + 1, n):\n",
    "            L[j, i] = U[j, i] / U[i, i]\n",
    "            U[j, i:] -= L[j, i] * U[i, i:]\n",
    "\n",
    "    return L, U\n"
   ]
  },
  {
   "cell_type": "markdown",
   "id": "0d60b753",
   "metadata": {},
   "source": [
    "With pivoting"
   ]
  },
  {
   "cell_type": "code",
   "execution_count": 7,
   "id": "3cf2edca",
   "metadata": {},
   "outputs": [
    {
     "name": "stdout",
     "output_type": "stream",
     "text": [
      "True\n",
      "True\n"
     ]
    }
   ],
   "source": [
    "def lu_decomposition_pivoting(A):\n",
    "    n = len(A)\n",
    "    L = np.zeros((n, n))\n",
    "    U = A.copy()\n",
    "    P = np.eye(n)\n",
    "\n",
    "    for i in range(n):\n",
    "        pivot_row = np.argmax(np.abs(U[i:, i])) + i\n",
    "        if pivot_row != i:\n",
    "            U[[i, pivot_row]] = U[[pivot_row, i]]\n",
    "            L[[i, pivot_row]] = L[[pivot_row, i]]\n",
    "            P[[i, pivot_row]] = P[[pivot_row, i]]\n",
    "\n",
    "        for j in range(i + 1, n):\n",
    "            L[j, i] = U[j, i] / U[i, i]\n",
    "            U[j, i:] -= L[j, i] * U[i, i:]\n",
    "\n",
    "    L = np.eye(n) + L\n",
    "    return P.T, L, U\n",
    "\n",
    "\n",
    "A = generate_matrix(3, 3)\n",
    "\n",
    "L, U = lu_decomposition(A)\n",
    "print(np.allclose(L @ U, A))\n",
    "\n",
    "P, L, U = lu_decomposition_pivoting(A)\n",
    "print(np.allclose(P @ L @ U, A))"
   ]
  },
  {
   "cell_type": "code",
   "execution_count": 8,
   "id": "cdddb21c",
   "metadata": {},
   "outputs": [
    {
     "name": "stdout",
     "output_type": "stream",
     "text": [
      "[[1.         0.         0.        ]\n",
      " [0.42888764 1.         0.        ]\n",
      " [0.40078382 0.24292223 1.        ]]\n",
      "[[1.         0.         0.        ]\n",
      " [0.42888764 1.         0.        ]\n",
      " [0.40078382 0.24292223 1.        ]]\n",
      "Are the results close: True, True\n"
     ]
    }
   ],
   "source": [
    "from scipy.linalg import lu\n",
    "\n",
    "n = 17 + 9\n",
    "n = 3\n",
    "\n",
    "A = generate_matrix(n, n)\n",
    "\n",
    "P, L, U = lu_decomposition_pivoting(A)\n",
    "sp_P, sp_L, sp_U = lu(A)\n",
    "\n",
    "\n",
    "print(L)\n",
    "print(sp_L)\n",
    "print(f\"Are the results close: {np.allclose(L, sp_L)}, {np.allclose(U, sp_U)}\")"
   ]
  }
 ],
 "metadata": {
  "kernelspec": {
   "display_name": "Python 3 (ipykernel)",
   "language": "python",
   "name": "python3"
  },
  "language_info": {
   "codemirror_mode": {
    "name": "ipython",
    "version": 3
   },
   "file_extension": ".py",
   "mimetype": "text/x-python",
   "name": "python",
   "nbconvert_exporter": "python",
   "pygments_lexer": "ipython3",
   "version": "3.11.4"
  }
 },
 "nbformat": 4,
 "nbformat_minor": 5
}
