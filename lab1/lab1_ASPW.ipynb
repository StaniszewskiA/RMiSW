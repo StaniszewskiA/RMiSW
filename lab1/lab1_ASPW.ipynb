{
 "cells": [
  {
   "cell_type": "markdown",
   "id": "356d6920-adcf-45a2-98ca-f74d2d3975c0",
   "metadata": {},
   "source": [
    "Importy"
   ]
  },
  {
   "cell_type": "code",
   "execution_count": 26,
   "id": "7711bb8b-9155-4715-a74c-0c014ffa7dd0",
   "metadata": {},
   "outputs": [],
   "source": [
    "import numpy as np\n",
    "\n",
    "from math import log2, ceil\n",
    "from typing import Tuple"
   ]
  },
  {
   "cell_type": "markdown",
   "id": "1215f908-b79d-4aa4-95b1-fa53e27578df",
   "metadata": {},
   "source": [
    "Funkcje pomocnicze"
   ]
  },
  {
   "cell_type": "code",
   "execution_count": 27,
   "id": "86261bc2-e94c-4c5d-a7b9-a49c33eb8317",
   "metadata": {},
   "outputs": [],
   "source": [
    "def generate_matrix(n_cols: int, n_rows: int):\n",
    "    # Uniform używa rozkładu jednostajnego ciągłego\n",
    "    return np.random.uniform(low=0.1, high=0.01, size=(n_rows, n_cols))"
   ]
  },
  {
   "cell_type": "code",
   "execution_count": 28,
   "id": "d266b19e-a5e1-47e4-9684-1bd577d57484",
   "metadata": {},
   "outputs": [
    {
     "data": {
      "text/plain": [
       "array([[0.04927913, 0.03704572, 0.01228288, 0.02619434, 0.06428243,\n",
       "        0.0357802 , 0.0330776 , 0.09724744, 0.01670379, 0.09295118],\n",
       "       [0.03264955, 0.01519227, 0.05072551, 0.07697377, 0.09816859,\n",
       "        0.04929715, 0.04749002, 0.08346761, 0.07649956, 0.06594478],\n",
       "       [0.04057735, 0.04686567, 0.07614091, 0.02314276, 0.04569485,\n",
       "        0.01512284, 0.03004399, 0.02478144, 0.0360916 , 0.08226447],\n",
       "       [0.03226417, 0.05520435, 0.05941801, 0.01820041, 0.01173993,\n",
       "        0.08115716, 0.05133889, 0.03643815, 0.03931487, 0.09357332],\n",
       "       [0.06026812, 0.03333879, 0.04720169, 0.08655067, 0.01413938,\n",
       "        0.01787775, 0.09609963, 0.0499307 , 0.06829556, 0.06470413],\n",
       "       [0.09798068, 0.03900877, 0.06200823, 0.09629887, 0.02259059,\n",
       "        0.03790485, 0.01360644, 0.086891  , 0.08897027, 0.08912059],\n",
       "       [0.04037133, 0.09191879, 0.01090648, 0.05313083, 0.09502068,\n",
       "        0.0551503 , 0.0321444 , 0.05248458, 0.05530706, 0.0754915 ],\n",
       "       [0.02186671, 0.05338187, 0.04533541, 0.07693259, 0.07545768,\n",
       "        0.08039148, 0.07622412, 0.04411312, 0.05765549, 0.09895809],\n",
       "       [0.09170094, 0.07177915, 0.05117268, 0.026562  , 0.08188528,\n",
       "        0.07728849, 0.05618065, 0.04178993, 0.05774771, 0.09665314],\n",
       "       [0.08428636, 0.05600084, 0.0469985 , 0.0850175 , 0.01631777,\n",
       "        0.08867757, 0.06373598, 0.05352758, 0.0730686 , 0.09151217]])"
      ]
     },
     "execution_count": 28,
     "metadata": {},
     "output_type": "execute_result"
    }
   ],
   "source": [
    "generate_matrix(10, 10)"
   ]
  },
  {
   "cell_type": "code",
   "execution_count": 29,
   "id": "6e56cb36-4fc7-47d3-8c51-70d2dd214d85",
   "metadata": {},
   "outputs": [],
   "source": [
    "class Counter:\n",
    "    \"\"\"\n",
    "    Zliczanie wykonywanych operacji zmiennoprzecinkowych\n",
    "    \"\"\"\n",
    "    def __init__(self) -> None:\n",
    "        self.operation_counter = 0\n",
    "\n",
    "    def count_operations(func):\n",
    "        def wrapper(self, *args, **kwargs):\n",
    "            A, B = args\n",
    "            result = func(self, A, B)\n",
    "            self.operation_counter += A.size\n",
    "            return result\n",
    "        return wrapper\n",
    "    \n",
    "    @count_operations\n",
    "    def add(self, A: np.ndarray, B: np.ndarray) -> np.ndarray:\n",
    "        return A + B\n",
    "\n",
    "    @count_operations\n",
    "    def sub(self, A: np.ndarray, B: np.ndarray) -> np.ndarray:\n",
    "        return A - B\n",
    "\n",
    "    @count_operations\n",
    "    def mul(self, A: np.ndarray, B: np.ndarray) -> np.ndarray:\n",
    "        return A * B\n",
    "\n",
    "    @count_operations\n",
    "    def div(self, A: np.ndarray, B: np.ndarray) -> np.ndarray:\n",
    "        return A / B\n",
    "\n",
    "    def print_counts(self) -> None:\n",
    "        print(f\"Number of flops: {self.operation_counter}\")"
   ]
  },
  {
   "cell_type": "markdown",
   "id": "0f7d6e6b-7c60-407a-af22-98395e03ede2",
   "metadata": {},
   "source": [
    "Test"
   ]
  },
  {
   "cell_type": "code",
   "execution_count": 30,
   "id": "3423b882-b46c-499c-9b80-fb431fad9600",
   "metadata": {},
   "outputs": [
    {
     "name": "stdout",
     "output_type": "stream",
     "text": [
      "[1 2 3]\n",
      "[1 2 3]\n"
     ]
    }
   ],
   "source": [
    "counter = Counter()\n",
    "\n",
    "result = np.zeros([1, 3])\n",
    "\n",
    "mat1 = np.array([1, 2, 3])\n",
    "mat2 = np.array([1, 2, 3])\n",
    "print(mat1)\n",
    "print(mat2)\n",
    "\n",
    "result += counter.add(mat1, mat2)"
   ]
  },
  {
   "cell_type": "code",
   "execution_count": 31,
   "id": "2b509dc8-ab50-4d9b-94ab-7d7351d540a1",
   "metadata": {},
   "outputs": [
    {
     "name": "stdout",
     "output_type": "stream",
     "text": [
      "Number of flops: 3\n",
      "[[2. 4. 6.]]\n"
     ]
    }
   ],
   "source": [
    "counter.print_counts()\n",
    "print(result)"
   ]
  },
  {
   "cell_type": "markdown",
   "id": "e6f0961c-5409-4dfc-b200-2b9bce8c8f48",
   "metadata": {},
   "source": [
    "Funkcje pomocnicze"
   ]
  },
  {
   "cell_type": "code",
   "execution_count": 32,
   "id": "0af1a04a-ede5-4aba-a9c5-067cb128eab7",
   "metadata": {},
   "outputs": [],
   "source": [
    "def resize_matrix_to_2n(A: np.ndarray, B: np.ndarray) -> Tuple[np.ndarray, np.ndarray]:\n",
    "    \"\"\"\n",
    "    Zmiana wielkości macierzy\n",
    "    \"\"\"\n",
    "    size_A: Tuple[int, int] = A.shape\n",
    "    size_B: Tuple[int, int] = B.shape\n",
    "    new_height: int = 0\n",
    "    new_width: int = 0\n",
    "\n",
    "    # Height\n",
    "    if size_A[0] > size_B[0]:\n",
    "        new_height = find_next_power_of_2(size_A[0])\n",
    "    else:\n",
    "        new_height = find_next_power_of_2(size_B[0])\n",
    "\n",
    "    # Width\n",
    "    if size_A[1] > size_B[1]:\n",
    "        new_width = find_next_power_of_2(size_A[1])\n",
    "    else:\n",
    "        new_width = find_next_power_of_2(size_B[1])\n",
    "\n",
    "    # Wypełnienie zerami\n",
    "    new_A = np.pad(\n",
    "        A, [(0, new_height - size_A[0]), (0, new_width - size_A[1])], mode=\"constant\"\n",
    "    )\n",
    "    new_B = np.pad(\n",
    "        B, [(0, new_height - size_B[0]), (0, new_width - size_B[1])], mode=\"constant\"\n",
    "    )\n",
    "    return new_A, new_B\n",
    "\n",
    "def split(array: np.ndarray, n_rows: int, n_cols: int) -> Tuple:\n",
    "    \"\"\"Split a matrix into sub-matrices\"\"\"\n",
    "    r, h = array.shape\n",
    "    return (\n",
    "        array.reshape(h // n_rows, n_rows, -1, n_cols)\n",
    "        .swapaxes(1, 2)\n",
    "        .reshape(-1, n_rows, n_cols)\n",
    "    )\n",
    "\n",
    "def find_next_power_of_2(number: int) -> int:\n",
    "    \"\"\"\n",
    "    Szukanie kolejnej potęgi 2\n",
    "    \"\"\"\n",
    "    return 1 if number == 0 else 2 ** ceil(log2(number))"
   ]
  },
  {
   "cell_type": "markdown",
   "id": "c8f25a23-9a89-4402-9d6b-597b9f823263",
   "metadata": {},
   "source": [
    "Metoda tradycyjna"
   ]
  },
  {
   "cell_type": "code",
   "execution_count": 33,
   "id": "7666b16d-0d66-4d39-9ca7-379c32338f50",
   "metadata": {},
   "outputs": [],
   "source": [
    "def traditional_method(A: np.ndarray, B: np.ndarray, counter: Counter):\n",
    "    add = counter.add\n",
    "    mul = counter.mul\n",
    "    \n",
    "    rows_A, cols_A = A.shape\n",
    "    rows_B, cols_B = B.shape\n",
    "    \n",
    "    result = np.zeros((rows_A, cols_B))\n",
    "\n",
    "    for i in range(rows_A):\n",
    "        for j in range(cols_B):\n",
    "            for k in range(cols_A):\n",
    "                result[i][j] = add(result[i][j], mul(A[i][k], B[k][j]))\n",
    "    \n",
    "    return result\n"
   ]
  },
  {
   "cell_type": "code",
   "execution_count": 34,
   "id": "0d8d421d-b9bb-4aa0-bb39-05962a79e211",
   "metadata": {},
   "outputs": [
    {
     "name": "stdout",
     "output_type": "stream",
     "text": [
      "[[0.06847685 0.09242674 0.03593041 0.07979935 0.02696744 0.05260456\n",
      "  0.06357499 0.03165026]\n",
      " [0.07597613 0.05561496 0.03398503 0.07315033 0.07696341 0.08967335\n",
      "  0.019453   0.01181389]\n",
      " [0.02125536 0.07639281 0.045048   0.02970394 0.07347588 0.03700074\n",
      "  0.02208814 0.08896282]\n",
      " [0.09975328 0.08651687 0.04531915 0.08617574 0.05268663 0.05778726\n",
      "  0.09326506 0.01747105]\n",
      " [0.05275128 0.02317551 0.06790681 0.02506031 0.02989539 0.06199303\n",
      "  0.06851    0.03634735]\n",
      " [0.04290439 0.06546221 0.01066589 0.04424274 0.01854827 0.09575353\n",
      "  0.04819883 0.09228516]\n",
      " [0.03972752 0.09200275 0.07061502 0.09241367 0.09709997 0.07365989\n",
      "  0.05751348 0.02310272]\n",
      " [0.06967913 0.0555624  0.09577211 0.01832118 0.05268774 0.0337162\n",
      "  0.03290372 0.04784483]]\n",
      "[[0.06322776 0.01746802 0.07433302 0.08484982 0.03892547 0.0530036\n",
      "  0.07434045 0.06763021]\n",
      " [0.08707845 0.03390725 0.06815657 0.06612816 0.06851413 0.03813852\n",
      "  0.05509436 0.08437869]\n",
      " [0.08726338 0.01297713 0.07866511 0.09706102 0.06686537 0.08937582\n",
      "  0.06967884 0.05350871]\n",
      " [0.01610686 0.0988255  0.07939378 0.04563147 0.03780039 0.02926845\n",
      "  0.04075652 0.02705978]\n",
      " [0.06453    0.02065326 0.09992676 0.08183543 0.08427376 0.03642104\n",
      "  0.09049676 0.03625875]\n",
      " [0.07446723 0.092587   0.09280923 0.01030744 0.07537508 0.09228137\n",
      "  0.036766   0.03970468]\n",
      " [0.08829166 0.04257514 0.06297752 0.05085361 0.09062318 0.0554666\n",
      "  0.01480905 0.02001419]\n",
      " [0.06882732 0.0173205  0.04880444 0.06260988 0.06640663 0.05676293\n",
      "  0.05790665 0.09895126]]\n",
      "[[0.03024781 0.02136495 0.03367705 0.02701481 0.02851785 0.02386091\n",
      "  0.0230875  0.02398258]\n",
      " [0.02796537 0.02180802 0.03573407 0.02571241 0.0275979  0.02415437\n",
      "  0.02529561 0.02153831]\n",
      " [0.02797559 0.01390625 0.02919772 0.0256706  0.02708678 0.0213012\n",
      "  0.02362681 0.02447598]\n",
      " [0.03632379 0.0244924  0.04107277 0.03326029 0.03450632 0.02857597\n",
      "  0.02813774 0.02660356]\n",
      " [0.026779   0.01496867 0.02766163 0.02258831 0.02494355 0.02315541\n",
      "  0.01905543 0.018348  ]\n",
      " [0.02899116 0.02037893 0.03028217 0.02175735 0.02781757 0.02444252\n",
      "  0.02059923 0.02476396]\n",
      " [0.0365931  0.0255369  0.04340444 0.03360247 0.0365462  0.029466\n",
      "  0.03039396 0.02661156]\n",
      " [0.03000528 0.012594   0.03075624 0.02904635 0.0267561  0.02447945\n",
      "  0.02492664 0.02366304]]\n",
      "[[0.03024781 0.02136495 0.03367705 0.02701481 0.02851785 0.02386091\n",
      "  0.0230875  0.02398258]\n",
      " [0.02796537 0.02180802 0.03573407 0.02571241 0.0275979  0.02415437\n",
      "  0.02529561 0.02153831]\n",
      " [0.02797559 0.01390625 0.02919772 0.0256706  0.02708678 0.0213012\n",
      "  0.02362681 0.02447598]\n",
      " [0.03632379 0.0244924  0.04107277 0.03326029 0.03450632 0.02857597\n",
      "  0.02813774 0.02660356]\n",
      " [0.026779   0.01496867 0.02766163 0.02258831 0.02494355 0.02315541\n",
      "  0.01905543 0.018348  ]\n",
      " [0.02899116 0.02037893 0.03028217 0.02175735 0.02781757 0.02444252\n",
      "  0.02059923 0.02476396]\n",
      " [0.0365931  0.0255369  0.04340444 0.03360247 0.0365462  0.029466\n",
      "  0.03039396 0.02661156]\n",
      " [0.03000528 0.012594   0.03075624 0.02904635 0.0267561  0.02447945\n",
      "  0.02492664 0.02366304]]\n",
      "Are the results close: True\n",
      "Number of flops: 1024\n"
     ]
    }
   ],
   "source": [
    "A = generate_matrix(8, 8)\n",
    "B = generate_matrix(8, 8)\n",
    "\n",
    "print(A)\n",
    "print(B)\n",
    "\n",
    "counter = Counter()\n",
    "\n",
    "result_trad = traditional_method(A, B, counter)\n",
    "result_numpy = A @ B\n",
    "\n",
    "print(result_trad)\n",
    "print(result_numpy)\n",
    "\n",
    "print(f\"Are the results close: {np.allclose(result_trad, result_numpy)}\")\n",
    "\n",
    "counter.print_counts()"
   ]
  },
  {
   "cell_type": "markdown",
   "id": "67eb7e7f-9961-48bd-b6db-e4a604e0481f",
   "metadata": {},
   "source": [
    "Algorytm Bineta"
   ]
  },
  {
   "cell_type": "code",
   "execution_count": 35,
   "id": "46b74bae-5961-4f94-a70a-321284082a0d",
   "metadata": {},
   "outputs": [],
   "source": [
    "def binet_core_algorithm(A: np.ndarray, B: np.ndarray, counter: Counter) -> np.ndarray:\n",
    "    add = counter.add\n",
    "    mul = counter.mul\n",
    "    \n",
    "    if A.size > 1:\n",
    "        split_at = A.shape[0] // 2\n",
    "        A11, A12, A21, A22 = split(A, split_at, split_at)\n",
    "        B11, B12, B21, B22 = split(B, split_at, split_at)\n",
    "\n",
    "        C11 = add(\n",
    "            binet_core_algorithm(A11, B11, counter),\n",
    "            binet_core_algorithm(A12, B21, counter),\n",
    "        )\n",
    "        C12 = add(\n",
    "            binet_core_algorithm(A11, B12, counter),\n",
    "            binet_core_algorithm(A12, B22, counter),\n",
    "        )     \n",
    "        C21 = add(\n",
    "            binet_core_algorithm(A21, B11, counter),\n",
    "            binet_core_algorithm(A22, B21, counter),\n",
    "        )\n",
    "        \n",
    "        C22 = add(\n",
    "            binet_core_algorithm(A21, B12, counter),\n",
    "            binet_core_algorithm(A22, B22, counter),\n",
    "        )\n",
    "\n",
    "        return np.concatenate(\n",
    "            [np.concatenate([C11, C12], axis=1), np.concatenate([C21, C22], axis=1)],\n",
    "            axis=0,\n",
    "        )\n",
    "    \n",
    "    else:\n",
    "        return mul(A, B)\n",
    "\n",
    "def binet_algorithm(A: np.ndarray, B: np.ndarray, counter: Counter) -> np.ndarray:\n",
    "    new_A, new_B = resize_matrix_to_2n(A, B)\n",
    "    C = binet_core_algorithm(new_A, new_B, counter)\n",
    "    C = C[~np.all(C == 0, axis=1)]\n",
    "    C = C[:, ~np.all(C == 0, axis=0)]\n",
    "    return C\n",
    "    "
   ]
  },
  {
   "cell_type": "markdown",
   "id": "6938f252-1543-4002-b961-733a75f93d39",
   "metadata": {},
   "source": [
    "Test algorytmu Bineta"
   ]
  },
  {
   "cell_type": "code",
   "execution_count": 36,
   "id": "931504e1-996f-40d4-aa32-c0bde8c51849",
   "metadata": {},
   "outputs": [
    {
     "name": "stdout",
     "output_type": "stream",
     "text": [
      "[[0.07374326 0.04378949 0.07878374 0.01556261 0.0305617  0.0421347\n",
      "  0.05299685 0.08592514]\n",
      " [0.05398264 0.02828774 0.01606108 0.06864392 0.03300005 0.02357766\n",
      "  0.02569097 0.07824282]\n",
      " [0.01142609 0.06292885 0.09415046 0.09781047 0.07577598 0.0856092\n",
      "  0.05005053 0.04764445]\n",
      " [0.01560404 0.06195881 0.0558669  0.09919641 0.0365413  0.02393659\n",
      "  0.04326407 0.0444737 ]\n",
      " [0.09732417 0.09217225 0.06553685 0.05904379 0.02501387 0.06412631\n",
      "  0.0228347  0.08835922]\n",
      " [0.09781657 0.09912934 0.05975761 0.03885857 0.06931242 0.05390678\n",
      "  0.08772514 0.07603904]\n",
      " [0.02152323 0.02301472 0.08096731 0.07230533 0.07367168 0.08801349\n",
      "  0.02295858 0.03109538]\n",
      " [0.01880328 0.07041359 0.08208487 0.0535314  0.05114766 0.09564365\n",
      "  0.07134235 0.0264223 ]]\n",
      "[[0.06489724 0.01188876 0.08292736 0.04856731 0.0806501  0.07520101\n",
      "  0.01113252 0.04740131]\n",
      " [0.07524891 0.06154253 0.06203767 0.09949072 0.06191891 0.02346354\n",
      "  0.07649008 0.06292923]\n",
      " [0.06341394 0.02917859 0.07652613 0.07807325 0.03038735 0.03049101\n",
      "  0.02840025 0.06012592]\n",
      " [0.05133221 0.01501087 0.07594397 0.06191602 0.04821839 0.05432579\n",
      "  0.07769504 0.04073764]\n",
      " [0.05017804 0.02389604 0.06138976 0.06548101 0.05565907 0.0895681\n",
      "  0.0882682  0.02386234]\n",
      " [0.03108144 0.09685849 0.05992014 0.01823597 0.0475205  0.07227366\n",
      "  0.08687559 0.02021383]\n",
      " [0.08228879 0.03482771 0.08061056 0.05160043 0.01145584 0.05872078\n",
      "  0.02603301 0.05843024]\n",
      " [0.01892376 0.06132548 0.08175591 0.08449242 0.08683402 0.01599173\n",
      "  0.01301766 0.06909481]]\n",
      "[[0.0227059  0.01803061 0.03174072 0.0278169  0.02357488 0.02008936\n",
      "  0.01647334 0.02223667]\n",
      " [0.01615752 0.01264703 0.02458015 0.02146769 0.01994883 0.01636176\n",
      "  0.01520265 0.01627241]\n",
      " [0.02795148 0.02299173 0.03719598 0.03335372 0.02539159 0.02719548\n",
      "  0.03126306 0.02390226]\n",
      " [0.02128902 0.01454357 0.0277475  0.02624513 0.01910442 0.01797421\n",
      "  0.02121683 0.01899539]\n",
      " [0.02723814 0.02265101 0.03773095 0.03412079 0.03076864 0.02431643\n",
      "  0.02410602 0.02609192]\n",
      " [0.03340276 0.02418655 0.0425589  0.03815764 0.03174375 0.03008643\n",
      "  0.02746247 0.02917408]\n",
      " [0.02088464 0.018112   0.02908932 0.02437442 0.02035381 0.0233605\n",
      "  0.02506882 0.01730938]\n",
      " [0.02638195 0.02234683 0.03305668 0.02864894 0.02145547 0.0245827\n",
      "  0.02711065 0.02158657]]\n",
      "[[0.0227059  0.01803061 0.03174072 0.0278169  0.02357488 0.02008936\n",
      "  0.01647334 0.02223667]\n",
      " [0.01615752 0.01264703 0.02458015 0.02146769 0.01994883 0.01636176\n",
      "  0.01520265 0.01627241]\n",
      " [0.02795148 0.02299173 0.03719598 0.03335372 0.02539159 0.02719548\n",
      "  0.03126306 0.02390226]\n",
      " [0.02128902 0.01454357 0.0277475  0.02624513 0.01910442 0.01797421\n",
      "  0.02121683 0.01899539]\n",
      " [0.02723814 0.02265101 0.03773095 0.03412079 0.03076864 0.02431643\n",
      "  0.02410602 0.02609192]\n",
      " [0.03340276 0.02418655 0.0425589  0.03815764 0.03174375 0.03008643\n",
      "  0.02746247 0.02917408]\n",
      " [0.02088464 0.018112   0.02908932 0.02437442 0.02035381 0.0233605\n",
      "  0.02506882 0.01730938]\n",
      " [0.02638195 0.02234683 0.03305668 0.02864894 0.02145547 0.0245827\n",
      "  0.02711065 0.02158657]]\n",
      "Are the results close: True\n",
      "Number of flops: 960\n"
     ]
    }
   ],
   "source": [
    "A = generate_matrix(8, 8)\n",
    "B = generate_matrix(8, 8)\n",
    "\n",
    "print(A)\n",
    "print(B)\n",
    "\n",
    "counter = Counter()\n",
    "\n",
    "result_binet = binet_algorithm(A, B, counter)\n",
    "result_numpy = A @ B\n",
    "\n",
    "print(result_binet)\n",
    "print(result_numpy)\n",
    "\n",
    "print(f\"Are the results close: {np.allclose(result_binet, result_numpy)}\")\n",
    "\n",
    "counter.print_counts()"
   ]
  },
  {
   "cell_type": "markdown",
   "id": "9a88000a-c590-4fc3-b9f5-db6e08d602a3",
   "metadata": {},
   "source": [
    "Algorytm Strassena"
   ]
  },
  {
   "cell_type": "code",
   "execution_count": 37,
   "id": "35041912-c08f-474d-84e3-fad21bed9a39",
   "metadata": {},
   "outputs": [],
   "source": [
    "def strassen_core_algorithm(A: np.ndarray, B: np.ndarray, counter: Counter) -> np.ndarray:\n",
    "    add = counter.add\n",
    "    sub = counter.sub\n",
    "    mul = counter.mul\n",
    "\n",
    "    if A.size > 1:\n",
    "        split_at = A.shape[0] // 2\n",
    "        A11, A12, A21, A22 = split(A, split_at, split_at)\n",
    "        B11, B12, B21, B22 = split(B, split_at, split_at)\n",
    "\n",
    "        P1 = strassen_core_algorithm(add(A11, A22), add(B11, B22), counter)\n",
    "        P2 = strassen_core_algorithm(add(A21, A22), B11, counter)\n",
    "        P3 = strassen_core_algorithm(A11, sub(B12, B22), counter)\n",
    "        P4 = strassen_core_algorithm(A22, sub(B21, B11), counter)\n",
    "        P5 = strassen_core_algorithm(add(A11, A12), B22, counter)\n",
    "        P6 = strassen_core_algorithm(sub(A21, A11), add(B11, B12), counter)\n",
    "        P7 = strassen_core_algorithm(sub(A12, A22), add(B21, B22), counter)\n",
    "\n",
    "        C11 = add(sub(add(P1, P4), P5), P7)\n",
    "        C12 = add(P3, P5)\n",
    "        C21 = add(P2, P4)\n",
    "        C22 = add(add(sub(P1, P2), P3), P6)\n",
    "\n",
    "        return np.concatenate(\n",
    "                    [np.concatenate([C11, C12], axis=1), np.concatenate([C21, C22], axis=1)],\n",
    "                    axis=0,\n",
    "                )\n",
    "    else:\n",
    "        return mul(A, B)\n",
    "\n",
    "def strassen_algorithm(A: np.ndarray, B: np.ndarray, counter: Counter) -> np.ndarray:\n",
    "    new_A, new_B = resize_matrix_to_2n(A, B)\n",
    "    C = strassen_core_algorithm(new_A, new_B, counter)\n",
    "    C = C[~np.all(C == 0, axis=1)]\n",
    "    C = C[:, ~np.all(C == 0, axis=0)]\n",
    "    return C\n",
    "    "
   ]
  },
  {
   "cell_type": "markdown",
   "id": "b36cd20d-556b-4f99-914e-9fa5b9271880",
   "metadata": {},
   "source": [
    "Test algorytmu Strassena"
   ]
  },
  {
   "cell_type": "code",
   "execution_count": 38,
   "id": "5ced2299-927a-4323-99e9-32e49c2dd8fc",
   "metadata": {},
   "outputs": [
    {
     "name": "stdout",
     "output_type": "stream",
     "text": [
      "[[0.03435768 0.04075362 0.07756796 0.05587304 0.06223411 0.04957673\n",
      "  0.06328711 0.05616246]\n",
      " [0.01563537 0.07319597 0.05160383 0.08539957 0.01191353 0.07397711\n",
      "  0.02551763 0.01476982]\n",
      " [0.04569909 0.07485656 0.06300762 0.0499224  0.08811164 0.0283736\n",
      "  0.06397983 0.03097006]\n",
      " [0.05667718 0.09107368 0.07701716 0.08729109 0.04457045 0.08327185\n",
      "  0.03744026 0.06881327]\n",
      " [0.05226199 0.04959832 0.0227044  0.08304319 0.02197578 0.08158666\n",
      "  0.02283381 0.05625705]\n",
      " [0.07472607 0.01175404 0.05436706 0.08301421 0.03925452 0.02644565\n",
      "  0.01665758 0.03751313]\n",
      " [0.08447382 0.09912744 0.01141723 0.06538531 0.01910503 0.056192\n",
      "  0.07372309 0.08201038]\n",
      " [0.02746841 0.04771084 0.03132272 0.06470694 0.03499964 0.03775452\n",
      "  0.08012526 0.06520375]]\n",
      "[[0.07433888 0.06786828 0.04149146 0.05327891 0.04731125 0.06547263\n",
      "  0.08016581 0.0283525 ]\n",
      " [0.01060037 0.02306747 0.08054382 0.02669057 0.0187205  0.0254693\n",
      "  0.09449671 0.0456736 ]\n",
      " [0.01565012 0.02365844 0.02348728 0.08567358 0.03447109 0.07633497\n",
      "  0.09563667 0.08196631]\n",
      " [0.09783661 0.01730505 0.06244892 0.04789123 0.08626182 0.04476974\n",
      "  0.06588584 0.08283325]\n",
      " [0.03005473 0.065871   0.04228282 0.03475975 0.07851467 0.04307001\n",
      "  0.01727128 0.01512312]\n",
      " [0.03145851 0.01966698 0.09660581 0.07478    0.02101786 0.06456918\n",
      "  0.04527328 0.06815751]\n",
      " [0.0678966  0.05706821 0.01752301 0.03520363 0.0407855  0.08663087\n",
      "  0.04105255 0.0904269 ]\n",
      " [0.05763801 0.09905216 0.01220318 0.05793667 0.08344584 0.06102493\n",
      "  0.07213985 0.07895827]]\n",
      "[[0.0206306  0.02032305 0.01923425 0.02359202 0.023078   0.0265015\n",
      "  0.02767399 0.02829914]\n",
      " [0.01637016 0.01060719 0.0213671  0.0189978  0.01601901 0.01905213\n",
      "  0.02440005 0.02378607]\n",
      " [0.01973087 0.02026373 0.02048855 0.02145284 0.02274995 0.02500289\n",
      "  0.0277193  0.02551163]\n",
      " [0.02539181 0.02280646 0.02837212 0.02931049 0.02709    0.03055674\n",
      "  0.03730762 0.03447865]\n",
      " [0.0209108  0.01659285 0.02178006 0.02095858 0.02041309 0.0217616\n",
      "  0.02558825 0.02488666]\n",
      " [0.01995723 0.01583769 0.01547256 0.0190304  0.02023806 0.02018908\n",
      "  0.02303543 0.02085251]\n",
      " [0.02598061 0.02411547 0.02436937 0.02346883 0.02441742 0.02769675\n",
      "  0.0333557  0.03053524]\n",
      " [0.02080669 0.01890476 0.017086   0.01915759 0.02110464 0.02316711\n",
      "  0.02427631 0.02638163]]\n",
      "[[0.0206306  0.02032305 0.01923425 0.02359202 0.023078   0.0265015\n",
      "  0.02767399 0.02829914]\n",
      " [0.01637016 0.01060719 0.0213671  0.0189978  0.01601901 0.01905213\n",
      "  0.02440005 0.02378607]\n",
      " [0.01973087 0.02026373 0.02048855 0.02145284 0.02274995 0.02500289\n",
      "  0.0277193  0.02551163]\n",
      " [0.02539181 0.02280646 0.02837212 0.02931049 0.02709    0.03055674\n",
      "  0.03730762 0.03447865]\n",
      " [0.0209108  0.01659285 0.02178006 0.02095858 0.02041309 0.0217616\n",
      "  0.02558825 0.02488666]\n",
      " [0.01995723 0.01583769 0.01547256 0.0190304  0.02023806 0.02018908\n",
      "  0.02303543 0.02085251]\n",
      " [0.02598061 0.02411547 0.02436937 0.02346883 0.02441742 0.02769675\n",
      "  0.0333557  0.03053524]\n",
      " [0.02080669 0.01890476 0.017086   0.01915759 0.02110464 0.02316711\n",
      "  0.02427631 0.02638163]]\n",
      "(8, 8)\n",
      "Number of flops: 2017\n"
     ]
    }
   ],
   "source": [
    "A = generate_matrix(8, 8)\n",
    "B = generate_matrix(8, 8)\n",
    "\n",
    "print(A)\n",
    "print(B)\n",
    "\n",
    "counter = Counter()\n",
    "\n",
    "result_strassen = strassen_algorithm(A, B, counter)\n",
    "result_numpy = A @ B\n",
    "\n",
    "print(result_strassen)\n",
    "print(result_numpy)\n",
    "print(result_strassen.shape)\n",
    "# print(f\"Are the results close: {np.allclose(result_strassen, result_numpy)}\")\n",
    "\n",
    "counter.print_counts()"
   ]
  },
  {
   "cell_type": "code",
   "execution_count": 41,
   "id": "df6f6ff2-f624-44d2-a998-d52ca9406ecd",
   "metadata": {},
   "outputs": [],
   "source": [
    "import matplotlib.pyplot as plt\n",
    "from time import time\n",
    "from matplotlib.ticker import FormatStrFormatter\n",
    "from typing import List\n",
    "from tqdm import tqdm\n",
    "\n",
    "times_trad: List[float] = []\n",
    "times_binet: List[float] = []\n",
    "times_strassen: List[float] = []\n",
    "\n",
    "flops_trad: List[int] = []\n",
    "flops_binet: List[int] = []\n",
    "flops_strassen: List[int] = []\n",
    "\n",
    "power_basis = list(range(2, 10))\n",
    "powers = [2**k for k in power_basis]\n",
    "\n",
    "np.random.seed(42)"
   ]
  },
  {
   "cell_type": "code",
   "execution_count": 42,
   "id": "6c7a85c2-81e7-4cfa-9eef-1d04ae046aaa",
   "metadata": {},
   "outputs": [
    {
     "name": "stderr",
     "output_type": "stream",
     "text": [
      "100%|██████████| 8/8 [05:35<00:00, 41.89s/it]\n"
     ]
    }
   ],
   "source": [
    "for k in tqdm(power_basis):\n",
    "    A = np.random.rand(2**k, 2**k)\n",
    "    B = np.random.rand(2**k, 2**k)\n",
    "\n",
    "    counter = Counter()\n",
    "    start_time: float = time()\n",
    "\n",
    "    traditional_method(A, B, counter)\n",
    "\n",
    "    total_time: float = time() - start_time\n",
    "\n",
    "    times_trad.append(total_time)\n",
    "    flops_trad.append(counter.operation_counter)"
   ]
  },
  {
   "cell_type": "code",
   "execution_count": 43,
   "id": "bb54396a-39f9-44f0-a502-2af111d7e6eb",
   "metadata": {},
   "outputs": [
    {
     "name": "stdout",
     "output_type": "stream",
     "text": [
      "268435456\n"
     ]
    },
    {
     "data": {
      "image/png": "[encoded data removed]",
      "text/plain": [
       "<Figure size 640x480 with 1 Axes>"
      ]
     },
     "metadata": {},
     "output_type": "display_data"
    }
   ],
   "source": [
    "plt.gca().yaxis.set_major_formatter(FormatStrFormatter(\"%d s\"))\n",
    "plt.xlabel(\"Rozmiar macierzy\")\n",
    "plt.ylabel(\"Czas\")\n",
    "plt.plot(powers, times_trad)\n",
    "\n",
    "print(counter.operation_counter)"
   ]
  },
  {
   "cell_type": "code",
   "execution_count": 44,
   "id": "8655e960",
   "metadata": {},
   "outputs": [
    {
     "name": "stdout",
     "output_type": "stream",
     "text": [
      "268435456\n"
     ]
    },
    {
     "data": {
      "image/png": "[encoded data removed]",
      "text/plain": [
       "<Figure size 640x480 with 1 Axes>"
      ]
     },
     "metadata": {},
     "output_type": "display_data"
    }
   ],
   "source": [
    "plt.xlabel(\"Rozmiar macierzy\")\n",
    "plt.ylabel(\"Flops\")\n",
    "plt.plot(powers, flops_trad)\n",
    "\n",
    "print(counter.operation_counter)"
   ]
  },
  {
   "cell_type": "code",
   "execution_count": null,
   "id": "171eceb2-aadc-4a8a-a69b-2f1782c90723",
   "metadata": {},
   "outputs": [
    {
     "name": "stderr",
     "output_type": "stream",
     "text": [
      "100%|██████████| 8/8 [07:08<00:00, 53.53s/it]\n"
     ]
    }
   ],
   "source": [
    "for k in tqdm(power_basis):\n",
    "    A = np.random.rand(2**k, 2**k)\n",
    "    B = np.random.rand(2**k, 2**k)\n",
    "\n",
    "    counter = Counter()\n",
    "    start_time: float = time()\n",
    "\n",
    "    binet_algorithm(A, B, counter)\n",
    "\n",
    "    total_time: float = time() - start_time\n",
    "\n",
    "    times_binet.append(total_time)\n",
    "    flops_binet.append(counter.operation_counter)"
   ]
  },
  {
   "cell_type": "code",
   "execution_count": null,
   "id": "c6b94125-807d-4a50-9c8c-46abdb8f8c49",
   "metadata": {},
   "outputs": [
    {
     "name": "stdout",
     "output_type": "stream",
     "text": [
      "268173312\n"
     ]
    },
    {
     "data": {
      "image/png": "[encoded data removed]",
      "text/plain": [
       "<Figure size 640x480 with 1 Axes>"
      ]
     },
     "metadata": {},
     "output_type": "display_data"
    }
   ],
   "source": [
    "plt.gca().yaxis.set_major_formatter(FormatStrFormatter(\"%d s\"))\n",
    "plt.xlabel(\"Rozmiar macierzy\")\n",
    "plt.ylabel(\"Czas\")\n",
    "plt.plot(powers, times_binet)\n",
    "\n",
    "print(counter.operation_counter)"
   ]
  },
  {
   "cell_type": "code",
   "execution_count": null,
   "id": "0d28fcfd",
   "metadata": {},
   "outputs": [],
   "source": [
    "plt.xlabel(\"Rozmiar macierzy\")\n",
    "plt.ylabel(\"Flops\")\n",
    "plt.plot(powers, flops_binet)\n",
    "\n",
    "print(counter.operation_counter)"
   ]
  },
  {
   "cell_type": "code",
   "execution_count": null,
   "id": "1d45026d-1d25-44e8-8c63-4ed355fb8ceb",
   "metadata": {},
   "outputs": [
    {
     "name": "stderr",
     "output_type": "stream",
     "text": [
      "100%|██████████| 8/8 [03:55<00:00, 29.46s/it]\n"
     ]
    }
   ],
   "source": [
    "for k in tqdm(power_basis):\n",
    "    A = np.random.rand(2**k, 2**k)\n",
    "    B = np.random.rand(2**k, 2**k)\n",
    "\n",
    "    counter = Counter()\n",
    "    start_time: float = time()\n",
    "\n",
    "    strassen_algorithm(A, B, counter)\n",
    "\n",
    "    total_time: float = time() - start_time\n",
    "\n",
    "    times_strassen.append(total_time)\n",
    "    flops_strassen.append(counter.operation_counter)"
   ]
  },
  {
   "cell_type": "code",
   "execution_count": null,
   "id": "0ebbc398-537f-46b9-94c5-c9f4356d1efc",
   "metadata": {},
   "outputs": [
    {
     "name": "stdout",
     "output_type": "stream",
     "text": [
      "[0.0027573108673095703, 0.005704641342163086, 0.01666092872619629, 0.08771181106567383, 0.5952401161193848, 4.148430347442627, 29.262978315353394, 201.56494140625]\n"
     ]
    }
   ],
   "source": [
    "print(times_strassen)"
   ]
  },
  {
   "cell_type": "code",
   "execution_count": null,
   "id": "72a8ca60-4635-496f-8ceb-d7d44ae922c0",
   "metadata": {},
   "outputs": [
    {
     "data": {
      "text/plain": [
       "[<matplotlib.lines.Line2D at 0x7fcbf55970d0>]"
      ]
     },
     "execution_count": 22,
     "metadata": {},
     "output_type": "execute_result"
    },
    {
     "data": {
      "image/png": "[encoded data removed]",
      "text/plain": [
       "<Figure size 640x480 with 1 Axes>"
      ]
     },
     "metadata": {},
     "output_type": "display_data"
    }
   ],
   "source": [
    "plt.gca().yaxis.set_major_formatter(FormatStrFormatter(\"%d s\"))\n",
    "plt.xlabel(\"Rozmiar macierzy\")\n",
    "plt.ylabel(\"Czas\")\n",
    "plt.plot(powers, times_strassen)\n"
   ]
  },
  {
   "cell_type": "code",
   "execution_count": null,
   "id": "abf01c61",
   "metadata": {},
   "outputs": [],
   "source": [
    "plt.xlabel(\"Rozmiar macierzy\")\n",
    "plt.ylabel(\"Flops\")\n",
    "plt.plot(powers, flops_strassen)"
   ]
  },
  {
   "cell_type": "code",
   "execution_count": null,
   "id": "1a0f126d-9d1b-46ad-81bd-0531adc3d3ed",
   "metadata": {},
   "outputs": [
    {
     "name": "stdout",
     "output_type": "stream",
     "text": [
      "Czas przemnażania dwóch macierzy o wymiarach 512x512 metodą tradycyjną: 177.09 sekund\n",
      "Czas przemnażania dwóch macierzy o wymiarach 512x512 metodą Bineta: 378.46 sekund\n",
      "Czas przemnażania dwóch macierzy o wymiarach 512x512 metodą Strassena: 208.07 sekund\n"
     ]
    }
   ],
   "source": [
    "print(f\"Czas przemnażania dwóch macierzy o wymiarach {powers[-1]}x{powers[-1]} metodą tradycyjną: {times_trad[-1]:.2f} sekund\")\n",
    "print(f\"Czas przemnażania dwóch macierzy o wymiarach {powers[-1]}x{powers[-1]} metodą Bineta: {times_binet[-1]:.2f} sekund\")\n",
    "print(f\"Czas przemnażania dwóch macierzy o wymiarach {powers[-1]}x{powers[-1]} metodą Strassena: {times_strassen[-1]:.2f} sekund\")"
   ]
  },
  {
   "cell_type": "code",
   "execution_count": null,
   "id": "0c03caf4-6b6d-47d3-8762-baf1a00d12ff",
   "metadata": {},
   "outputs": [
    {
     "name": "stdout",
     "output_type": "stream",
     "text": [
      "Ilość operacji zmniennoprzecinkowych wykonanych podczas przemnażania dwóch macierzy o wymiarach 512x512 metodą tradycyjną: 268435456\n",
      "Ilość operacji zmniennoprzecinkowych wykonanych podczas przemnażania dwóch macierzy o wymiarach 512x512 metodą Bineta: 268173312\n",
      "Ilość operacji zmniennoprzecinkowych wykonanych podczas przemnażania dwóch macierzy o wymiarach 512x512 metodą Strassena: 280902385\n"
     ]
    }
   ],
   "source": [
    "print(f\"Ilość operacji zmniennoprzecinkowych wykonanych podczas przemnażania dwóch macierzy o wymiarach {powers[-1]}x{powers[-1]} metodą tradycyjną: {flops_trad[-1]}\")\n",
    "print(f\"Ilość operacji zmniennoprzecinkowych wykonanych podczas przemnażania dwóch macierzy o wymiarach {powers[-1]}x{powers[-1]} metodą Bineta: {flops_binet[-1]}\")\n",
    "print(f\"Ilość operacji zmniennoprzecinkowych wykonanych podczas przemnażania dwóch macierzy o wymiarach {powers[-1]}x{powers[-1]} metodą Strassena: {flops_strassen[-1]}\")"
   ]
  },
  {
   "cell_type": "code",
   "execution_count": null,
   "id": "70d79990-b4e7-4f8a-a8d9-46b07782bce2",
   "metadata": {},
   "outputs": [],
   "source": []
  }
 ],
 "metadata": {
  "kernelspec": {
   "display_name": "Python 3 (ipykernel)",
   "language": "python",
   "name": "python3"
  },
  "language_info": {
   "codemirror_mode": {
    "name": "ipython",
    "version": 3
   },
   "file_extension": ".py",
   "mimetype": "text/x-python",
   "name": "python",
   "nbconvert_exporter": "python",
   "pygments_lexer": "ipython3",
   "version": "3.10.9"
  }
 },
 "nbformat": 4,
 "nbformat_minor": 5
}
