{
 "cells": [
  {
   "cell_type": "markdown",
   "id": "356d6920-adcf-45a2-98ca-f74d2d3975c0",
   "metadata": {},
   "source": [
    "Importy"
   ]
  },
  {
   "cell_type": "code",
   "execution_count": 2,
   "id": "7711bb8b-9155-4715-a74c-0c014ffa7dd0",
   "metadata": {},
   "outputs": [],
   "source": [
    "import numpy as np\n",
    "\n",
    "from math import log, log2, ceil, pow\n",
    "from typing import Tuple"
   ]
  },
  {
   "cell_type": "markdown",
   "id": "1215f908-b79d-4aa4-95b1-fa53e27578df",
   "metadata": {},
   "source": [
    "Funkcje pomocnicze"
   ]
  },
  {
   "cell_type": "code",
   "execution_count": 3,
   "id": "86261bc2-e94c-4c5d-a7b9-a49c33eb8317",
   "metadata": {},
   "outputs": [],
   "source": [
    "def generate_matrix(n_cols: int, n_rows: int):\n",
    "    # Uniform używa rozkładu jednostajnego ciągłego\n",
    "    return np.random.uniform(low=0.1, high=0.01, size=(n_rows, n_cols))"
   ]
  },
  {
   "cell_type": "code",
   "execution_count": 4,
   "id": "d266b19e-a5e1-47e4-9684-1bd577d57484",
   "metadata": {},
   "outputs": [
    {
     "data": {
      "text/plain": [
       "array([[0.02048756, 0.07317859, 0.07488728, 0.01266722, 0.04356071,\n",
       "        0.03148394, 0.09342073, 0.05035058, 0.0993729 , 0.04005576],\n",
       "       [0.06119798, 0.09939487, 0.03909567, 0.05139163, 0.0789351 ,\n",
       "        0.01364536, 0.0451544 , 0.03560414, 0.03171505, 0.05368401],\n",
       "       [0.03819064, 0.08936765, 0.0906791 , 0.06610749, 0.08731455,\n",
       "        0.0986205 , 0.05219401, 0.05393204, 0.05047147, 0.0719952 ],\n",
       "       [0.06552919, 0.01770957, 0.02127113, 0.07839934, 0.01507322,\n",
       "        0.04428324, 0.03991676, 0.09261331, 0.02184332, 0.09320876],\n",
       "       [0.05014065, 0.01647014, 0.08801985, 0.04550347, 0.08517095,\n",
       "        0.05943921, 0.07966046, 0.09896455, 0.08836492, 0.04127784],\n",
       "       [0.07465359, 0.0864118 , 0.01985034, 0.09480114, 0.03090715,\n",
       "        0.01751956, 0.05962314, 0.05242505, 0.06687481, 0.09894434],\n",
       "       [0.04487622, 0.06646563, 0.08013195, 0.08594683, 0.07693243,\n",
       "        0.0510623 , 0.01591155, 0.03990472, 0.0756664 , 0.01275852],\n",
       "       [0.03588569, 0.08487175, 0.05701851, 0.08601178, 0.0537702 ,\n",
       "        0.03179398, 0.0893492 , 0.07093048, 0.0894985 , 0.09285774],\n",
       "       [0.06091399, 0.04071726, 0.08208255, 0.09690888, 0.02578643,\n",
       "        0.07033673, 0.01896273, 0.03741963, 0.09533533, 0.08763184],\n",
       "       [0.04152178, 0.06415789, 0.0431172 , 0.05888572, 0.01314134,\n",
       "        0.0856662 , 0.02291732, 0.05991428, 0.03020335, 0.04897875]])"
      ]
     },
     "execution_count": 4,
     "metadata": {},
     "output_type": "execute_result"
    }
   ],
   "source": [
    "generate_matrix(10, 10)"
   ]
  },
  {
   "cell_type": "code",
   "execution_count": 5,
   "id": "6e56cb36-4fc7-47d3-8c51-70d2dd214d85",
   "metadata": {},
   "outputs": [],
   "source": [
    "class Counter:\n",
    "    \"\"\"\n",
    "    Zliczanie wykonywanych operacji zmiennoprzecinkowych\n",
    "    \"\"\"\n",
    "    def __init__(self) -> None:\n",
    "        self.operation_counter = 0\n",
    "\n",
    "    def count_operations(func):\n",
    "        def wrapper(self, *args, **kwargs):\n",
    "            A, B = args\n",
    "            result = func(self, A, B)\n",
    "            self.operation_counter += A.size\n",
    "            return result\n",
    "        return wrapper\n",
    "    \n",
    "    @count_operations\n",
    "    def add(self, A: np.ndarray, B: np.ndarray) -> np.ndarray:\n",
    "        return A + B\n",
    "\n",
    "    @count_operations\n",
    "    def sub(self, A: np.ndarray, B: np.ndarray) -> np.ndarray:\n",
    "        return A - B\n",
    "\n",
    "    @count_operations\n",
    "    def mul(self, A: np.ndarray, B: np.ndarray) -> np.ndarray:\n",
    "        return A * B\n",
    "\n",
    "    @count_operations\n",
    "    def div(self, A: np.ndarray, B: np.ndarray) -> np.ndarray:\n",
    "        return A / B\n",
    "\n",
    "    def print_counts(self) -> None:\n",
    "        print(f\"Number of flops: {self.operation_counter}\")"
   ]
  },
  {
   "cell_type": "markdown",
   "id": "0f7d6e6b-7c60-407a-af22-98395e03ede2",
   "metadata": {},
   "source": [
    "Test"
   ]
  },
  {
   "cell_type": "code",
   "execution_count": 6,
   "id": "3423b882-b46c-499c-9b80-fb431fad9600",
   "metadata": {},
   "outputs": [
    {
     "name": "stdout",
     "output_type": "stream",
     "text": [
      "[1 2 3]\n",
      "[1 2 3]\n"
     ]
    }
   ],
   "source": [
    "counter = Counter()\n",
    "\n",
    "result = np.zeros([1, 3])\n",
    "\n",
    "mat1 = np.array([1, 2, 3])\n",
    "mat2 = np.array([1, 2, 3])\n",
    "print(mat1)\n",
    "print(mat2)\n",
    "\n",
    "result += counter.add(mat1, mat2)"
   ]
  },
  {
   "cell_type": "code",
   "execution_count": 7,
   "id": "2b509dc8-ab50-4d9b-94ab-7d7351d540a1",
   "metadata": {},
   "outputs": [
    {
     "name": "stdout",
     "output_type": "stream",
     "text": [
      "Number of flops: 3\n",
      "[[2. 4. 6.]]\n"
     ]
    }
   ],
   "source": [
    "counter.print_counts()\n",
    "print(result)"
   ]
  },
  {
   "cell_type": "markdown",
   "id": "e6f0961c-5409-4dfc-b200-2b9bce8c8f48",
   "metadata": {},
   "source": [
    "Funkcje pomocnicze"
   ]
  },
  {
   "cell_type": "code",
   "execution_count": 8,
   "id": "0af1a04a-ede5-4aba-a9c5-067cb128eab7",
   "metadata": {},
   "outputs": [],
   "source": [
    "def resize_matrix_to_2n(A: np.ndarray, B: np.ndarray) -> Tuple[np.ndarray, np.ndarray]:\n",
    "    \"\"\"\n",
    "    Zmiana wielkości macierzy\n",
    "    \"\"\"\n",
    "    size_A: Tuple[int, int] = A.shape\n",
    "    size_B: Tuple[int, int] = B.shape\n",
    "    new_height: int = 0\n",
    "    new_width: int = 0\n",
    "\n",
    "    # Height\n",
    "    if size_A[0] > size_B[0]:\n",
    "        new_height = find_next_power_of_2(size_A[0])\n",
    "    else:\n",
    "        new_height = find_next_power_of_2(size_B[0])\n",
    "\n",
    "    # Width\n",
    "    if size_A[1] > size_B[1]:\n",
    "        new_width = find_next_power_of_2(size_A[1])\n",
    "    else:\n",
    "        new_width = find_next_power_of_2(size_B[1])\n",
    "\n",
    "    # Wypełnienie zerami\n",
    "    new_A = np.pad(\n",
    "        A, [(0, new_height - size_A[0]), (0, new_width - size_A[1])], mode=\"constant\"\n",
    "    )\n",
    "    new_B = np.pad(\n",
    "        B, [(0, new_height - size_B[0]), (0, new_width - size_B[1])], mode=\"constant\"\n",
    "    )\n",
    "    return new_A, new_B\n",
    "\n",
    "def split(array: np.ndarray, n_rows: int, n_cols: int) -> Tuple:\n",
    "    \"\"\"Split a matrix into sub-matrices\"\"\"\n",
    "    r, h = array.shape\n",
    "    return (\n",
    "        array.reshape(h // n_rows, n_rows, -1, n_cols)\n",
    "        .swapaxes(1, 2)\n",
    "        .reshape(-1, n_rows, n_cols)\n",
    "    )\n",
    "\n",
    "def find_next_power_of_2(number: int) -> int:\n",
    "    \"\"\"\n",
    "    Szukanie kolejnej potęgi 2\n",
    "    \"\"\"\n",
    "    return 1 if number == 0 else 2 ** ceil(log2(number))"
   ]
  },
  {
   "cell_type": "markdown",
   "id": "c8f25a23-9a89-4402-9d6b-597b9f823263",
   "metadata": {},
   "source": [
    "Metoda tradycyjna"
   ]
  },
  {
   "cell_type": "code",
   "execution_count": 9,
   "id": "7666b16d-0d66-4d39-9ca7-379c32338f50",
   "metadata": {},
   "outputs": [],
   "source": [
    "def traditional_method(A: np.ndarray, B: np.ndarray, counter: Counter):\n",
    "    add = counter.add\n",
    "    mul = counter.mul\n",
    "    \n",
    "    rows_A, cols_A = A.shape\n",
    "    rows_B, cols_B = B.shape\n",
    "    \n",
    "    result = np.zeros((rows_A, cols_B))\n",
    "\n",
    "    for i in range(rows_A):\n",
    "        for j in range(cols_B):\n",
    "            for k in range(cols_A):\n",
    "                result[i][j] = add(result[i][j], counter.mul(A[i][k], B[k][j]))\n",
    "    \n",
    "    return result\n"
   ]
  },
  {
   "cell_type": "code",
   "execution_count": 10,
   "id": "0d8d421d-b9bb-4aa0-bb39-05962a79e211",
   "metadata": {},
   "outputs": [
    {
     "name": "stdout",
     "output_type": "stream",
     "text": [
      "[[0.02636207 0.06650458 0.07574876 0.04171637 0.02498195]\n",
      " [0.04632444 0.02195091 0.07884295 0.02705621 0.05394723]\n",
      " [0.01706347 0.03174219 0.04591549 0.07970869 0.05756292]\n",
      " [0.02789136 0.05719917 0.03047754 0.08212854 0.01458759]\n",
      " [0.08095864 0.05152414 0.02325028 0.05193805 0.04702991]]\n",
      "[[0.0992271  0.09749504 0.01317164 0.01252925 0.01812092]\n",
      " [0.08955902 0.04154977 0.07136437 0.07851907 0.06940737]\n",
      " [0.08557724 0.06899847 0.09214873 0.09958419 0.08436272]\n",
      " [0.04540617 0.05786281 0.01774601 0.02932285 0.07245919]\n",
      " [0.06258188 0.04162579 0.03832792 0.06822054 0.07486148]]\n",
      "[[0.01851189 0.01401369 0.01377125 0.01602308 0.01637691]\n",
      " [0.01791434 0.01467965 0.01198978 0.01462916 0.01501344]\n",
      " [0.01568694 0.01315885 0.01034185 0.01354288 0.01647078]\n",
      " [0.01514052 0.01255819 0.00927439 0.01127918 0.01408964]\n",
      " [0.01993897 0.01660105 0.00961008 0.01210672 0.01428877]]\n",
      "[[0.01851189 0.01401369 0.01377125 0.01602308 0.01637691]\n",
      " [0.01791434 0.01467965 0.01198978 0.01462916 0.01501344]\n",
      " [0.01568694 0.01315885 0.01034185 0.01354288 0.01647078]\n",
      " [0.01514052 0.01255819 0.00927439 0.01127918 0.01408964]\n",
      " [0.01993897 0.01660105 0.00961008 0.01210672 0.01428877]]\n",
      "Are the results close: True\n"
     ]
    }
   ],
   "source": [
    "A = generate_matrix(5, 5)\n",
    "B = generate_matrix(5, 5)\n",
    "\n",
    "print(A)\n",
    "print(B)\n",
    "\n",
    "counter = Counter()\n",
    "\n",
    "result_trad = traditional_method(A, B, counter)\n",
    "result_numpy = A @ B\n",
    "\n",
    "print(result_trad)\n",
    "print(result_numpy)\n",
    "\n",
    "print(f\"Are the results close: {np.allclose(result_trad, result_numpy)}\")"
   ]
  },
  {
   "cell_type": "markdown",
   "id": "67eb7e7f-9961-48bd-b6db-e4a604e0481f",
   "metadata": {},
   "source": [
    "Algorytm Bineta"
   ]
  },
  {
   "cell_type": "code",
   "execution_count": 11,
   "id": "46b74bae-5961-4f94-a70a-321284082a0d",
   "metadata": {},
   "outputs": [],
   "source": [
    "def binet_core_algorithm(A: np.ndarray, B: np.ndarray, counter: Counter) -> np.ndarray:\n",
    "    add = counter.add\n",
    "    mul = counter.mul\n",
    "    \n",
    "    if A.size > 1:\n",
    "        split_at = A.shape[0] // 2\n",
    "        A11, A12, A21, A22 = split(A, split_at, split_at)\n",
    "        B11, B12, B21, B22 = split(B, split_at, split_at)\n",
    "\n",
    "        C11 = add(\n",
    "            binet_core_algorithm(A11, B11, counter),\n",
    "            binet_core_algorithm(A12, B21, counter),\n",
    "        )\n",
    "        C12 = add(\n",
    "            binet_core_algorithm(A11, B12, counter),\n",
    "            binet_core_algorithm(A12, B22, counter),\n",
    "        )     \n",
    "        C21 = add(\n",
    "            binet_core_algorithm(A21, B11, counter),\n",
    "            binet_core_algorithm(A22, B21, counter),\n",
    "        )\n",
    "        \n",
    "        C22 = add(\n",
    "            binet_core_algorithm(A21, B12, counter),\n",
    "            binet_core_algorithm(A22, B22, counter),\n",
    "        )\n",
    "\n",
    "        return np.concatenate(\n",
    "            [np.concatenate([C11, C12], axis=1), np.concatenate([C21, C22], axis=1)],\n",
    "            axis=0,\n",
    "        )\n",
    "    \n",
    "    else:\n",
    "        return mul(A, B)\n",
    "\n",
    "def binet_algorithm(A: np.ndarray, B: np.ndarray, counter: Counter) -> np.ndarray:\n",
    "    new_A, new_B = resize_matrix_to_2n(A, B)\n",
    "    C = binet_core_algorithm(new_A, new_B, counter)\n",
    "    C = C[~np.all(C == 0, axis=1)]\n",
    "    C = C[:, ~np.all(C == 0, axis=0)]\n",
    "    return C\n",
    "    "
   ]
  },
  {
   "cell_type": "markdown",
   "id": "6938f252-1543-4002-b961-733a75f93d39",
   "metadata": {},
   "source": [
    "Test algorytmu Bineta"
   ]
  },
  {
   "cell_type": "code",
   "execution_count": 12,
   "id": "931504e1-996f-40d4-aa32-c0bde8c51849",
   "metadata": {},
   "outputs": [
    {
     "name": "stdout",
     "output_type": "stream",
     "text": [
      "[[0.04872124 0.03562613 0.04692897 0.04243675 0.02679173]\n",
      " [0.06004526 0.02789424 0.01277524 0.08791099 0.07669537]\n",
      " [0.0212381  0.04864668 0.02535683 0.03690529 0.01510013]\n",
      " [0.09126622 0.09227132 0.01838232 0.08135846 0.07125156]\n",
      " [0.04221472 0.03682445 0.02135209 0.08212597 0.01315269]]\n",
      "[[0.02038952 0.08867884 0.09993289 0.0862256  0.08126491]\n",
      " [0.09892434 0.09998095 0.07717427 0.01735585 0.0639217 ]\n",
      " [0.02802624 0.01704861 0.09332101 0.02760933 0.02722014]\n",
      " [0.03077038 0.01031763 0.06096494 0.03289272 0.09905449]\n",
      " [0.06566144 0.08233194 0.06458744 0.08398259 0.07190227]]\n",
      "[[0.00889792 0.01132621 0.0163153  0.00976092 0.01364396]\n",
      " [0.01208274 0.01555295 0.01965846 0.01534699 0.02123291]\n",
      " [0.00808312 0.00880341 0.01146819 0.00585772 0.01026708]\n",
      " [0.01868585 0.02433786 0.02751889 0.01863845 0.02699732]\n",
      " [0.00849266 0.00971955 0.01490944 0.00867457 0.01544632]]\n",
      "[[0.00889792 0.01132621 0.0163153  0.00976092 0.01364396]\n",
      " [0.01208274 0.01555295 0.01965846 0.01534699 0.02123291]\n",
      " [0.00808312 0.00880341 0.01146819 0.00585772 0.01026708]\n",
      " [0.01868585 0.02433786 0.02751889 0.01863845 0.02699732]\n",
      " [0.00849266 0.00971955 0.01490944 0.00867457 0.01544632]]\n",
      "Are the results close: True\n"
     ]
    }
   ],
   "source": [
    "A = generate_matrix(5, 5)\n",
    "B = generate_matrix(5, 5)\n",
    "\n",
    "print(A)\n",
    "print(B)\n",
    "\n",
    "counter = Counter()\n",
    "\n",
    "result_binet = binet_algorithm(A, B, counter)\n",
    "result_numpy = A @ B\n",
    "\n",
    "print(result_binet)\n",
    "print(result_numpy)\n",
    "\n",
    "print(f\"Are the results close: {np.allclose(result_binet, result_numpy)}\")"
   ]
  },
  {
   "cell_type": "markdown",
   "id": "9a88000a-c590-4fc3-b9f5-db6e08d602a3",
   "metadata": {},
   "source": [
    "Algorytm Strassena"
   ]
  },
  {
   "cell_type": "code",
   "execution_count": 13,
   "id": "35041912-c08f-474d-84e3-fad21bed9a39",
   "metadata": {},
   "outputs": [],
   "source": [
    "def strassen_core_algorithm(A: np.ndarray, B: np.ndarray, counter: Counter) -> np.ndarray:\n",
    "    add = counter.add\n",
    "    sub = counter.sub\n",
    "    mul = counter.mul\n",
    "\n",
    "    if A.size > 1:\n",
    "        split_at = A.shape[0] // 2\n",
    "        A11, A12, A21, A22 = split(A, split_at, split_at)\n",
    "        B11, B12, B21, B22 = split(B, split_at, split_at)\n",
    "\n",
    "        P1 = strassen_core_algorithm(add(A11, A22), add(B11, B22), counter)\n",
    "        P2 = strassen_core_algorithm(add(A21, A22), B11, counter)\n",
    "        P3 = strassen_core_algorithm(A11, sub(B12, B22), counter)\n",
    "        P4 = strassen_core_algorithm(A22, sub(B21, B11), counter)\n",
    "        P5 = strassen_core_algorithm(add(A11, A12), B22, counter)\n",
    "        P6 = strassen_core_algorithm(sub(A21, A11), add(B11, B12), counter)\n",
    "        P7 = strassen_core_algorithm(sub(A12, A22), add(B21, B22), counter)\n",
    "\n",
    "        C11 = add(sub(add(P1, P4), P5), P7)\n",
    "        C12 = add(P3, P5)\n",
    "        C21 = add(P2, P4)\n",
    "        C22 = add(add(sub(P1, P2), P3), P6)\n",
    "\n",
    "        return np.concatenate(\n",
    "                    [np.concatenate([C11, C12], axis=1), np.concatenate([C21, C22], axis=1)],\n",
    "                    axis=0,\n",
    "                )\n",
    "    else:\n",
    "        return mul(A, B)\n",
    "\n",
    "def strassen_algorithm(A: np.ndarray, B: np.ndarray, counter: Counter) -> np.ndarray:\n",
    "    new_A, new_B = resize_matrix_to_2n(A, B)\n",
    "    C = strassen_core_algorithm(new_A, new_B, counter)\n",
    "    C = C[~np.all(C == 0, axis=1)]\n",
    "    C = C[:, ~np.all(C == 0, axis=0)]\n",
    "    return C\n",
    "    "
   ]
  },
  {
   "cell_type": "markdown",
   "id": "b36cd20d-556b-4f99-914e-9fa5b9271880",
   "metadata": {},
   "source": [
    "Test algorytmu Strassena"
   ]
  },
  {
   "cell_type": "code",
   "execution_count": 14,
   "id": "5ced2299-927a-4323-99e9-32e49c2dd8fc",
   "metadata": {},
   "outputs": [
    {
     "name": "stdout",
     "output_type": "stream",
     "text": [
      "[[0.07684033 0.05421408]\n",
      " [0.04341572 0.04408721]]\n",
      "[[0.02726801 0.07786187]\n",
      " [0.04387846 0.08326249]]\n",
      "[[0.00447411 0.01049693]\n",
      " [0.00311834 0.00705124]]\n",
      "[[0.00447411 0.01049693]\n",
      " [0.00311834 0.00705124]]\n",
      "Are the results close: True\n",
      "Number of flops: 25\n"
     ]
    }
   ],
   "source": [
    "A = generate_matrix(2, 2)\n",
    "B = generate_matrix(2, 2)\n",
    "\n",
    "print(A)\n",
    "print(B)\n",
    "\n",
    "counter = Counter()\n",
    "\n",
    "result_strassen = strassen_algorithm(A, B, counter)\n",
    "result_numpy = A @ B\n",
    "\n",
    "print(result_strassen)\n",
    "print(result_numpy)\n",
    "\n",
    "print(f\"Are the results close: {np.allclose(result_strassen, result_numpy)}\")\n",
    "\n",
    "counter.print_counts()"
   ]
  },
  {
   "cell_type": "code",
   "execution_count": 15,
   "id": "df6f6ff2-f624-44d2-a998-d52ca9406ecd",
   "metadata": {},
   "outputs": [],
   "source": [
    "import matplotlib.pyplot as plt\n",
    "from time import time\n",
    "from matplotlib.ticker import FormatStrFormatter\n",
    "from typing import List\n",
    "from tqdm import tqdm\n",
    "\n",
    "times_trad: List[float] = []\n",
    "times_binet: List[float] = []\n",
    "times_strassen: List[float] = []\n",
    "\n",
    "flops_trad: List[int] = []\n",
    "flops_binet: List[int] = []\n",
    "flops_strassen: List[int] = []\n",
    "\n",
    "power_basis = list(range(2, 10))\n",
    "powers = [2**k for k in power_basis]\n",
    "\n",
    "np.random.seed(42)"
   ]
  },
  {
   "cell_type": "code",
   "execution_count": 16,
   "id": "6c7a85c2-81e7-4cfa-9eef-1d04ae046aaa",
   "metadata": {},
   "outputs": [
    {
     "name": "stderr",
     "output_type": "stream",
     "text": [
      "100%|██████████| 8/8 [03:25<00:00, 25.68s/it]\n"
     ]
    }
   ],
   "source": [
    "for k in tqdm(power_basis):\n",
    "    A = np.random.rand(2**k, 2**k)\n",
    "    B = np.random.rand(2**k, 2**k)\n",
    "\n",
    "    counter = Counter()\n",
    "    start_time: float = time()\n",
    "\n",
    "    traditional_method(A, B, counter)\n",
    "\n",
    "    total_time: float = time() - start_time\n",
    "\n",
    "    times_trad.append(total_time)\n",
    "    flops_trad.append(counter.operation_counter)"
   ]
  },
  {
   "cell_type": "code",
   "execution_count": 17,
   "id": "bb54396a-39f9-44f0-a502-2af111d7e6eb",
   "metadata": {},
   "outputs": [
    {
     "name": "stdout",
     "output_type": "stream",
     "text": [
      "268435456\n"
     ]
    },
    {
     "data": {
      "image/png": "[encoded data removed]",
      "text/plain": [
       "<Figure size 640x480 with 1 Axes>"
      ]
     },
     "metadata": {},
     "output_type": "display_data"
    }
   ],
   "source": [
    "plt.gca().yaxis.set_major_formatter(FormatStrFormatter(\"%d s\"))\n",
    "plt.xlabel(\"Rozmiar macierzy\")\n",
    "plt.ylabel(\"Czas\")\n",
    "plt.plot(powers, times_trad)\n",
    "\n",
    "print(counter.operation_counter)"
   ]
  },
  {
   "cell_type": "code",
   "execution_count": 18,
   "id": "171eceb2-aadc-4a8a-a69b-2f1782c90723",
   "metadata": {},
   "outputs": [
    {
     "name": "stderr",
     "output_type": "stream",
     "text": [
      "100%|██████████| 8/8 [07:08<00:00, 53.53s/it]\n"
     ]
    }
   ],
   "source": [
    "for k in tqdm(power_basis):\n",
    "    A = np.random.rand(2**k, 2**k)\n",
    "    B = np.random.rand(2**k, 2**k)\n",
    "\n",
    "    counter = Counter()\n",
    "    start_time: float = time()\n",
    "\n",
    "    binet_algorithm(A, B, counter)\n",
    "\n",
    "    total_time: float = time() - start_time\n",
    "\n",
    "    times_binet.append(total_time)\n",
    "    flops_binet.append(counter.operation_counter)"
   ]
  },
  {
   "cell_type": "code",
   "execution_count": 19,
   "id": "c6b94125-807d-4a50-9c8c-46abdb8f8c49",
   "metadata": {},
   "outputs": [
    {
     "name": "stdout",
     "output_type": "stream",
     "text": [
      "268173312\n"
     ]
    },
    {
     "data": {
      "image/png": "[encoded data removed]",
      "text/plain": [
       "<Figure size 640x480 with 1 Axes>"
      ]
     },
     "metadata": {},
     "output_type": "display_data"
    }
   ],
   "source": [
    "plt.gca().yaxis.set_major_formatter(FormatStrFormatter(\"%d s\"))\n",
    "plt.xlabel(\"Rozmiar macierzy\")\n",
    "plt.ylabel(\"Czas\")\n",
    "plt.plot(powers, times_binet)\n",
    "\n",
    "print(counter.operation_counter)"
   ]
  },
  {
   "cell_type": "code",
   "execution_count": 20,
   "id": "1d45026d-1d25-44e8-8c63-4ed355fb8ceb",
   "metadata": {},
   "outputs": [
    {
     "name": "stderr",
     "output_type": "stream",
     "text": [
      "100%|██████████| 8/8 [03:55<00:00, 29.46s/it]\n"
     ]
    }
   ],
   "source": [
    "for k in tqdm(power_basis):\n",
    "    A = np.random.rand(2**k, 2**k)\n",
    "    B = np.random.rand(2**k, 2**k)\n",
    "\n",
    "    counter = Counter()\n",
    "    start_time: float = time()\n",
    "\n",
    "    strassen_algorithm(A, B, counter)\n",
    "\n",
    "    total_time: float = time() - start_time\n",
    "\n",
    "    times_strassen.append(total_time)\n",
    "    flops_strassen.append(counter.operation_counter)"
   ]
  },
  {
   "cell_type": "code",
   "execution_count": 21,
   "id": "0ebbc398-537f-46b9-94c5-c9f4356d1efc",
   "metadata": {},
   "outputs": [
    {
     "name": "stdout",
     "output_type": "stream",
     "text": [
      "[0.0027573108673095703, 0.005704641342163086, 0.01666092872619629, 0.08771181106567383, 0.5952401161193848, 4.148430347442627, 29.262978315353394, 201.56494140625]\n"
     ]
    }
   ],
   "source": [
    "print(times_strassen)"
   ]
  },
  {
   "cell_type": "code",
   "execution_count": 22,
   "id": "72a8ca60-4635-496f-8ceb-d7d44ae922c0",
   "metadata": {},
   "outputs": [
    {
     "data": {
      "text/plain": [
       "[<matplotlib.lines.Line2D at 0x7fcbf55970d0>]"
      ]
     },
     "execution_count": 22,
     "metadata": {},
     "output_type": "execute_result"
    },
    {
     "data": {
      "image/png": "[encoded data removed]",
      "text/plain": [
       "<Figure size 640x480 with 1 Axes>"
      ]
     },
     "metadata": {},
     "output_type": "display_data"
    }
   ],
   "source": [
    "plt.gca().yaxis.set_major_formatter(FormatStrFormatter(\"%d s\"))\n",
    "plt.xlabel(\"Rozmiar macierzy\")\n",
    "plt.ylabel(\"Czas\")\n",
    "plt.plot(powers, times_strassen)\n"
   ]
  },
  {
   "cell_type": "code",
   "execution_count": 26,
   "id": "1a0f126d-9d1b-46ad-81bd-0531adc3d3ed",
   "metadata": {},
   "outputs": [
    {
     "name": "stdout",
     "output_type": "stream",
     "text": [
      "Czas przemnażania dwóch macierzy o wymiarach 512x512 metodą tradycyjną: 177.09 sekund\n",
      "Czas przemnażania dwóch macierzy o wymiarach 512x512 metodą Bineta: 378.46 sekund\n",
      "Czas przemnażania dwóch macierzy o wymiarach 512x512 metodą Strassena: 208.07 sekund\n"
     ]
    }
   ],
   "source": [
    "print(f\"Czas przemnażania dwóch macierzy o wymiarach {powers[-1]}x{powers[-1]} metodą tradycyjną: {times_trad[-1]:.2f} sekund\")\n",
    "print(f\"Czas przemnażania dwóch macierzy o wymiarach {powers[-1]}x{powers[-1]} metodą Bineta: {times_binet[-1]:.2f} sekund\")\n",
    "print(f\"Czas przemnażania dwóch macierzy o wymiarach {powers[-1]}x{powers[-1]} metodą Strassena: {times_strassen[-1]:.2f} sekund\")"
   ]
  },
  {
   "cell_type": "code",
   "execution_count": 27,
   "id": "0c03caf4-6b6d-47d3-8762-baf1a00d12ff",
   "metadata": {},
   "outputs": [
    {
     "name": "stdout",
     "output_type": "stream",
     "text": [
      "Ilość operacji zmniennoprzecinkowych wykonanych podczas przemnażania dwóch macierzy o wymiarach 512x512 metodą tradycyjną: 268435456\n",
      "Ilość operacji zmniennoprzecinkowych wykonanych podczas przemnażania dwóch macierzy o wymiarach 512x512 metodą Bineta: 268173312\n",
      "Ilość operacji zmniennoprzecinkowych wykonanych podczas przemnażania dwóch macierzy o wymiarach 512x512 metodą Strassena: 280902385\n"
     ]
    }
   ],
   "source": [
    "print(f\"Ilość operacji zmniennoprzecinkowych wykonanych podczas przemnażania dwóch macierzy o wymiarach {powers[-1]}x{powers[-1]} metodą tradycyjną: {flops_trad[-1]}\")\n",
    "print(f\"Ilość operacji zmniennoprzecinkowych wykonanych podczas przemnażania dwóch macierzy o wymiarach {powers[-1]}x{powers[-1]} metodą Bineta: {flops_binet[-1]}\")\n",
    "print(f\"Ilość operacji zmniennoprzecinkowych wykonanych podczas przemnażania dwóch macierzy o wymiarach {powers[-1]}x{powers[-1]} metodą Strassena: {flops_strassen[-1]}\")"
   ]
  },
  {
   "cell_type": "code",
   "execution_count": null,
   "id": "70d79990-b4e7-4f8a-a8d9-46b07782bce2",
   "metadata": {},
   "outputs": [],
   "source": []
  }
 ],
 "metadata": {
  "kernelspec": {
   "display_name": "Python 3 (ipykernel)",
   "language": "python",
   "name": "python3"
  },
  "language_info": {
   "codemirror_mode": {
    "name": "ipython",
    "version": 3
   },
   "file_extension": ".py",
   "mimetype": "text/x-python",
   "name": "python",
   "nbconvert_exporter": "python",
   "pygments_lexer": "ipython3",
   "version": "3.10.4"
  }
 },
 "nbformat": 4,
 "nbformat_minor": 5
}
